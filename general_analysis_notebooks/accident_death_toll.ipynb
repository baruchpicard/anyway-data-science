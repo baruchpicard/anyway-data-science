{
 "cells": [
  {
   "cell_type": "code",
   "execution_count": 1,
   "metadata": {},
   "outputs": [],
   "source": [
    "import pandas as pd\n",
    "%matplotlib inline"
   ]
  },
  {
   "cell_type": "code",
   "execution_count": 2,
   "metadata": {},
   "outputs": [],
   "source": [
    "csv_path = '../views_and_main_tables/involved.csv'\n",
    "df = pd.read_csv(csv_path)"
   ]
  },
  {
   "cell_type": "code",
   "execution_count": 3,
   "metadata": {},
   "outputs": [
    {
     "name": "stdout",
     "output_type": "stream",
     "text": [
      "accident_year\n"
     ]
    }
   ],
   "source": [
    "def show_cols_with(string):\n",
    "    \n",
    "    for col in sorted(df.columns):\n",
    "\n",
    "        if string not in col:\n",
    "            continue\n",
    "\n",
    "        print(col)\n",
    "\n",
    "show_cols_with('year')"
   ]
  },
  {
   "cell_type": "code",
   "execution_count": 4,
   "metadata": {},
   "outputs": [
    {
     "data": {
      "image/png": "[encoded data removed]",
      "text/plain": [
       "<Figure size 432x288 with 1 Axes>"
      ]
     },
     "metadata": {
      "needs_background": "light"
     },
     "output_type": "display_data"
    }
   ],
   "source": [
    "# Query the data\n",
    "\n",
    "sr = df[df.injury_severity == 1].accident_year.value_counts().sort_index()\n",
    "\n",
    "\n",
    "# Plot the query results (according to 2017 report)\n",
    "\n",
    "ax = sr.plot.line(\n",
    "\n",
    "    title=''.join(reversed('הרוגים בתאונות דרכים')),\n",
    "    color='blue',\n",
    "    \n",
    "    xlim=(\n",
    "        sr.index[ 0] - 1,\n",
    "        sr.index[-1] + 1,\n",
    "    ),\n",
    "    ylim=(0, sr.max() * 1.2),\n",
    "    \n",
    "    xticks=sr.index[[0, -1]],\n",
    "    yticks=[0, 500],\n",
    "\n",
    ")\n",
    "\n",
    "\n",
    "# Annotate the plot\n",
    "\n",
    "val_range = sr.max() - sr.min()\n",
    "\n",
    "for year, val in sr[[2008, 2017, 2019]].items():\n",
    "    ax.annotate(val, xy=(year - .5, val + .05 * val_range));\n"
   ]
  },
  {
   "cell_type": "code",
   "execution_count": null,
   "metadata": {},
   "outputs": [],
   "source": []
  }
 ],
 "metadata": {
  "kernelspec": {
   "display_name": "Python 3",
   "language": "python",
   "name": "python3"
  },
  "language_info": {
   "codemirror_mode": {
    "name": "ipython",
    "version": 3
   },
   "file_extension": ".py",
   "mimetype": "text/x-python",
   "name": "python",
   "nbconvert_exporter": "python",
   "pygments_lexer": "ipython3",
   "version": "3.6.6"
  }
 },
 "nbformat": 4,
 "nbformat_minor": 4
}
