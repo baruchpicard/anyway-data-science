{
 "cells": [
  {
   "cell_type": "markdown",
   "metadata": {},
   "source": [
    "## Imports"
   ]
  },
  {
   "cell_type": "code",
   "execution_count": 1,
   "metadata": {},
   "outputs": [],
   "source": [
    "# note: must run in virtual environment\n",
    "import os\n",
    "import sys\n",
    "venv_path = os.environ['VIRTUAL_ENV']\n",
    "sys.path.append(os.path.join(os.environ['VIRTUAL_ENV'], \"lib\\site-packages\"))"
   ]
  },
  {
   "cell_type": "code",
   "execution_count": 2,
   "metadata": {},
   "outputs": [],
   "source": [
    "import numpy as np\n",
    "import matplotlib.pyplot as plt\n",
    "import pandas as pd\n",
    "from scipy import stats\n",
    "%matplotlib inline"
   ]
  },
  {
   "cell_type": "markdown",
   "metadata": {},
   "source": [
    "## Consts"
   ]
  },
  {
   "cell_type": "code",
   "execution_count": 3,
   "metadata": {},
   "outputs": [],
   "source": [
    "PROVIDER_AND_ID = \"provider_and_id\"\n",
    "CITY = \"accident_yishuv_name\"\n",
    "LAT = \"latitude\"\n",
    "LONG = \"longitude\"\n",
    "X = \"x\"\n",
    "Y = \"y\""
   ]
  },
  {
   "cell_type": "markdown",
   "metadata": {},
   "source": [
    "## Load data"
   ]
  },
  {
   "cell_type": "code",
   "execution_count": 4,
   "metadata": {},
   "outputs": [
    {
     "name": "stderr",
     "output_type": "stream",
     "text": [
      "c:\\users\\asya\\appdata\\local\\programs\\python\\python37\\lib\\site-packages\\IPython\\core\\interactiveshell.py:3051: DtypeWarning: Columns (36,38,40,44,91,93,130,144,153) have mixed types. Specify dtype option on import or set low_memory=False.\n",
      "  interactivity=interactivity, compiler=compiler, result=result)\n"
     ]
    }
   ],
   "source": [
    "csv_path = \"involved_markers_hebrew.csv\"\n",
    "data = pd.read_csv(csv_path)"
   ]
  },
  {
   "cell_type": "code",
   "execution_count": 6,
   "metadata": {},
   "outputs": [],
   "source": [
    "# get only relevant data\n",
    "filtered = data[[PROVIDER_AND_ID, CITY, LAT, LONG, X, Y]].drop_duplicates()"
   ]
  },
  {
   "cell_type": "markdown",
   "metadata": {},
   "source": [
    "## Find outliers by zscore"
   ]
  },
  {
   "cell_type": "code",
   "execution_count": 170,
   "metadata": {},
   "outputs": [],
   "source": [
    "def calc_outliers_for_city(data, zscore_thresh, min_sample_size):\n",
    "    coords = data[[X, Y]].dropna()\n",
    "    \n",
    "    # check if sample size is big enough for the statistic calculation\n",
    "    if len(coords.drop_duplicates()) <= min_sample_size:\n",
    "        return []\n",
    "    \n",
    "    # calculate zscores for each column\n",
    "    zscores = stats.zscore(coords, axis = 0)\n",
    "    zscores = np.nan_to_num(zscores)\n",
    "    zscores = np.abs(zscores)\n",
    "    # get indices to outliers\n",
    "    outliers = np.argwhere(zscores > zscore_thresh)\n",
    "    outlier_rows = np.unique(outliers[:,0])\n",
    "    if len(outliers) > 0:\n",
    "        outlier_rows = data.iloc[outlier_rows]\n",
    "        return outlier_rows[[PROVIDER_AND_ID, CITY, LAT, LONG, X, Y]]\n",
    "    return []\n",
    "\n",
    "def get_outliers_by_z_scores(data, zscore_thresh, min_sample_size = 0):\n",
    "    res = []\n",
    "    for city, rows in data.groupby(CITY):\n",
    "        outliers = calc_outliers_for_city(rows, zscore_thresh, min_sample_size)\n",
    "        if len(outliers) > 0:\n",
    "            res.append(outliers)\n",
    "    return pd.concat(res)"
   ]
  },
  {
   "cell_type": "markdown",
   "metadata": {},
   "source": [
    "## Visualize effect of different thresholds"
   ]
  },
  {
   "cell_type": "code",
   "execution_count": 107,
   "metadata": {},
   "outputs": [
    {
     "data": {
      "image/png": "[encoded data removed]",
      "text/plain": [
       "<Figure size 432x288 with 1 Axes>"
      ]
     },
     "metadata": {
      "needs_background": "light"
     },
     "output_type": "display_data"
    },
    {
     "data": {
      "image/png": "[encoded data removed]",
      "text/plain": [
       "<Figure size 432x288 with 1 Axes>"
      ]
     },
     "metadata": {
      "needs_background": "light"
     },
     "output_type": "display_data"
    }
   ],
   "source": [
    "def plot_outliers_by_thresh(low, high):\n",
    "    threshs = range(low, high+1)\n",
    "    num_outliers = []\n",
    "    for i in threshs:\n",
    "        outliers = get_outliers_by_z_scores(filtered, i)\n",
    "        num_outliers.append(len(outliers))\n",
    "    plt.title(\"Number of outliers by threshold value\")\n",
    "    plt.plot(threshs, num_outliers)\n",
    "    plt.show()\n",
    "        \n",
    "plot_outliers_by_thresh(3,10)\n",
    "plot_outliers_by_thresh(7,15)"
   ]
  },
  {
   "cell_type": "markdown",
   "metadata": {},
   "source": [
    "## Pick threshold and minimum sample size"
   ]
  },
  {
   "cell_type": "code",
   "execution_count": 166,
   "metadata": {},
   "outputs": [],
   "source": [
    "ZSCORE_THRESH = 10\n",
    "MIN_SAMPLE_SIZE = 100"
   ]
  },
  {
   "cell_type": "markdown",
   "metadata": {},
   "source": [
    "## Save output"
   ]
  },
  {
   "cell_type": "code",
   "execution_count": 171,
   "metadata": {},
   "outputs": [],
   "source": [
    "outliers = get_outliers_by_z_scores(filtered, ZSCORE_THRESH, MIN_SAMPLE_SIZE)\n",
    "outliers.to_csv(\"outlier_points.csv\", header=True, index=False, encoding='utf-8')"
   ]
  },
  {
   "cell_type": "markdown",
   "metadata": {},
   "source": [
    "## Explore results"
   ]
  },
  {
   "cell_type": "code",
   "execution_count": null,
   "metadata": {},
   "outputs": [],
   "source": [
    "def plot_city(data, city_name):\n",
    "    city_data = data.loc[data[CITY] == city_name]\n",
    "    outliers = calc_outliers_for_city(city_data, ZSCORE_THRESH, MIN_SAMPLE_SIZE)\n",
    "    fig, (ax1, ax2) = plt.subplots(nrows = 2, ncols = 1, figsize=(15,15))\n",
    "    ax1.plot(city_data[Y], city_data[X], \"o\")\n",
    "    ax2.plot(city_data[LAT], city_data[LONG], \"o\")\n",
    "    if len(outliers) > 0:\n",
    "        ax1.plot(outliers[Y], outliers[X], \"ro\")\n",
    "        ax2.plot(outliers[LAT], outliers[LONG], \"ro\")\n",
    "    fig.show()\n",
    "    \n",
    "plot_city(filtered, \"נצרת עילית\")"
   ]
  }
 ],
 "metadata": {
  "kernelspec": {
   "display_name": "Python 3",
   "language": "python",
   "name": "python3"
  },
  "language_info": {
   "codemirror_mode": {
    "name": "ipython",
    "version": 3
   },
   "file_extension": ".py",
   "mimetype": "text/x-python",
   "name": "python",
   "nbconvert_exporter": "python",
   "pygments_lexer": "ipython3",
   "version": "3.7.5"
  }
 },
 "nbformat": 4,
 "nbformat_minor": 2
}
