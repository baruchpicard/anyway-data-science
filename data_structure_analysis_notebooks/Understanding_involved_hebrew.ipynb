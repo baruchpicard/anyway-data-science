{
 "cells": [
  {
   "cell_type": "markdown",
   "metadata": {},
   "source": [
    "## Based on data generated on Apr 9, 2019"
   ]
  },
  {
   "cell_type": "markdown",
   "metadata": {},
   "source": [
    "# General setup"
   ]
  },
  {
   "cell_type": "code",
   "execution_count": 1,
   "metadata": {},
   "outputs": [],
   "source": [
    "import numpy as np\n",
    "import pandas as pd\n",
    "import matplotlib.pyplot as plt\n",
    "import seaborn as sns\n",
    "sns.set()\n",
    "%matplotlib inline"
   ]
  },
  {
   "cell_type": "code",
   "execution_count": 2,
   "metadata": {},
   "outputs": [],
   "source": [
    "pd.options.display.max_columns = 150"
   ]
  },
  {
   "cell_type": "code",
   "execution_count": 3,
   "metadata": {},
   "outputs": [
    {
     "name": "stderr",
     "output_type": "stream",
     "text": [
      "C:\\Users\\rkrichev\\AppData\\Local\\Continuum\\anaconda3\\lib\\site-packages\\IPython\\core\\interactiveshell.py:3049: DtypeWarning: Columns (35,37,39,43) have mixed types. Specify dtype option on import or set low_memory=False.\n",
      "  interactivity=interactivity, compiler=compiler, result=result)\n"
     ]
    }
   ],
   "source": [
    "involved_hebrew = pd.read_csv('involved_hebrew.csv')"
   ]
  },
  {
   "cell_type": "markdown",
   "metadata": {},
   "source": [
    "# General info"
   ]
  },
  {
   "cell_type": "code",
   "execution_count": 4,
   "metadata": {},
   "outputs": [
    {
     "name": "stdout",
     "output_type": "stream",
     "text": [
      "<class 'pandas.core.frame.DataFrame'>\n",
      "RangeIndex: 1678965 entries, 0 to 1678964\n",
      "Data columns (total 50 columns):\n",
      "accident_id                     1678965 non-null int64\n",
      "provider_and_id                 1678965 non-null int64\n",
      "provider_code                   1678965 non-null int64\n",
      "involved_type                   1678965 non-null int64\n",
      "involved_type_hebrew            1678965 non-null object\n",
      "license_acquiring_date          1678965 non-null int64\n",
      "age_group                       1678965 non-null int64\n",
      "age_group_hebrew                1678965 non-null object\n",
      "sex                             1326427 non-null float64\n",
      "sex_hebrew                      1326427 non-null object\n",
      "vehicle_type                    1586817 non-null float64\n",
      "vehicle_type_hebrew             1586817 non-null object\n",
      "safety_measures                 1678923 non-null float64\n",
      "safety_measures_hebrew          1678923 non-null object\n",
      "involve_yishuv_symbol           1310620 non-null float64\n",
      "involve_yishuv_name             1308663 non-null object\n",
      "injury_severity                 1049205 non-null float64\n",
      "injury_severity_hebrew          1049205 non-null object\n",
      "injured_type                    1049203 non-null float64\n",
      "injured_type_hebrew             1049203 non-null object\n",
      "injured_position                1678964 non-null float64\n",
      "injured_position_hebrew         1678964 non-null object\n",
      "population_type                 1678942 non-null float64\n",
      "population_type_hebrew          1678942 non-null object\n",
      "home_region                     1310614 non-null float64\n",
      "home_region_hebrew              1310614 non-null object\n",
      "home_district                   1678965 non-null int64\n",
      "home_district_hebrew            1310614 non-null object\n",
      "home_natural_area               1310614 non-null float64\n",
      "home_natural_area_hebrew        1303376 non-null object\n",
      "home_municipal_status           328912 non-null float64\n",
      "home_municipal_status_hebrew    328912 non-null object\n",
      "home_residence_type             1310614 non-null float64\n",
      "home_residence_type_hebrew      1310611 non-null object\n",
      "hospital_time                   52514 non-null float64\n",
      "hospital_time_hebrew            52514 non-null object\n",
      "medical_type                    52514 non-null float64\n",
      "medical_type_hebrew             52514 non-null object\n",
      "release_dest                    52514 non-null float64\n",
      "release_dest_hebrew             52514 non-null object\n",
      "safety_measures_use             57644 non-null float64\n",
      "safety_measures_use_hebrew      57644 non-null object\n",
      "late_deceased                   3972 non-null float64\n",
      "late_deceased_hebrew            3972 non-null object\n",
      "car_id                          1586817 non-null float64\n",
      "involve_id                      1678965 non-null int64\n",
      "accident_year                   1678965 non-null int64\n",
      "accident_month                  1678965 non-null int64\n",
      "injury_severity_mais            0 non-null float64\n",
      "injury_severity_mais_hebrew     0 non-null float64\n",
      "dtypes: float64(20), int64(10), object(20)\n",
      "memory usage: 640.5+ MB\n"
     ]
    }
   ],
   "source": [
    "involved_hebrew.info()"
   ]
  },
  {
   "cell_type": "code",
   "execution_count": 5,
   "metadata": {},
   "outputs": [
    {
     "data": {
      "text/html": [
       "<div>\n",
       "<style scoped>\n",
       "    .dataframe tbody tr th:only-of-type {\n",
       "        vertical-align: middle;\n",
       "    }\n",
       "\n",
       "    .dataframe tbody tr th {\n",
       "        vertical-align: top;\n",
       "    }\n",
       "\n",
       "    .dataframe thead th {\n",
       "        text-align: right;\n",
       "    }\n",
       "</style>\n",
       "<table border=\"1\" class=\"dataframe\">\n",
       "  <thead>\n",
       "    <tr style=\"text-align: right;\">\n",
       "      <th></th>\n",
       "      <th>accident_id</th>\n",
       "      <th>provider_and_id</th>\n",
       "      <th>provider_code</th>\n",
       "      <th>involved_type</th>\n",
       "      <th>license_acquiring_date</th>\n",
       "      <th>age_group</th>\n",
       "      <th>sex</th>\n",
       "      <th>vehicle_type</th>\n",
       "      <th>safety_measures</th>\n",
       "      <th>involve_yishuv_symbol</th>\n",
       "      <th>injury_severity</th>\n",
       "      <th>injured_type</th>\n",
       "      <th>injured_position</th>\n",
       "      <th>population_type</th>\n",
       "      <th>home_region</th>\n",
       "      <th>home_district</th>\n",
       "      <th>home_natural_area</th>\n",
       "      <th>home_municipal_status</th>\n",
       "      <th>home_residence_type</th>\n",
       "      <th>hospital_time</th>\n",
       "      <th>medical_type</th>\n",
       "      <th>release_dest</th>\n",
       "      <th>safety_measures_use</th>\n",
       "      <th>late_deceased</th>\n",
       "      <th>car_id</th>\n",
       "      <th>involve_id</th>\n",
       "      <th>accident_year</th>\n",
       "      <th>accident_month</th>\n",
       "      <th>injury_severity_mais</th>\n",
       "      <th>injury_severity_mais_hebrew</th>\n",
       "    </tr>\n",
       "  </thead>\n",
       "  <tbody>\n",
       "    <tr>\n",
       "      <th>count</th>\n",
       "      <td>1.678965e+06</td>\n",
       "      <td>1.678965e+06</td>\n",
       "      <td>1.678965e+06</td>\n",
       "      <td>1.678965e+06</td>\n",
       "      <td>1.678965e+06</td>\n",
       "      <td>1.678965e+06</td>\n",
       "      <td>1.326427e+06</td>\n",
       "      <td>1.586817e+06</td>\n",
       "      <td>1.678923e+06</td>\n",
       "      <td>1.310620e+06</td>\n",
       "      <td>1.049205e+06</td>\n",
       "      <td>1.049203e+06</td>\n",
       "      <td>1.678964e+06</td>\n",
       "      <td>1.678942e+06</td>\n",
       "      <td>1.310614e+06</td>\n",
       "      <td>1.678965e+06</td>\n",
       "      <td>1.310614e+06</td>\n",
       "      <td>328912.000000</td>\n",
       "      <td>1.310614e+06</td>\n",
       "      <td>52514.000000</td>\n",
       "      <td>52514.000000</td>\n",
       "      <td>52514.000000</td>\n",
       "      <td>57644.000000</td>\n",
       "      <td>3972.000000</td>\n",
       "      <td>1.586817e+06</td>\n",
       "      <td>1.678965e+06</td>\n",
       "      <td>1.678965e+06</td>\n",
       "      <td>1.678965e+06</td>\n",
       "      <td>0.0</td>\n",
       "      <td>0.0</td>\n",
       "    </tr>\n",
       "    <tr>\n",
       "      <th>mean</th>\n",
       "      <td>2.012707e+09</td>\n",
       "      <td>2.705987e+10</td>\n",
       "      <td>2.504716e+00</td>\n",
       "      <td>1.871149e+00</td>\n",
       "      <td>1.101455e+03</td>\n",
       "      <td>2.732633e+01</td>\n",
       "      <td>1.382718e+00</td>\n",
       "      <td>3.973413e+00</td>\n",
       "      <td>4.190374e+00</td>\n",
       "      <td>4.385316e+03</td>\n",
       "      <td>2.973031e+00</td>\n",
       "      <td>2.586740e+00</td>\n",
       "      <td>4.884486e+00</td>\n",
       "      <td>1.261285e+00</td>\n",
       "      <td>3.735065e+00</td>\n",
       "      <td>5.253919e+01</td>\n",
       "      <td>3.970584e+02</td>\n",
       "      <td>78.788877</td>\n",
       "      <td>1.790069e+01</td>\n",
       "      <td>1.678257</td>\n",
       "      <td>1.666775</td>\n",
       "      <td>1.304167</td>\n",
       "      <td>1.514312</td>\n",
       "      <td>1.036757</td>\n",
       "      <td>1.486035e+00</td>\n",
       "      <td>1.945111e+00</td>\n",
       "      <td>2.012665e+03</td>\n",
       "      <td>6.423790e+00</td>\n",
       "      <td>NaN</td>\n",
       "      <td>NaN</td>\n",
       "    </tr>\n",
       "    <tr>\n",
       "      <th>std</th>\n",
       "      <td>3.203520e+06</td>\n",
       "      <td>8.632861e+09</td>\n",
       "      <td>8.632855e-01</td>\n",
       "      <td>7.776397e-01</td>\n",
       "      <td>9.925499e+02</td>\n",
       "      <td>3.734404e+01</td>\n",
       "      <td>4.860504e-01</td>\n",
       "      <td>5.328324e+00</td>\n",
       "      <td>1.576453e+00</td>\n",
       "      <td>3.103903e+03</td>\n",
       "      <td>1.831252e-01</td>\n",
       "      <td>1.238693e+00</td>\n",
       "      <td>3.511086e+00</td>\n",
       "      <td>5.267109e-01</td>\n",
       "      <td>1.625473e+00</td>\n",
       "      <td>2.844132e+01</td>\n",
       "      <td>1.608121e+02</td>\n",
       "      <td>32.953161</td>\n",
       "      <td>6.893507e+00</td>\n",
       "      <td>0.467149</td>\n",
       "      <td>1.112918</td>\n",
       "      <td>0.781971</td>\n",
       "      <td>0.820254</td>\n",
       "      <td>0.188189</td>\n",
       "      <td>6.383036e-01</td>\n",
       "      <td>1.373073e+00</td>\n",
       "      <td>3.198939e+00</td>\n",
       "      <td>3.413110e+00</td>\n",
       "      <td>NaN</td>\n",
       "      <td>NaN</td>\n",
       "    </tr>\n",
       "    <tr>\n",
       "      <th>min</th>\n",
       "      <td>2.008000e+09</td>\n",
       "      <td>1.200800e+10</td>\n",
       "      <td>1.000000e+00</td>\n",
       "      <td>1.000000e+00</td>\n",
       "      <td>0.000000e+00</td>\n",
       "      <td>1.000000e+00</td>\n",
       "      <td>1.000000e+00</td>\n",
       "      <td>1.000000e+00</td>\n",
       "      <td>1.000000e+00</td>\n",
       "      <td>7.000000e+00</td>\n",
       "      <td>1.000000e+00</td>\n",
       "      <td>1.000000e+00</td>\n",
       "      <td>1.000000e+00</td>\n",
       "      <td>1.000000e+00</td>\n",
       "      <td>1.000000e+00</td>\n",
       "      <td>1.100000e+01</td>\n",
       "      <td>1.110000e+02</td>\n",
       "      <td>1.000000</td>\n",
       "      <td>9.000000e+00</td>\n",
       "      <td>1.000000</td>\n",
       "      <td>1.000000</td>\n",
       "      <td>1.000000</td>\n",
       "      <td>1.000000</td>\n",
       "      <td>1.000000</td>\n",
       "      <td>1.000000e+00</td>\n",
       "      <td>1.000000e+00</td>\n",
       "      <td>2.008000e+03</td>\n",
       "      <td>1.000000e+00</td>\n",
       "      <td>NaN</td>\n",
       "      <td>NaN</td>\n",
       "    </tr>\n",
       "    <tr>\n",
       "      <th>25%</th>\n",
       "      <td>2.010022e+09</td>\n",
       "      <td>3.200800e+10</td>\n",
       "      <td>3.000000e+00</td>\n",
       "      <td>1.000000e+00</td>\n",
       "      <td>0.000000e+00</td>\n",
       "      <td>6.000000e+00</td>\n",
       "      <td>1.000000e+00</td>\n",
       "      <td>1.000000e+00</td>\n",
       "      <td>5.000000e+00</td>\n",
       "      <td>1.139000e+03</td>\n",
       "      <td>3.000000e+00</td>\n",
       "      <td>2.000000e+00</td>\n",
       "      <td>1.000000e+00</td>\n",
       "      <td>1.000000e+00</td>\n",
       "      <td>2.000000e+00</td>\n",
       "      <td>3.100000e+01</td>\n",
       "      <td>2.430000e+02</td>\n",
       "      <td>65.000000</td>\n",
       "      <td>1.300000e+01</td>\n",
       "      <td>1.000000</td>\n",
       "      <td>1.000000</td>\n",
       "      <td>1.000000</td>\n",
       "      <td>1.000000</td>\n",
       "      <td>1.000000</td>\n",
       "      <td>1.000000e+00</td>\n",
       "      <td>1.000000e+00</td>\n",
       "      <td>2.010000e+03</td>\n",
       "      <td>3.000000e+00</td>\n",
       "      <td>NaN</td>\n",
       "      <td>NaN</td>\n",
       "    </tr>\n",
       "    <tr>\n",
       "      <th>50%</th>\n",
       "      <td>2.013001e+09</td>\n",
       "      <td>3.201101e+10</td>\n",
       "      <td>3.000000e+00</td>\n",
       "      <td>2.000000e+00</td>\n",
       "      <td>1.977000e+03</td>\n",
       "      <td>9.000000e+00</td>\n",
       "      <td>1.000000e+00</td>\n",
       "      <td>1.000000e+00</td>\n",
       "      <td>5.000000e+00</td>\n",
       "      <td>4.000000e+03</td>\n",
       "      <td>3.000000e+00</td>\n",
       "      <td>2.000000e+00</td>\n",
       "      <td>8.000000e+00</td>\n",
       "      <td>1.000000e+00</td>\n",
       "      <td>4.000000e+00</td>\n",
       "      <td>4.400000e+01</td>\n",
       "      <td>4.220000e+02</td>\n",
       "      <td>99.000000</td>\n",
       "      <td>1.500000e+01</td>\n",
       "      <td>2.000000</td>\n",
       "      <td>1.000000</td>\n",
       "      <td>1.000000</td>\n",
       "      <td>1.000000</td>\n",
       "      <td>1.000000</td>\n",
       "      <td>1.000000e+00</td>\n",
       "      <td>2.000000e+00</td>\n",
       "      <td>2.013000e+03</td>\n",
       "      <td>6.000000e+00</td>\n",
       "      <td>NaN</td>\n",
       "      <td>NaN</td>\n",
       "    </tr>\n",
       "    <tr>\n",
       "      <th>75%</th>\n",
       "      <td>2.015096e+09</td>\n",
       "      <td>3.201500e+10</td>\n",
       "      <td>3.000000e+00</td>\n",
       "      <td>2.000000e+00</td>\n",
       "      <td>1.999000e+03</td>\n",
       "      <td>1.400000e+01</td>\n",
       "      <td>2.000000e+00</td>\n",
       "      <td>4.000000e+00</td>\n",
       "      <td>5.000000e+00</td>\n",
       "      <td>7.300000e+03</td>\n",
       "      <td>3.000000e+00</td>\n",
       "      <td>3.000000e+00</td>\n",
       "      <td>8.000000e+00</td>\n",
       "      <td>1.000000e+00</td>\n",
       "      <td>5.000000e+00</td>\n",
       "      <td>6.200000e+01</td>\n",
       "      <td>5.120000e+02</td>\n",
       "      <td>99.000000</td>\n",
       "      <td>2.500000e+01</td>\n",
       "      <td>2.000000</td>\n",
       "      <td>2.000000</td>\n",
       "      <td>1.000000</td>\n",
       "      <td>2.000000</td>\n",
       "      <td>1.000000</td>\n",
       "      <td>2.000000e+00</td>\n",
       "      <td>2.000000e+00</td>\n",
       "      <td>2.015000e+03</td>\n",
       "      <td>9.000000e+00</td>\n",
       "      <td>NaN</td>\n",
       "      <td>NaN</td>\n",
       "    </tr>\n",
       "    <tr>\n",
       "      <th>max</th>\n",
       "      <td>2.018100e+09</td>\n",
       "      <td>3.201810e+10</td>\n",
       "      <td>3.000000e+00</td>\n",
       "      <td>3.000000e+00</td>\n",
       "      <td>4.444000e+03</td>\n",
       "      <td>9.900000e+01</td>\n",
       "      <td>2.000000e+00</td>\n",
       "      <td>2.500000e+01</td>\n",
       "      <td>5.000000e+00</td>\n",
       "      <td>9.800000e+03</td>\n",
       "      <td>3.000000e+00</td>\n",
       "      <td>9.000000e+00</td>\n",
       "      <td>9.000000e+00</td>\n",
       "      <td>4.000000e+00</td>\n",
       "      <td>8.000000e+00</td>\n",
       "      <td>9.900000e+01</td>\n",
       "      <td>9.990000e+02</td>\n",
       "      <td>99.000000</td>\n",
       "      <td>5.900000e+01</td>\n",
       "      <td>2.000000</td>\n",
       "      <td>9.000000</td>\n",
       "      <td>5.000000</td>\n",
       "      <td>3.000000</td>\n",
       "      <td>2.000000</td>\n",
       "      <td>3.000000e+01</td>\n",
       "      <td>7.900000e+01</td>\n",
       "      <td>2.018000e+03</td>\n",
       "      <td>1.200000e+01</td>\n",
       "      <td>NaN</td>\n",
       "      <td>NaN</td>\n",
       "    </tr>\n",
       "  </tbody>\n",
       "</table>\n",
       "</div>"
      ],
      "text/plain": [
       "        accident_id  provider_and_id  provider_code  involved_type  \\\n",
       "count  1.678965e+06     1.678965e+06   1.678965e+06   1.678965e+06   \n",
       "mean   2.012707e+09     2.705987e+10   2.504716e+00   1.871149e+00   \n",
       "std    3.203520e+06     8.632861e+09   8.632855e-01   7.776397e-01   \n",
       "min    2.008000e+09     1.200800e+10   1.000000e+00   1.000000e+00   \n",
       "25%    2.010022e+09     3.200800e+10   3.000000e+00   1.000000e+00   \n",
       "50%    2.013001e+09     3.201101e+10   3.000000e+00   2.000000e+00   \n",
       "75%    2.015096e+09     3.201500e+10   3.000000e+00   2.000000e+00   \n",
       "max    2.018100e+09     3.201810e+10   3.000000e+00   3.000000e+00   \n",
       "\n",
       "       license_acquiring_date     age_group           sex  vehicle_type  \\\n",
       "count            1.678965e+06  1.678965e+06  1.326427e+06  1.586817e+06   \n",
       "mean             1.101455e+03  2.732633e+01  1.382718e+00  3.973413e+00   \n",
       "std              9.925499e+02  3.734404e+01  4.860504e-01  5.328324e+00   \n",
       "min              0.000000e+00  1.000000e+00  1.000000e+00  1.000000e+00   \n",
       "25%              0.000000e+00  6.000000e+00  1.000000e+00  1.000000e+00   \n",
       "50%              1.977000e+03  9.000000e+00  1.000000e+00  1.000000e+00   \n",
       "75%              1.999000e+03  1.400000e+01  2.000000e+00  4.000000e+00   \n",
       "max              4.444000e+03  9.900000e+01  2.000000e+00  2.500000e+01   \n",
       "\n",
       "       safety_measures  involve_yishuv_symbol  injury_severity  injured_type  \\\n",
       "count     1.678923e+06           1.310620e+06     1.049205e+06  1.049203e+06   \n",
       "mean      4.190374e+00           4.385316e+03     2.973031e+00  2.586740e+00   \n",
       "std       1.576453e+00           3.103903e+03     1.831252e-01  1.238693e+00   \n",
       "min       1.000000e+00           7.000000e+00     1.000000e+00  1.000000e+00   \n",
       "25%       5.000000e+00           1.139000e+03     3.000000e+00  2.000000e+00   \n",
       "50%       5.000000e+00           4.000000e+03     3.000000e+00  2.000000e+00   \n",
       "75%       5.000000e+00           7.300000e+03     3.000000e+00  3.000000e+00   \n",
       "max       5.000000e+00           9.800000e+03     3.000000e+00  9.000000e+00   \n",
       "\n",
       "       injured_position  population_type   home_region  home_district  \\\n",
       "count      1.678964e+06     1.678942e+06  1.310614e+06   1.678965e+06   \n",
       "mean       4.884486e+00     1.261285e+00  3.735065e+00   5.253919e+01   \n",
       "std        3.511086e+00     5.267109e-01  1.625473e+00   2.844132e+01   \n",
       "min        1.000000e+00     1.000000e+00  1.000000e+00   1.100000e+01   \n",
       "25%        1.000000e+00     1.000000e+00  2.000000e+00   3.100000e+01   \n",
       "50%        8.000000e+00     1.000000e+00  4.000000e+00   4.400000e+01   \n",
       "75%        8.000000e+00     1.000000e+00  5.000000e+00   6.200000e+01   \n",
       "max        9.000000e+00     4.000000e+00  8.000000e+00   9.900000e+01   \n",
       "\n",
       "       home_natural_area  home_municipal_status  home_residence_type  \\\n",
       "count       1.310614e+06          328912.000000         1.310614e+06   \n",
       "mean        3.970584e+02              78.788877         1.790069e+01   \n",
       "std         1.608121e+02              32.953161         6.893507e+00   \n",
       "min         1.110000e+02               1.000000         9.000000e+00   \n",
       "25%         2.430000e+02              65.000000         1.300000e+01   \n",
       "50%         4.220000e+02              99.000000         1.500000e+01   \n",
       "75%         5.120000e+02              99.000000         2.500000e+01   \n",
       "max         9.990000e+02              99.000000         5.900000e+01   \n",
       "\n",
       "       hospital_time  medical_type  release_dest  safety_measures_use  \\\n",
       "count   52514.000000  52514.000000  52514.000000         57644.000000   \n",
       "mean        1.678257      1.666775      1.304167             1.514312   \n",
       "std         0.467149      1.112918      0.781971             0.820254   \n",
       "min         1.000000      1.000000      1.000000             1.000000   \n",
       "25%         1.000000      1.000000      1.000000             1.000000   \n",
       "50%         2.000000      1.000000      1.000000             1.000000   \n",
       "75%         2.000000      2.000000      1.000000             2.000000   \n",
       "max         2.000000      9.000000      5.000000             3.000000   \n",
       "\n",
       "       late_deceased        car_id    involve_id  accident_year  \\\n",
       "count    3972.000000  1.586817e+06  1.678965e+06   1.678965e+06   \n",
       "mean        1.036757  1.486035e+00  1.945111e+00   2.012665e+03   \n",
       "std         0.188189  6.383036e-01  1.373073e+00   3.198939e+00   \n",
       "min         1.000000  1.000000e+00  1.000000e+00   2.008000e+03   \n",
       "25%         1.000000  1.000000e+00  1.000000e+00   2.010000e+03   \n",
       "50%         1.000000  1.000000e+00  2.000000e+00   2.013000e+03   \n",
       "75%         1.000000  2.000000e+00  2.000000e+00   2.015000e+03   \n",
       "max         2.000000  3.000000e+01  7.900000e+01   2.018000e+03   \n",
       "\n",
       "       accident_month  injury_severity_mais  injury_severity_mais_hebrew  \n",
       "count    1.678965e+06                   0.0                          0.0  \n",
       "mean     6.423790e+00                   NaN                          NaN  \n",
       "std      3.413110e+00                   NaN                          NaN  \n",
       "min      1.000000e+00                   NaN                          NaN  \n",
       "25%      3.000000e+00                   NaN                          NaN  \n",
       "50%      6.000000e+00                   NaN                          NaN  \n",
       "75%      9.000000e+00                   NaN                          NaN  \n",
       "max      1.200000e+01                   NaN                          NaN  "
      ]
     },
     "execution_count": 5,
     "metadata": {},
     "output_type": "execute_result"
    }
   ],
   "source": [
    "involved_hebrew.describe()"
   ]
  },
  {
   "cell_type": "code",
   "execution_count": 6,
   "metadata": {},
   "outputs": [
    {
     "data": {
      "text/html": [
       "<div>\n",
       "<style scoped>\n",
       "    .dataframe tbody tr th:only-of-type {\n",
       "        vertical-align: middle;\n",
       "    }\n",
       "\n",
       "    .dataframe tbody tr th {\n",
       "        vertical-align: top;\n",
       "    }\n",
       "\n",
       "    .dataframe thead th {\n",
       "        text-align: right;\n",
       "    }\n",
       "</style>\n",
       "<table border=\"1\" class=\"dataframe\">\n",
       "  <thead>\n",
       "    <tr style=\"text-align: right;\">\n",
       "      <th></th>\n",
       "      <th>accident_id</th>\n",
       "      <th>provider_and_id</th>\n",
       "      <th>provider_code</th>\n",
       "      <th>involved_type</th>\n",
       "      <th>involved_type_hebrew</th>\n",
       "      <th>license_acquiring_date</th>\n",
       "      <th>age_group</th>\n",
       "      <th>age_group_hebrew</th>\n",
       "      <th>sex</th>\n",
       "      <th>sex_hebrew</th>\n",
       "      <th>vehicle_type</th>\n",
       "      <th>vehicle_type_hebrew</th>\n",
       "      <th>safety_measures</th>\n",
       "      <th>safety_measures_hebrew</th>\n",
       "      <th>involve_yishuv_symbol</th>\n",
       "      <th>involve_yishuv_name</th>\n",
       "      <th>injury_severity</th>\n",
       "      <th>injury_severity_hebrew</th>\n",
       "      <th>injured_type</th>\n",
       "      <th>injured_type_hebrew</th>\n",
       "      <th>injured_position</th>\n",
       "      <th>injured_position_hebrew</th>\n",
       "      <th>population_type</th>\n",
       "      <th>population_type_hebrew</th>\n",
       "      <th>home_region</th>\n",
       "      <th>home_region_hebrew</th>\n",
       "      <th>home_district</th>\n",
       "      <th>home_district_hebrew</th>\n",
       "      <th>home_natural_area</th>\n",
       "      <th>home_natural_area_hebrew</th>\n",
       "      <th>home_municipal_status</th>\n",
       "      <th>home_municipal_status_hebrew</th>\n",
       "      <th>home_residence_type</th>\n",
       "      <th>home_residence_type_hebrew</th>\n",
       "      <th>hospital_time</th>\n",
       "      <th>hospital_time_hebrew</th>\n",
       "      <th>medical_type</th>\n",
       "      <th>medical_type_hebrew</th>\n",
       "      <th>release_dest</th>\n",
       "      <th>release_dest_hebrew</th>\n",
       "      <th>safety_measures_use</th>\n",
       "      <th>safety_measures_use_hebrew</th>\n",
       "      <th>late_deceased</th>\n",
       "      <th>late_deceased_hebrew</th>\n",
       "      <th>car_id</th>\n",
       "      <th>involve_id</th>\n",
       "      <th>accident_year</th>\n",
       "      <th>accident_month</th>\n",
       "      <th>injury_severity_mais</th>\n",
       "      <th>injury_severity_mais_hebrew</th>\n",
       "    </tr>\n",
       "  </thead>\n",
       "  <tbody>\n",
       "    <tr>\n",
       "      <th>0</th>\n",
       "      <td>2008002397</td>\n",
       "      <td>12008002397</td>\n",
       "      <td>1</td>\n",
       "      <td>1</td>\n",
       "      <td>נהג</td>\n",
       "      <td>2000</td>\n",
       "      <td>6</td>\n",
       "      <td>25-29</td>\n",
       "      <td>1.0</td>\n",
       "      <td>זכר</td>\n",
       "      <td>1.0</td>\n",
       "      <td>רכב נוסעים פרטי</td>\n",
       "      <td>5.0</td>\n",
       "      <td>לא ידוע</td>\n",
       "      <td>8200.0</td>\n",
       "      <td>קריית מוצקין</td>\n",
       "      <td>NaN</td>\n",
       "      <td>NaN</td>\n",
       "      <td>NaN</td>\n",
       "      <td>NaN</td>\n",
       "      <td>8.0</td>\n",
       "      <td>לא ידוע</td>\n",
       "      <td>1.0</td>\n",
       "      <td>יהודים</td>\n",
       "      <td>3.0</td>\n",
       "      <td>חיפה</td>\n",
       "      <td>31</td>\n",
       "      <td>חיפה</td>\n",
       "      <td>311.0</td>\n",
       "      <td>אזור חיפה</td>\n",
       "      <td>NaN</td>\n",
       "      <td>NaN</td>\n",
       "      <td>16.0</td>\n",
       "      <td>20,000-49,999-תושב, יישוב יהודי</td>\n",
       "      <td>NaN</td>\n",
       "      <td>NaN</td>\n",
       "      <td>NaN</td>\n",
       "      <td>NaN</td>\n",
       "      <td>NaN</td>\n",
       "      <td>NaN</td>\n",
       "      <td>NaN</td>\n",
       "      <td>NaN</td>\n",
       "      <td>NaN</td>\n",
       "      <td>NaN</td>\n",
       "      <td>1.0</td>\n",
       "      <td>2</td>\n",
       "      <td>2008</td>\n",
       "      <td>1</td>\n",
       "      <td>NaN</td>\n",
       "      <td>NaN</td>\n",
       "    </tr>\n",
       "    <tr>\n",
       "      <th>1</th>\n",
       "      <td>2008030316</td>\n",
       "      <td>12008030316</td>\n",
       "      <td>1</td>\n",
       "      <td>3</td>\n",
       "      <td>נפגע</td>\n",
       "      <td>0</td>\n",
       "      <td>11</td>\n",
       "      <td>50-54</td>\n",
       "      <td>2.0</td>\n",
       "      <td>נקבה</td>\n",
       "      <td>1.0</td>\n",
       "      <td>רכב נוסעים פרטי</td>\n",
       "      <td>1.0</td>\n",
       "      <td>חגר חגורה</td>\n",
       "      <td>6500.0</td>\n",
       "      <td>חדרה</td>\n",
       "      <td>3.0</td>\n",
       "      <td>פצוע קל</td>\n",
       "      <td>3.0</td>\n",
       "      <td>נוסע - רכב בעל 4 גלגלים ויותר</td>\n",
       "      <td>2.0</td>\n",
       "      <td>ישב ברכב במושב אחורי</td>\n",
       "      <td>1.0</td>\n",
       "      <td>יהודים</td>\n",
       "      <td>3.0</td>\n",
       "      <td>חיפה</td>\n",
       "      <td>32</td>\n",
       "      <td>חדרה</td>\n",
       "      <td>324.0</td>\n",
       "      <td>אזור חדרה</td>\n",
       "      <td>NaN</td>\n",
       "      <td>NaN</td>\n",
       "      <td>15.0</td>\n",
       "      <td>50,000-99,999-תושב, יישוב יהודי</td>\n",
       "      <td>NaN</td>\n",
       "      <td>NaN</td>\n",
       "      <td>NaN</td>\n",
       "      <td>NaN</td>\n",
       "      <td>NaN</td>\n",
       "      <td>NaN</td>\n",
       "      <td>NaN</td>\n",
       "      <td>NaN</td>\n",
       "      <td>NaN</td>\n",
       "      <td>NaN</td>\n",
       "      <td>1.0</td>\n",
       "      <td>3</td>\n",
       "      <td>2008</td>\n",
       "      <td>1</td>\n",
       "      <td>NaN</td>\n",
       "      <td>NaN</td>\n",
       "    </tr>\n",
       "    <tr>\n",
       "      <th>2</th>\n",
       "      <td>2008068774</td>\n",
       "      <td>12008068774</td>\n",
       "      <td>1</td>\n",
       "      <td>3</td>\n",
       "      <td>נפגע</td>\n",
       "      <td>0</td>\n",
       "      <td>5</td>\n",
       "      <td>20-24</td>\n",
       "      <td>2.0</td>\n",
       "      <td>נקבה</td>\n",
       "      <td>11.0</td>\n",
       "      <td>אוטובוס</td>\n",
       "      <td>4.0</td>\n",
       "      <td>לא השתמש באמצעי</td>\n",
       "      <td>1020.0</td>\n",
       "      <td>אור עקיבא</td>\n",
       "      <td>3.0</td>\n",
       "      <td>פצוע קל</td>\n",
       "      <td>3.0</td>\n",
       "      <td>נוסע - רכב בעל 4 גלגלים ויותר</td>\n",
       "      <td>2.0</td>\n",
       "      <td>ישב ברכב במושב אחורי</td>\n",
       "      <td>1.0</td>\n",
       "      <td>יהודים</td>\n",
       "      <td>3.0</td>\n",
       "      <td>חיפה</td>\n",
       "      <td>32</td>\n",
       "      <td>חדרה</td>\n",
       "      <td>324.0</td>\n",
       "      <td>אזור חדרה</td>\n",
       "      <td>NaN</td>\n",
       "      <td>NaN</td>\n",
       "      <td>17.0</td>\n",
       "      <td>10,000-19,999-תושב, יישוב יהודי</td>\n",
       "      <td>NaN</td>\n",
       "      <td>NaN</td>\n",
       "      <td>NaN</td>\n",
       "      <td>NaN</td>\n",
       "      <td>NaN</td>\n",
       "      <td>NaN</td>\n",
       "      <td>NaN</td>\n",
       "      <td>NaN</td>\n",
       "      <td>NaN</td>\n",
       "      <td>NaN</td>\n",
       "      <td>3.0</td>\n",
       "      <td>5</td>\n",
       "      <td>2008</td>\n",
       "      <td>1</td>\n",
       "      <td>NaN</td>\n",
       "      <td>NaN</td>\n",
       "    </tr>\n",
       "    <tr>\n",
       "      <th>3</th>\n",
       "      <td>2008068774</td>\n",
       "      <td>12008068774</td>\n",
       "      <td>1</td>\n",
       "      <td>3</td>\n",
       "      <td>נפגע</td>\n",
       "      <td>0</td>\n",
       "      <td>5</td>\n",
       "      <td>20-24</td>\n",
       "      <td>2.0</td>\n",
       "      <td>נקבה</td>\n",
       "      <td>11.0</td>\n",
       "      <td>אוטובוס</td>\n",
       "      <td>5.0</td>\n",
       "      <td>לא ידוע</td>\n",
       "      <td>6500.0</td>\n",
       "      <td>חדרה</td>\n",
       "      <td>3.0</td>\n",
       "      <td>פצוע קל</td>\n",
       "      <td>3.0</td>\n",
       "      <td>נוסע - רכב בעל 4 גלגלים ויותר</td>\n",
       "      <td>8.0</td>\n",
       "      <td>לא ידוע</td>\n",
       "      <td>1.0</td>\n",
       "      <td>יהודים</td>\n",
       "      <td>3.0</td>\n",
       "      <td>חיפה</td>\n",
       "      <td>32</td>\n",
       "      <td>חדרה</td>\n",
       "      <td>324.0</td>\n",
       "      <td>אזור חדרה</td>\n",
       "      <td>NaN</td>\n",
       "      <td>NaN</td>\n",
       "      <td>15.0</td>\n",
       "      <td>50,000-99,999-תושב, יישוב יהודי</td>\n",
       "      <td>NaN</td>\n",
       "      <td>NaN</td>\n",
       "      <td>NaN</td>\n",
       "      <td>NaN</td>\n",
       "      <td>NaN</td>\n",
       "      <td>NaN</td>\n",
       "      <td>NaN</td>\n",
       "      <td>NaN</td>\n",
       "      <td>NaN</td>\n",
       "      <td>NaN</td>\n",
       "      <td>3.0</td>\n",
       "      <td>4</td>\n",
       "      <td>2008</td>\n",
       "      <td>1</td>\n",
       "      <td>NaN</td>\n",
       "      <td>NaN</td>\n",
       "    </tr>\n",
       "    <tr>\n",
       "      <th>4</th>\n",
       "      <td>2008073669</td>\n",
       "      <td>12008073669</td>\n",
       "      <td>1</td>\n",
       "      <td>3</td>\n",
       "      <td>נפגע</td>\n",
       "      <td>0</td>\n",
       "      <td>4</td>\n",
       "      <td>15-19</td>\n",
       "      <td>2.0</td>\n",
       "      <td>נקבה</td>\n",
       "      <td>1.0</td>\n",
       "      <td>רכב נוסעים פרטי</td>\n",
       "      <td>1.0</td>\n",
       "      <td>חגר חגורה</td>\n",
       "      <td>494.0</td>\n",
       "      <td>דאלית אל-כרמל</td>\n",
       "      <td>3.0</td>\n",
       "      <td>פצוע קל</td>\n",
       "      <td>3.0</td>\n",
       "      <td>נוסע - רכב בעל 4 גלגלים ויותר</td>\n",
       "      <td>2.0</td>\n",
       "      <td>ישב ברכב במושב אחורי</td>\n",
       "      <td>2.0</td>\n",
       "      <td>ערבים</td>\n",
       "      <td>3.0</td>\n",
       "      <td>חיפה</td>\n",
       "      <td>31</td>\n",
       "      <td>חיפה</td>\n",
       "      <td>311.0</td>\n",
       "      <td>אזור חיפה</td>\n",
       "      <td>NaN</td>\n",
       "      <td>NaN</td>\n",
       "      <td>26.0</td>\n",
       "      <td>20,000-49,999-תושב, יישוב לא-יהודי</td>\n",
       "      <td>NaN</td>\n",
       "      <td>NaN</td>\n",
       "      <td>NaN</td>\n",
       "      <td>NaN</td>\n",
       "      <td>NaN</td>\n",
       "      <td>NaN</td>\n",
       "      <td>NaN</td>\n",
       "      <td>NaN</td>\n",
       "      <td>NaN</td>\n",
       "      <td>NaN</td>\n",
       "      <td>1.0</td>\n",
       "      <td>3</td>\n",
       "      <td>2008</td>\n",
       "      <td>1</td>\n",
       "      <td>NaN</td>\n",
       "      <td>NaN</td>\n",
       "    </tr>\n",
       "  </tbody>\n",
       "</table>\n",
       "</div>"
      ],
      "text/plain": [
       "   accident_id  provider_and_id  provider_code  involved_type  \\\n",
       "0   2008002397      12008002397              1              1   \n",
       "1   2008030316      12008030316              1              3   \n",
       "2   2008068774      12008068774              1              3   \n",
       "3   2008068774      12008068774              1              3   \n",
       "4   2008073669      12008073669              1              3   \n",
       "\n",
       "  involved_type_hebrew  license_acquiring_date  age_group age_group_hebrew  \\\n",
       "0                  נהג                    2000          6            25-29   \n",
       "1                 נפגע                       0         11            50-54   \n",
       "2                 נפגע                       0          5            20-24   \n",
       "3                 נפגע                       0          5            20-24   \n",
       "4                 נפגע                       0          4            15-19   \n",
       "\n",
       "   sex sex_hebrew  vehicle_type vehicle_type_hebrew  safety_measures  \\\n",
       "0  1.0        זכר           1.0     רכב נוסעים פרטי              5.0   \n",
       "1  2.0       נקבה           1.0     רכב נוסעים פרטי              1.0   \n",
       "2  2.0       נקבה          11.0             אוטובוס              4.0   \n",
       "3  2.0       נקבה          11.0             אוטובוס              5.0   \n",
       "4  2.0       נקבה           1.0     רכב נוסעים פרטי              1.0   \n",
       "\n",
       "  safety_measures_hebrew  involve_yishuv_symbol involve_yishuv_name  \\\n",
       "0                לא ידוע                 8200.0        קריית מוצקין   \n",
       "1              חגר חגורה                 6500.0                חדרה   \n",
       "2        לא השתמש באמצעי                 1020.0           אור עקיבא   \n",
       "3                לא ידוע                 6500.0                חדרה   \n",
       "4              חגר חגורה                  494.0       דאלית אל-כרמל   \n",
       "\n",
       "   injury_severity injury_severity_hebrew  injured_type  \\\n",
       "0              NaN                    NaN           NaN   \n",
       "1              3.0                פצוע קל           3.0   \n",
       "2              3.0                פצוע קל           3.0   \n",
       "3              3.0                פצוע קל           3.0   \n",
       "4              3.0                פצוע קל           3.0   \n",
       "\n",
       "             injured_type_hebrew  injured_position injured_position_hebrew  \\\n",
       "0                            NaN               8.0                 לא ידוע   \n",
       "1  נוסע - רכב בעל 4 גלגלים ויותר               2.0    ישב ברכב במושב אחורי   \n",
       "2  נוסע - רכב בעל 4 גלגלים ויותר               2.0    ישב ברכב במושב אחורי   \n",
       "3  נוסע - רכב בעל 4 גלגלים ויותר               8.0                 לא ידוע   \n",
       "4  נוסע - רכב בעל 4 גלגלים ויותר               2.0    ישב ברכב במושב אחורי   \n",
       "\n",
       "   population_type population_type_hebrew  home_region home_region_hebrew  \\\n",
       "0              1.0                 יהודים          3.0               חיפה   \n",
       "1              1.0                 יהודים          3.0               חיפה   \n",
       "2              1.0                 יהודים          3.0               חיפה   \n",
       "3              1.0                 יהודים          3.0               חיפה   \n",
       "4              2.0                  ערבים          3.0               חיפה   \n",
       "\n",
       "   home_district home_district_hebrew  home_natural_area  \\\n",
       "0             31                 חיפה              311.0   \n",
       "1             32                 חדרה              324.0   \n",
       "2             32                 חדרה              324.0   \n",
       "3             32                 חדרה              324.0   \n",
       "4             31                 חיפה              311.0   \n",
       "\n",
       "  home_natural_area_hebrew  home_municipal_status  \\\n",
       "0                אזור חיפה                    NaN   \n",
       "1                אזור חדרה                    NaN   \n",
       "2                אזור חדרה                    NaN   \n",
       "3                אזור חדרה                    NaN   \n",
       "4                אזור חיפה                    NaN   \n",
       "\n",
       "  home_municipal_status_hebrew  home_residence_type  \\\n",
       "0                          NaN                 16.0   \n",
       "1                          NaN                 15.0   \n",
       "2                          NaN                 17.0   \n",
       "3                          NaN                 15.0   \n",
       "4                          NaN                 26.0   \n",
       "\n",
       "           home_residence_type_hebrew  hospital_time hospital_time_hebrew  \\\n",
       "0     20,000-49,999-תושב, יישוב יהודי            NaN                  NaN   \n",
       "1     50,000-99,999-תושב, יישוב יהודי            NaN                  NaN   \n",
       "2     10,000-19,999-תושב, יישוב יהודי            NaN                  NaN   \n",
       "3     50,000-99,999-תושב, יישוב יהודי            NaN                  NaN   \n",
       "4  20,000-49,999-תושב, יישוב לא-יהודי            NaN                  NaN   \n",
       "\n",
       "   medical_type medical_type_hebrew  release_dest release_dest_hebrew  \\\n",
       "0           NaN                 NaN           NaN                 NaN   \n",
       "1           NaN                 NaN           NaN                 NaN   \n",
       "2           NaN                 NaN           NaN                 NaN   \n",
       "3           NaN                 NaN           NaN                 NaN   \n",
       "4           NaN                 NaN           NaN                 NaN   \n",
       "\n",
       "   safety_measures_use safety_measures_use_hebrew  late_deceased  \\\n",
       "0                  NaN                        NaN            NaN   \n",
       "1                  NaN                        NaN            NaN   \n",
       "2                  NaN                        NaN            NaN   \n",
       "3                  NaN                        NaN            NaN   \n",
       "4                  NaN                        NaN            NaN   \n",
       "\n",
       "  late_deceased_hebrew  car_id  involve_id  accident_year  accident_month  \\\n",
       "0                  NaN     1.0           2           2008               1   \n",
       "1                  NaN     1.0           3           2008               1   \n",
       "2                  NaN     3.0           5           2008               1   \n",
       "3                  NaN     3.0           4           2008               1   \n",
       "4                  NaN     1.0           3           2008               1   \n",
       "\n",
       "   injury_severity_mais  injury_severity_mais_hebrew  \n",
       "0                   NaN                          NaN  \n",
       "1                   NaN                          NaN  \n",
       "2                   NaN                          NaN  \n",
       "3                   NaN                          NaN  \n",
       "4                   NaN                          NaN  "
      ]
     },
     "execution_count": 6,
     "metadata": {},
     "output_type": "execute_result"
    }
   ],
   "source": [
    "involved_hebrew.head()"
   ]
  },
  {
   "cell_type": "code",
   "execution_count": 8,
   "metadata": {},
   "outputs": [
    {
     "name": "stdout",
     "output_type": "stream",
     "text": [
      "Number unique values\n"
     ]
    },
    {
     "data": {
      "text/plain": [
       "accident_id                     696278\n",
       "provider_and_id                 710423\n",
       "provider_code                        2\n",
       "involved_type                        3\n",
       "involved_type_hebrew                 3\n",
       "license_acquiring_date              75\n",
       "age_group                           19\n",
       "age_group_hebrew                    21\n",
       "sex                                  2\n",
       "sex_hebrew                           2\n",
       "vehicle_type                        24\n",
       "vehicle_type_hebrew                 31\n",
       "safety_measures                      5\n",
       "safety_measures_hebrew               5\n",
       "involve_yishuv_symbol             1556\n",
       "involve_yishuv_name               1264\n",
       "injury_severity                      3\n",
       "injury_severity_hebrew               3\n",
       "injured_type                         9\n",
       "injured_type_hebrew                  9\n",
       "injured_position                     9\n",
       "injured_position_hebrew              9\n",
       "population_type                      4\n",
       "population_type_hebrew               4\n",
       "home_region                          8\n",
       "home_region_hebrew                   8\n",
       "home_district                       27\n",
       "home_district_hebrew                26\n",
       "home_natural_area                   63\n",
       "home_natural_area_hebrew            63\n",
       "home_municipal_status               57\n",
       "home_municipal_status_hebrew        58\n",
       "home_residence_type                 30\n",
       "home_residence_type_hebrew          48\n",
       "hospital_time                        2\n",
       "hospital_time_hebrew                 2\n",
       "medical_type                         5\n",
       "medical_type_hebrew                  5\n",
       "release_dest                         5\n",
       "release_dest_hebrew                  5\n",
       "safety_measures_use                  3\n",
       "safety_measures_use_hebrew           3\n",
       "late_deceased                        2\n",
       "late_deceased_hebrew                 2\n",
       "car_id                              30\n",
       "involve_id                          79\n",
       "accident_year                       11\n",
       "accident_month                      12\n",
       "injury_severity_mais                 0\n",
       "injury_severity_mais_hebrew          0\n",
       "dtype: int64"
      ]
     },
     "execution_count": 8,
     "metadata": {},
     "output_type": "execute_result"
    }
   ],
   "source": [
    "print('Number unique values')\n",
    "involved_hebrew.nunique(axis=0)"
   ]
  },
  {
   "cell_type": "markdown",
   "metadata": {},
   "source": [
    "# Provider_and_id, unique number of accidents, number of people involved in accident"
   ]
  },
  {
   "cell_type": "markdown",
   "metadata": {},
   "source": [
    "Although there are 1,678,965 involved people, every involved person appears as a separate line, there are actually 710,423 accidents"
   ]
  },
  {
   "cell_type": "code",
   "execution_count": 9,
   "metadata": {},
   "outputs": [
    {
     "name": "stdout",
     "output_type": "stream",
     "text": [
      "Number of involved per accident - head of accidents\n"
     ]
    },
    {
     "data": {
      "text/plain": [
       "provider_and_id  provider_and_id\n",
       "12008000004      12008000004        2\n",
       "12008000006      12008000006        2\n",
       "12008000007      12008000007        3\n",
       "12008000008      12008000008        2\n",
       "12008000009      12008000009        2\n",
       "12008000010      12008000010        2\n",
       "12008000011      12008000011        2\n",
       "12008000012      12008000012        2\n",
       "12008000013      12008000013        2\n",
       "12008000014      12008000014        2\n",
       "12008000015      12008000015        2\n",
       "12008000016      12008000016        2\n",
       "12008000017      12008000017        2\n",
       "12008000018      12008000018        3\n",
       "12008000020      12008000020        2\n",
       "12008000022      12008000022        2\n",
       "12008000026      12008000026        2\n",
       "12008000029      12008000029        2\n",
       "12008000031      12008000031        2\n",
       "12008000033      12008000033        2\n",
       "12008000036      12008000036        2\n",
       "12008000037      12008000037        6\n",
       "12008000038      12008000038        6\n",
       "12008000039      12008000039        2\n",
       "12008000040      12008000040        3\n",
       "Name: provider_and_id, dtype: int64"
      ]
     },
     "execution_count": 9,
     "metadata": {},
     "output_type": "execute_result"
    }
   ],
   "source": [
    "# Observations grouped by provider_and_id - actual accidents and number of observations per provider_and_id\n",
    "print('Number of involved per accident - head of accidents')\n",
    "grouped_by_provider_id = involved_hebrew.groupby('provider_and_id')\n",
    "grouped_by_provider_id['provider_and_id'].value_counts().head(25)"
   ]
  },
  {
   "cell_type": "code",
   "execution_count": 10,
   "metadata": {},
   "outputs": [
    {
     "name": "stdout",
     "output_type": "stream",
     "text": [
      "Number of accidents with each number of involved per accident\n"
     ]
    },
    {
     "data": {
      "text/plain": [
       "2     435580\n",
       "3     125737\n",
       "1      75982\n",
       "4      40477\n",
       "5      18207\n",
       "6       8365\n",
       "7       3020\n",
       "8       1280\n",
       "9        730\n",
       "10       377\n",
       "11       210\n",
       "12       127\n",
       "13        80\n",
       "14        66\n",
       "15        38\n",
       "16        34\n",
       "17        17\n",
       "18        17\n",
       "20        12\n",
       "21         9\n",
       "19         7\n",
       "23         5\n",
       "24         4\n",
       "25         4\n",
       "26         4\n",
       "29         4\n",
       "35         4\n",
       "22         3\n",
       "37         3\n",
       "27         2\n",
       "28         2\n",
       "39         2\n",
       "45         1\n",
       "57         1\n",
       "53         1\n",
       "51         1\n",
       "50         1\n",
       "47         1\n",
       "36         1\n",
       "41         1\n",
       "38         1\n",
       "60         1\n",
       "34         1\n",
       "33         1\n",
       "30         1\n",
       "79         1\n",
       "Name: provider_and_id, dtype: int64"
      ]
     },
     "execution_count": 10,
     "metadata": {},
     "output_type": "execute_result"
    }
   ],
   "source": [
    "# Number of times same provider_and_id appears and how many times it appears\n",
    "print('Number of accidents with each number of involved per accident')\n",
    "same_provider_id_appears = grouped_by_provider_id['provider_and_id'].value_counts().value_counts()\n",
    "same_provider_id_appears"
   ]
  },
  {
   "cell_type": "code",
   "execution_count": 11,
   "metadata": {},
   "outputs": [
    {
     "name": "stdout",
     "output_type": "stream",
     "text": [
      "Number of accidents with each number of involved per accident - top 10 most frequent number of involved\n"
     ]
    },
    {
     "data": {
      "text/plain": [
       "2     435580\n",
       "3     125737\n",
       "1      75982\n",
       "4      40477\n",
       "5      18207\n",
       "6       8365\n",
       "7       3020\n",
       "8       1280\n",
       "9        730\n",
       "10       377\n",
       "Name: provider_and_id, dtype: int64"
      ]
     },
     "execution_count": 11,
     "metadata": {},
     "output_type": "execute_result"
    }
   ],
   "source": [
    "# Just the top 10 of most occuring number of people involved in the accident\n",
    "print('Number of accidents with each number of involved per accident - top 10 most frequent number of involved')\n",
    "same_provider_id_appears[:10] "
   ]
  },
  {
   "cell_type": "code",
   "execution_count": 12,
   "metadata": {},
   "outputs": [
    {
     "data": {
      "text/plain": [
       "Text(0.5, 0, 'Number of involved, most 2-3, 1 and 4 also common, sometimes up to ~80 involved')"
      ]
     },
     "execution_count": 12,
     "metadata": {},
     "output_type": "execute_result"
    },
    {
     "data": {
      "image/png": "[encoded data removed]",
      "text/plain": [
       "<Figure size 1800x360 with 1 Axes>"
      ]
     },
     "metadata": {
      "needs_background": "light"
     },
     "output_type": "display_data"
    }
   ],
   "source": [
    "fig = plt.figure(figsize=(25,5))\n",
    "ax = sns.boxplot(grouped_by_provider_id.count()['accident_id'])\n",
    "ax.set_xlabel('Number of involved, most 2-3, 1 and 4 also common, sometimes up to ~80 involved')"
   ]
  },
  {
   "cell_type": "code",
   "execution_count": 13,
   "metadata": {},
   "outputs": [
    {
     "name": "stdout",
     "output_type": "stream",
     "text": [
      "Number of accidents in the table: 710423, number involved in these accidents: 1678965\n"
     ]
    }
   ],
   "source": [
    "num_accidents = sum(same_provider_id_appears)\n",
    "num_involved = len(involved_hebrew)\n",
    "print(f'Number of accidents in the table: {num_accidents}, number involved in these accidents: {num_involved}')"
   ]
  },
  {
   "cell_type": "code",
   "execution_count": 15,
   "metadata": {},
   "outputs": [
    {
     "name": "stdout",
     "output_type": "stream",
     "text": [
      "Percents of people involved in an accident\n"
     ]
    },
    {
     "data": {
      "text/html": [
       "<div>\n",
       "<style scoped>\n",
       "    .dataframe tbody tr th:only-of-type {\n",
       "        vertical-align: middle;\n",
       "    }\n",
       "\n",
       "    .dataframe tbody tr th {\n",
       "        vertical-align: top;\n",
       "    }\n",
       "\n",
       "    .dataframe thead th {\n",
       "        text-align: right;\n",
       "    }\n",
       "</style>\n",
       "<table border=\"1\" class=\"dataframe\">\n",
       "  <thead>\n",
       "    <tr style=\"text-align: right;\">\n",
       "      <th></th>\n",
       "      <th>Num people involved</th>\n",
       "      <th>Num accidents</th>\n",
       "      <th>% accidents</th>\n",
       "      <th>% accidents accumulated</th>\n",
       "    </tr>\n",
       "  </thead>\n",
       "  <tbody>\n",
       "    <tr>\n",
       "      <th>1</th>\n",
       "      <td>1</td>\n",
       "      <td>75982</td>\n",
       "      <td>10.695318</td>\n",
       "      <td>10.695318</td>\n",
       "    </tr>\n",
       "    <tr>\n",
       "      <th>2</th>\n",
       "      <td>2</td>\n",
       "      <td>435580</td>\n",
       "      <td>61.312767</td>\n",
       "      <td>72.008085</td>\n",
       "    </tr>\n",
       "    <tr>\n",
       "      <th>3</th>\n",
       "      <td>3</td>\n",
       "      <td>125737</td>\n",
       "      <td>17.698892</td>\n",
       "      <td>89.706977</td>\n",
       "    </tr>\n",
       "    <tr>\n",
       "      <th>4</th>\n",
       "      <td>4</td>\n",
       "      <td>40477</td>\n",
       "      <td>5.697591</td>\n",
       "      <td>95.404569</td>\n",
       "    </tr>\n",
       "    <tr>\n",
       "      <th>5</th>\n",
       "      <td>5</td>\n",
       "      <td>18207</td>\n",
       "      <td>2.562839</td>\n",
       "      <td>97.967408</td>\n",
       "    </tr>\n",
       "    <tr>\n",
       "      <th>6</th>\n",
       "      <td>6</td>\n",
       "      <td>8365</td>\n",
       "      <td>1.177468</td>\n",
       "      <td>99.144876</td>\n",
       "    </tr>\n",
       "    <tr>\n",
       "      <th>7</th>\n",
       "      <td>7</td>\n",
       "      <td>3020</td>\n",
       "      <td>0.425099</td>\n",
       "      <td>99.569975</td>\n",
       "    </tr>\n",
       "    <tr>\n",
       "      <th>8</th>\n",
       "      <td>8</td>\n",
       "      <td>1280</td>\n",
       "      <td>0.180174</td>\n",
       "      <td>99.750149</td>\n",
       "    </tr>\n",
       "    <tr>\n",
       "      <th>9</th>\n",
       "      <td>9</td>\n",
       "      <td>730</td>\n",
       "      <td>0.102756</td>\n",
       "      <td>99.852905</td>\n",
       "    </tr>\n",
       "    <tr>\n",
       "      <th>10</th>\n",
       "      <td>10</td>\n",
       "      <td>377</td>\n",
       "      <td>0.053067</td>\n",
       "      <td>99.905972</td>\n",
       "    </tr>\n",
       "  </tbody>\n",
       "</table>\n",
       "</div>"
      ],
      "text/plain": [
       "    Num people involved  Num accidents  % accidents  % accidents accumulated\n",
       "1                     1          75982    10.695318                10.695318\n",
       "2                     2         435580    61.312767                72.008085\n",
       "3                     3         125737    17.698892                89.706977\n",
       "4                     4          40477     5.697591                95.404569\n",
       "5                     5          18207     2.562839                97.967408\n",
       "6                     6           8365     1.177468                99.144876\n",
       "7                     7           3020     0.425099                99.569975\n",
       "8                     8           1280     0.180174                99.750149\n",
       "9                     9            730     0.102756                99.852905\n",
       "10                   10            377     0.053067                99.905972"
      ]
     },
     "execution_count": 15,
     "metadata": {},
     "output_type": "execute_result"
    }
   ],
   "source": [
    "percents_num_involved = pd.DataFrame({'Num people involved': same_provider_id_appears.index, 'Num accidents': same_provider_id_appears})\n",
    "percents_num_involved['% accidents'] = percents_num_involved['Num accidents'] / num_accidents * 100\n",
    "percents_num_involved = percents_num_involved.sort_index()\n",
    "percents_num_involved['% accidents accumulated'] = percents_num_involved['% accidents'].cumsum()\n",
    "print('Percents of people involved in an accident')\n",
    "percents_num_involved.head(10)    "
   ]
  },
  {
   "cell_type": "code",
   "execution_count": 20,
   "metadata": {},
   "outputs": [
    {
     "data": {
      "text/plain": [
       "Text(0.5, 1.0, 'Percent of accidents per number of people involved in an accident')"
      ]
     },
     "execution_count": 20,
     "metadata": {},
     "output_type": "execute_result"
    },
    {
     "data": {
      "image/png": "[encoded data removed]",
      "text/plain": [
       "<Figure size 432x288 with 1 Axes>"
      ]
     },
     "metadata": {
      "needs_background": "light"
     },
     "output_type": "display_data"
    }
   ],
   "source": [
    "ax = sns.scatterplot(x='Num people involved', y='% accidents', color='red', data=percents_num_involved.head(6))\n",
    "ax.set_title('Percent of accidents per number of people involved in an accident')"
   ]
  },
  {
   "cell_type": "code",
   "execution_count": 22,
   "metadata": {},
   "outputs": [
    {
     "data": {
      "text/plain": [
       "Text(0.5, 1.0, 'Accumulative percentage of incidents per number of people involved in an accident')"
      ]
     },
     "execution_count": 22,
     "metadata": {},
     "output_type": "execute_result"
    },
    {
     "data": {
      "image/png": "[encoded data removed]",
      "text/plain": [
       "<Figure size 432x288 with 1 Axes>"
      ]
     },
     "metadata": {
      "needs_background": "light"
     },
     "output_type": "display_data"
    }
   ],
   "source": [
    "ax = sns.lineplot(x='Num people involved', y='% accidents accumulated', data=percents_num_involved.head(6))\n",
    "ax.set_title('Accumulative percentage of incidents per number of people involved in an accident')"
   ]
  },
  {
   "cell_type": "markdown",
   "metadata": {},
   "source": [
    "Small insight: 72% have up to 2 people involved, 90% have 3 or less, 95% have 4 or less, 99% have 6 or less"
   ]
  },
  {
   "cell_type": "code",
   "execution_count": 23,
   "metadata": {},
   "outputs": [
    {
     "name": "stdout",
     "output_type": "stream",
     "text": [
      "Example of 6 people involved\n"
     ]
    },
    {
     "data": {
      "text/html": [
       "<div>\n",
       "<style scoped>\n",
       "    .dataframe tbody tr th:only-of-type {\n",
       "        vertical-align: middle;\n",
       "    }\n",
       "\n",
       "    .dataframe tbody tr th {\n",
       "        vertical-align: top;\n",
       "    }\n",
       "\n",
       "    .dataframe thead th {\n",
       "        text-align: right;\n",
       "    }\n",
       "</style>\n",
       "<table border=\"1\" class=\"dataframe\">\n",
       "  <thead>\n",
       "    <tr style=\"text-align: right;\">\n",
       "      <th></th>\n",
       "      <th>accident_id</th>\n",
       "      <th>provider_and_id</th>\n",
       "      <th>provider_code</th>\n",
       "      <th>involved_type</th>\n",
       "      <th>involved_type_hebrew</th>\n",
       "      <th>license_acquiring_date</th>\n",
       "      <th>age_group</th>\n",
       "      <th>age_group_hebrew</th>\n",
       "      <th>sex</th>\n",
       "      <th>sex_hebrew</th>\n",
       "      <th>vehicle_type</th>\n",
       "      <th>vehicle_type_hebrew</th>\n",
       "      <th>safety_measures</th>\n",
       "      <th>safety_measures_hebrew</th>\n",
       "      <th>involve_yishuv_symbol</th>\n",
       "      <th>involve_yishuv_name</th>\n",
       "      <th>injury_severity</th>\n",
       "      <th>injury_severity_hebrew</th>\n",
       "      <th>injured_type</th>\n",
       "      <th>injured_type_hebrew</th>\n",
       "      <th>injured_position</th>\n",
       "      <th>injured_position_hebrew</th>\n",
       "      <th>population_type</th>\n",
       "      <th>population_type_hebrew</th>\n",
       "      <th>home_region</th>\n",
       "      <th>home_region_hebrew</th>\n",
       "      <th>home_district</th>\n",
       "      <th>home_district_hebrew</th>\n",
       "      <th>home_natural_area</th>\n",
       "      <th>home_natural_area_hebrew</th>\n",
       "      <th>home_municipal_status</th>\n",
       "      <th>home_municipal_status_hebrew</th>\n",
       "      <th>home_residence_type</th>\n",
       "      <th>home_residence_type_hebrew</th>\n",
       "      <th>hospital_time</th>\n",
       "      <th>hospital_time_hebrew</th>\n",
       "      <th>medical_type</th>\n",
       "      <th>medical_type_hebrew</th>\n",
       "      <th>release_dest</th>\n",
       "      <th>release_dest_hebrew</th>\n",
       "      <th>safety_measures_use</th>\n",
       "      <th>safety_measures_use_hebrew</th>\n",
       "      <th>late_deceased</th>\n",
       "      <th>late_deceased_hebrew</th>\n",
       "      <th>car_id</th>\n",
       "      <th>involve_id</th>\n",
       "      <th>accident_year</th>\n",
       "      <th>accident_month</th>\n",
       "      <th>injury_severity_mais</th>\n",
       "      <th>injury_severity_mais_hebrew</th>\n",
       "    </tr>\n",
       "  </thead>\n",
       "  <tbody>\n",
       "    <tr>\n",
       "      <th>45079</th>\n",
       "      <td>2008000037</td>\n",
       "      <td>12008000037</td>\n",
       "      <td>1</td>\n",
       "      <td>3</td>\n",
       "      <td>נפגע</td>\n",
       "      <td>0</td>\n",
       "      <td>5</td>\n",
       "      <td>20-24</td>\n",
       "      <td>2.0</td>\n",
       "      <td>נקבה</td>\n",
       "      <td>1.0</td>\n",
       "      <td>רכב נוסעים פרטי</td>\n",
       "      <td>5.0</td>\n",
       "      <td>לא ידוע</td>\n",
       "      <td>681.0</td>\n",
       "      <td>גבעת שמואל</td>\n",
       "      <td>3.0</td>\n",
       "      <td>פצוע קל</td>\n",
       "      <td>3.0</td>\n",
       "      <td>נוסע - רכב בעל 4 גלגלים ויותר</td>\n",
       "      <td>1.0</td>\n",
       "      <td>ישב ברכב במושב קדמי</td>\n",
       "      <td>1.0</td>\n",
       "      <td>יהודים</td>\n",
       "      <td>4.0</td>\n",
       "      <td>המרכז</td>\n",
       "      <td>42</td>\n",
       "      <td>פתח תקווה</td>\n",
       "      <td>422.0</td>\n",
       "      <td>אזור פתח תקווה</td>\n",
       "      <td>NaN</td>\n",
       "      <td>NaN</td>\n",
       "      <td>17.0</td>\n",
       "      <td>10,000-19,999-תושב, יישוב יהודי</td>\n",
       "      <td>NaN</td>\n",
       "      <td>NaN</td>\n",
       "      <td>NaN</td>\n",
       "      <td>NaN</td>\n",
       "      <td>NaN</td>\n",
       "      <td>NaN</td>\n",
       "      <td>NaN</td>\n",
       "      <td>NaN</td>\n",
       "      <td>NaN</td>\n",
       "      <td>NaN</td>\n",
       "      <td>1.0</td>\n",
       "      <td>3</td>\n",
       "      <td>2008</td>\n",
       "      <td>9</td>\n",
       "      <td>NaN</td>\n",
       "      <td>NaN</td>\n",
       "    </tr>\n",
       "    <tr>\n",
       "      <th>45108</th>\n",
       "      <td>2008000037</td>\n",
       "      <td>12008000037</td>\n",
       "      <td>1</td>\n",
       "      <td>3</td>\n",
       "      <td>נפגע</td>\n",
       "      <td>0</td>\n",
       "      <td>1</td>\n",
       "      <td>00-04</td>\n",
       "      <td>2.0</td>\n",
       "      <td>נקבה</td>\n",
       "      <td>12.0</td>\n",
       "      <td>מונית</td>\n",
       "      <td>5.0</td>\n",
       "      <td>לא ידוע</td>\n",
       "      <td>604.0</td>\n",
       "      <td>בית עריף</td>\n",
       "      <td>3.0</td>\n",
       "      <td>פצוע קל</td>\n",
       "      <td>3.0</td>\n",
       "      <td>נוסע - רכב בעל 4 גלגלים ויותר</td>\n",
       "      <td>2.0</td>\n",
       "      <td>ישב ברכב במושב אחורי</td>\n",
       "      <td>1.0</td>\n",
       "      <td>יהודים</td>\n",
       "      <td>4.0</td>\n",
       "      <td>המרכז</td>\n",
       "      <td>43</td>\n",
       "      <td>רמלה</td>\n",
       "      <td>431.0</td>\n",
       "      <td>אזור לוד</td>\n",
       "      <td>25.0</td>\n",
       "      <td>חבל מודיעין</td>\n",
       "      <td>31.0</td>\n",
       "      <td>מושבים (לרבות כפרים שיתופיים)</td>\n",
       "      <td>NaN</td>\n",
       "      <td>NaN</td>\n",
       "      <td>NaN</td>\n",
       "      <td>NaN</td>\n",
       "      <td>NaN</td>\n",
       "      <td>NaN</td>\n",
       "      <td>NaN</td>\n",
       "      <td>NaN</td>\n",
       "      <td>NaN</td>\n",
       "      <td>NaN</td>\n",
       "      <td>2.0</td>\n",
       "      <td>6</td>\n",
       "      <td>2008</td>\n",
       "      <td>9</td>\n",
       "      <td>NaN</td>\n",
       "      <td>NaN</td>\n",
       "    </tr>\n",
       "    <tr>\n",
       "      <th>45152</th>\n",
       "      <td>2008000037</td>\n",
       "      <td>12008000037</td>\n",
       "      <td>1</td>\n",
       "      <td>1</td>\n",
       "      <td>נהג</td>\n",
       "      <td>2007</td>\n",
       "      <td>8</td>\n",
       "      <td>35-39</td>\n",
       "      <td>1.0</td>\n",
       "      <td>זכר</td>\n",
       "      <td>12.0</td>\n",
       "      <td>מונית</td>\n",
       "      <td>5.0</td>\n",
       "      <td>לא ידוע</td>\n",
       "      <td>604.0</td>\n",
       "      <td>בית עריף</td>\n",
       "      <td>NaN</td>\n",
       "      <td>NaN</td>\n",
       "      <td>NaN</td>\n",
       "      <td>NaN</td>\n",
       "      <td>8.0</td>\n",
       "      <td>לא ידוע</td>\n",
       "      <td>1.0</td>\n",
       "      <td>יהודים</td>\n",
       "      <td>4.0</td>\n",
       "      <td>המרכז</td>\n",
       "      <td>43</td>\n",
       "      <td>רמלה</td>\n",
       "      <td>431.0</td>\n",
       "      <td>אזור לוד</td>\n",
       "      <td>25.0</td>\n",
       "      <td>חבל מודיעין</td>\n",
       "      <td>31.0</td>\n",
       "      <td>מושבים (לרבות כפרים שיתופיים)</td>\n",
       "      <td>NaN</td>\n",
       "      <td>NaN</td>\n",
       "      <td>NaN</td>\n",
       "      <td>NaN</td>\n",
       "      <td>NaN</td>\n",
       "      <td>NaN</td>\n",
       "      <td>NaN</td>\n",
       "      <td>NaN</td>\n",
       "      <td>NaN</td>\n",
       "      <td>NaN</td>\n",
       "      <td>2.0</td>\n",
       "      <td>2</td>\n",
       "      <td>2008</td>\n",
       "      <td>9</td>\n",
       "      <td>NaN</td>\n",
       "      <td>NaN</td>\n",
       "    </tr>\n",
       "    <tr>\n",
       "      <th>46422</th>\n",
       "      <td>2008000037</td>\n",
       "      <td>12008000037</td>\n",
       "      <td>1</td>\n",
       "      <td>2</td>\n",
       "      <td>נהג נפגע</td>\n",
       "      <td>2005</td>\n",
       "      <td>5</td>\n",
       "      <td>20-24</td>\n",
       "      <td>1.0</td>\n",
       "      <td>זכר</td>\n",
       "      <td>1.0</td>\n",
       "      <td>רכב נוסעים פרטי</td>\n",
       "      <td>5.0</td>\n",
       "      <td>לא ידוע</td>\n",
       "      <td>3000.0</td>\n",
       "      <td>ירושלים</td>\n",
       "      <td>3.0</td>\n",
       "      <td>פצוע קל</td>\n",
       "      <td>2.0</td>\n",
       "      <td>נהג - רכב בעל 4 גלגלים ויותר</td>\n",
       "      <td>1.0</td>\n",
       "      <td>ישב ברכב במושב קדמי</td>\n",
       "      <td>1.0</td>\n",
       "      <td>יהודים</td>\n",
       "      <td>1.0</td>\n",
       "      <td>ירושלים</td>\n",
       "      <td>11</td>\n",
       "      <td>ירושלים</td>\n",
       "      <td>111.0</td>\n",
       "      <td>הרי יהודה</td>\n",
       "      <td>NaN</td>\n",
       "      <td>NaN</td>\n",
       "      <td>11.0</td>\n",
       "      <td>ירושלים</td>\n",
       "      <td>NaN</td>\n",
       "      <td>NaN</td>\n",
       "      <td>NaN</td>\n",
       "      <td>NaN</td>\n",
       "      <td>NaN</td>\n",
       "      <td>NaN</td>\n",
       "      <td>NaN</td>\n",
       "      <td>NaN</td>\n",
       "      <td>NaN</td>\n",
       "      <td>NaN</td>\n",
       "      <td>1.0</td>\n",
       "      <td>4</td>\n",
       "      <td>2008</td>\n",
       "      <td>9</td>\n",
       "      <td>NaN</td>\n",
       "      <td>NaN</td>\n",
       "    </tr>\n",
       "    <tr>\n",
       "      <th>46423</th>\n",
       "      <td>2008000037</td>\n",
       "      <td>12008000037</td>\n",
       "      <td>1</td>\n",
       "      <td>3</td>\n",
       "      <td>נפגע</td>\n",
       "      <td>0</td>\n",
       "      <td>8</td>\n",
       "      <td>35-39</td>\n",
       "      <td>2.0</td>\n",
       "      <td>נקבה</td>\n",
       "      <td>12.0</td>\n",
       "      <td>מונית</td>\n",
       "      <td>5.0</td>\n",
       "      <td>לא ידוע</td>\n",
       "      <td>604.0</td>\n",
       "      <td>בית עריף</td>\n",
       "      <td>3.0</td>\n",
       "      <td>פצוע קל</td>\n",
       "      <td>3.0</td>\n",
       "      <td>נוסע - רכב בעל 4 גלגלים ויותר</td>\n",
       "      <td>1.0</td>\n",
       "      <td>ישב ברכב במושב קדמי</td>\n",
       "      <td>1.0</td>\n",
       "      <td>יהודים</td>\n",
       "      <td>4.0</td>\n",
       "      <td>המרכז</td>\n",
       "      <td>43</td>\n",
       "      <td>רמלה</td>\n",
       "      <td>431.0</td>\n",
       "      <td>אזור לוד</td>\n",
       "      <td>25.0</td>\n",
       "      <td>חבל מודיעין</td>\n",
       "      <td>31.0</td>\n",
       "      <td>מושבים (לרבות כפרים שיתופיים)</td>\n",
       "      <td>NaN</td>\n",
       "      <td>NaN</td>\n",
       "      <td>NaN</td>\n",
       "      <td>NaN</td>\n",
       "      <td>NaN</td>\n",
       "      <td>NaN</td>\n",
       "      <td>NaN</td>\n",
       "      <td>NaN</td>\n",
       "      <td>NaN</td>\n",
       "      <td>NaN</td>\n",
       "      <td>2.0</td>\n",
       "      <td>1</td>\n",
       "      <td>2008</td>\n",
       "      <td>9</td>\n",
       "      <td>NaN</td>\n",
       "      <td>NaN</td>\n",
       "    </tr>\n",
       "    <tr>\n",
       "      <th>46424</th>\n",
       "      <td>2008000037</td>\n",
       "      <td>12008000037</td>\n",
       "      <td>1</td>\n",
       "      <td>3</td>\n",
       "      <td>נפגע</td>\n",
       "      <td>0</td>\n",
       "      <td>1</td>\n",
       "      <td>00-04</td>\n",
       "      <td>1.0</td>\n",
       "      <td>זכר</td>\n",
       "      <td>12.0</td>\n",
       "      <td>מונית</td>\n",
       "      <td>5.0</td>\n",
       "      <td>לא ידוע</td>\n",
       "      <td>604.0</td>\n",
       "      <td>בית עריף</td>\n",
       "      <td>3.0</td>\n",
       "      <td>פצוע קל</td>\n",
       "      <td>3.0</td>\n",
       "      <td>נוסע - רכב בעל 4 גלגלים ויותר</td>\n",
       "      <td>2.0</td>\n",
       "      <td>ישב ברכב במושב אחורי</td>\n",
       "      <td>1.0</td>\n",
       "      <td>יהודים</td>\n",
       "      <td>4.0</td>\n",
       "      <td>המרכז</td>\n",
       "      <td>43</td>\n",
       "      <td>רמלה</td>\n",
       "      <td>431.0</td>\n",
       "      <td>אזור לוד</td>\n",
       "      <td>25.0</td>\n",
       "      <td>חבל מודיעין</td>\n",
       "      <td>31.0</td>\n",
       "      <td>מושבים (לרבות כפרים שיתופיים)</td>\n",
       "      <td>NaN</td>\n",
       "      <td>NaN</td>\n",
       "      <td>NaN</td>\n",
       "      <td>NaN</td>\n",
       "      <td>NaN</td>\n",
       "      <td>NaN</td>\n",
       "      <td>NaN</td>\n",
       "      <td>NaN</td>\n",
       "      <td>NaN</td>\n",
       "      <td>NaN</td>\n",
       "      <td>2.0</td>\n",
       "      <td>5</td>\n",
       "      <td>2008</td>\n",
       "      <td>9</td>\n",
       "      <td>NaN</td>\n",
       "      <td>NaN</td>\n",
       "    </tr>\n",
       "  </tbody>\n",
       "</table>\n",
       "</div>"
      ],
      "text/plain": [
       "       accident_id  provider_and_id  provider_code  involved_type  \\\n",
       "45079   2008000037      12008000037              1              3   \n",
       "45108   2008000037      12008000037              1              3   \n",
       "45152   2008000037      12008000037              1              1   \n",
       "46422   2008000037      12008000037              1              2   \n",
       "46423   2008000037      12008000037              1              3   \n",
       "46424   2008000037      12008000037              1              3   \n",
       "\n",
       "      involved_type_hebrew  license_acquiring_date  age_group  \\\n",
       "45079                 נפגע                       0          5   \n",
       "45108                 נפגע                       0          1   \n",
       "45152                  נהג                    2007          8   \n",
       "46422             נהג נפגע                    2005          5   \n",
       "46423                 נפגע                       0          8   \n",
       "46424                 נפגע                       0          1   \n",
       "\n",
       "      age_group_hebrew  sex sex_hebrew  vehicle_type vehicle_type_hebrew  \\\n",
       "45079            20-24  2.0       נקבה           1.0     רכב נוסעים פרטי   \n",
       "45108            00-04  2.0       נקבה          12.0               מונית   \n",
       "45152            35-39  1.0        זכר          12.0               מונית   \n",
       "46422            20-24  1.0        זכר           1.0     רכב נוסעים פרטי   \n",
       "46423            35-39  2.0       נקבה          12.0               מונית   \n",
       "46424            00-04  1.0        זכר          12.0               מונית   \n",
       "\n",
       "       safety_measures safety_measures_hebrew  involve_yishuv_symbol  \\\n",
       "45079              5.0                לא ידוע                  681.0   \n",
       "45108              5.0                לא ידוע                  604.0   \n",
       "45152              5.0                לא ידוע                  604.0   \n",
       "46422              5.0                לא ידוע                 3000.0   \n",
       "46423              5.0                לא ידוע                  604.0   \n",
       "46424              5.0                לא ידוע                  604.0   \n",
       "\n",
       "      involve_yishuv_name  injury_severity injury_severity_hebrew  \\\n",
       "45079          גבעת שמואל              3.0                פצוע קל   \n",
       "45108            בית עריף              3.0                פצוע קל   \n",
       "45152            בית עריף              NaN                    NaN   \n",
       "46422             ירושלים              3.0                פצוע קל   \n",
       "46423            בית עריף              3.0                פצוע קל   \n",
       "46424            בית עריף              3.0                פצוע קל   \n",
       "\n",
       "       injured_type            injured_type_hebrew  injured_position  \\\n",
       "45079           3.0  נוסע - רכב בעל 4 גלגלים ויותר               1.0   \n",
       "45108           3.0  נוסע - רכב בעל 4 גלגלים ויותר               2.0   \n",
       "45152           NaN                            NaN               8.0   \n",
       "46422           2.0   נהג - רכב בעל 4 גלגלים ויותר               1.0   \n",
       "46423           3.0  נוסע - רכב בעל 4 גלגלים ויותר               1.0   \n",
       "46424           3.0  נוסע - רכב בעל 4 גלגלים ויותר               2.0   \n",
       "\n",
       "      injured_position_hebrew  population_type population_type_hebrew  \\\n",
       "45079     ישב ברכב במושב קדמי              1.0                 יהודים   \n",
       "45108    ישב ברכב במושב אחורי              1.0                 יהודים   \n",
       "45152                 לא ידוע              1.0                 יהודים   \n",
       "46422     ישב ברכב במושב קדמי              1.0                 יהודים   \n",
       "46423     ישב ברכב במושב קדמי              1.0                 יהודים   \n",
       "46424    ישב ברכב במושב אחורי              1.0                 יהודים   \n",
       "\n",
       "       home_region home_region_hebrew  home_district home_district_hebrew  \\\n",
       "45079          4.0              המרכז             42            פתח תקווה   \n",
       "45108          4.0              המרכז             43                 רמלה   \n",
       "45152          4.0              המרכז             43                 רמלה   \n",
       "46422          1.0            ירושלים             11              ירושלים   \n",
       "46423          4.0              המרכז             43                 רמלה   \n",
       "46424          4.0              המרכז             43                 רמלה   \n",
       "\n",
       "       home_natural_area home_natural_area_hebrew  home_municipal_status  \\\n",
       "45079              422.0           אזור פתח תקווה                    NaN   \n",
       "45108              431.0                 אזור לוד                   25.0   \n",
       "45152              431.0                 אזור לוד                   25.0   \n",
       "46422              111.0                הרי יהודה                    NaN   \n",
       "46423              431.0                 אזור לוד                   25.0   \n",
       "46424              431.0                 אזור לוד                   25.0   \n",
       "\n",
       "      home_municipal_status_hebrew  home_residence_type  \\\n",
       "45079                          NaN                 17.0   \n",
       "45108                  חבל מודיעין                 31.0   \n",
       "45152                  חבל מודיעין                 31.0   \n",
       "46422                          NaN                 11.0   \n",
       "46423                  חבל מודיעין                 31.0   \n",
       "46424                  חבל מודיעין                 31.0   \n",
       "\n",
       "            home_residence_type_hebrew  hospital_time hospital_time_hebrew  \\\n",
       "45079  10,000-19,999-תושב, יישוב יהודי            NaN                  NaN   \n",
       "45108    מושבים (לרבות כפרים שיתופיים)            NaN                  NaN   \n",
       "45152    מושבים (לרבות כפרים שיתופיים)            NaN                  NaN   \n",
       "46422                          ירושלים            NaN                  NaN   \n",
       "46423    מושבים (לרבות כפרים שיתופיים)            NaN                  NaN   \n",
       "46424    מושבים (לרבות כפרים שיתופיים)            NaN                  NaN   \n",
       "\n",
       "       medical_type medical_type_hebrew  release_dest release_dest_hebrew  \\\n",
       "45079           NaN                 NaN           NaN                 NaN   \n",
       "45108           NaN                 NaN           NaN                 NaN   \n",
       "45152           NaN                 NaN           NaN                 NaN   \n",
       "46422           NaN                 NaN           NaN                 NaN   \n",
       "46423           NaN                 NaN           NaN                 NaN   \n",
       "46424           NaN                 NaN           NaN                 NaN   \n",
       "\n",
       "       safety_measures_use safety_measures_use_hebrew  late_deceased  \\\n",
       "45079                  NaN                        NaN            NaN   \n",
       "45108                  NaN                        NaN            NaN   \n",
       "45152                  NaN                        NaN            NaN   \n",
       "46422                  NaN                        NaN            NaN   \n",
       "46423                  NaN                        NaN            NaN   \n",
       "46424                  NaN                        NaN            NaN   \n",
       "\n",
       "      late_deceased_hebrew  car_id  involve_id  accident_year  accident_month  \\\n",
       "45079                  NaN     1.0           3           2008               9   \n",
       "45108                  NaN     2.0           6           2008               9   \n",
       "45152                  NaN     2.0           2           2008               9   \n",
       "46422                  NaN     1.0           4           2008               9   \n",
       "46423                  NaN     2.0           1           2008               9   \n",
       "46424                  NaN     2.0           5           2008               9   \n",
       "\n",
       "       injury_severity_mais  injury_severity_mais_hebrew  \n",
       "45079                   NaN                          NaN  \n",
       "45108                   NaN                          NaN  \n",
       "45152                   NaN                          NaN  \n",
       "46422                   NaN                          NaN  \n",
       "46423                   NaN                          NaN  \n",
       "46424                   NaN                          NaN  "
      ]
     },
     "execution_count": 23,
     "metadata": {},
     "output_type": "execute_result"
    }
   ],
   "source": [
    "print('Example of 6 people involved')\n",
    "involved_hebrew[involved_hebrew['provider_and_id'] == 12008000037]"
   ]
  },
  {
   "cell_type": "markdown",
   "metadata": {},
   "source": [
    "# provider_code"
   ]
  },
  {
   "cell_type": "code",
   "execution_count": 24,
   "metadata": {
    "scrolled": true
   },
   "outputs": [
    {
     "name": "stdout",
     "output_type": "stream",
     "text": [
      "Counts of different values of provider_code\n"
     ]
    },
    {
     "data": {
      "text/plain": [
       "3    1263183\n",
       "1     415782\n",
       "Name: provider_code, dtype: int64"
      ]
     },
     "execution_count": 24,
     "metadata": {},
     "output_type": "execute_result"
    }
   ],
   "source": [
    "provider_code_counts = involved_hebrew['provider_code'].value_counts()\n",
    "print('Counts of different values of provider_code')\n",
    "provider_code_counts"
   ]
  },
  {
   "cell_type": "code",
   "execution_count": 25,
   "metadata": {
    "scrolled": true
   },
   "outputs": [
    {
     "name": "stdout",
     "output_type": "stream",
     "text": [
      "Small: About 25.0 % of accidents get investigated by the police.\n"
     ]
    }
   ],
   "source": [
    "print(f'Small: About {(100 * provider_code_counts[1]/(provider_code_counts[1] + provider_code_counts[3])).round(0)} % of accidents get investigated by the police.')"
   ]
  },
  {
   "cell_type": "markdown",
   "metadata": {},
   "source": [
    "# involved_type"
   ]
  },
  {
   "cell_type": "code",
   "execution_count": 28,
   "metadata": {},
   "outputs": [
    {
     "name": "stdout",
     "output_type": "stream",
     "text": [
      "Counts of different values of involved_type:\n"
     ]
    },
    {
     "data": {
      "text/plain": [
       "2    635781\n",
       "1    629760\n",
       "3    413424\n",
       "Name: involved_type, dtype: int64"
      ]
     },
     "execution_count": 28,
     "metadata": {},
     "output_type": "execute_result"
    }
   ],
   "source": [
    "print('Counts of different values of involved_type:')\n",
    "involved_hebrew['involved_type'].value_counts()"
   ]
  },
  {
   "cell_type": "code",
   "execution_count": 29,
   "metadata": {},
   "outputs": [
    {
     "name": "stdout",
     "output_type": "stream",
     "text": [
      "Counts of different values of involved_type_hebrew:\n"
     ]
    },
    {
     "data": {
      "text/plain": [
       "נהג נפגע    635781\n",
       "נהג         629760\n",
       "נפגע        413424\n",
       "Name: involved_type_hebrew, dtype: int64"
      ]
     },
     "execution_count": 29,
     "metadata": {},
     "output_type": "execute_result"
    }
   ],
   "source": [
    "print('Counts of different values of involved_type_hebrew:')\n",
    "involved_hebrew['involved_type_hebrew'].value_counts()"
   ]
  },
  {
   "cell_type": "markdown",
   "metadata": {},
   "source": [
    "This is a table of all involved, an involved can be a passanger/pedastrian that was injured.  But he can also be a driver.  There are 2 types of drivers - injured and not injured  "
   ]
  },
  {
   "cell_type": "code",
   "execution_count": 30,
   "metadata": {},
   "outputs": [
    {
     "name": "stdout",
     "output_type": "stream",
     "text": [
      "Drivers: 1265541, injured: 1049205\n"
     ]
    }
   ],
   "source": [
    "driver_or_injured = involved_hebrew.copy()\n",
    "driver_or_injured['driver'] = driver_or_injured['involved_type'].apply(lambda involved_type: 1 if involved_type in [1,2] else 0)\n",
    "driver_or_injured['injured'] = driver_or_injured['involved_type'].apply(lambda involved_type: 1 if involved_type in [2,3] else 0)\n",
    "print(f\"Drivers: {driver_or_injured['driver'].sum()}, injured: {driver_or_injured['injured'].sum()}\")"
   ]
  },
  {
   "cell_type": "code",
   "execution_count": 31,
   "metadata": {},
   "outputs": [
    {
     "name": "stdout",
     "output_type": "stream",
     "text": [
      "Small: Drivers are around 75.0% of involved in accidents\n"
     ]
    }
   ],
   "source": [
    "print(f\"Small: Drivers are around {(100 * driver_or_injured['driver'].value_counts()[1] / len(involved_hebrew)).round()}% of involved in accidents\")"
   ]
  },
  {
   "cell_type": "code",
   "execution_count": 34,
   "metadata": {},
   "outputs": [
    {
     "name": "stdout",
     "output_type": "stream",
     "text": [
      "Number of injured and not injured:\n"
     ]
    },
    {
     "data": {
      "text/plain": [
       "1    1049205\n",
       "0     629760\n",
       "Name: injured, dtype: int64"
      ]
     },
     "execution_count": 34,
     "metadata": {},
     "output_type": "execute_result"
    }
   ],
   "source": [
    "print('Number of injured and not injured:')\n",
    "driver_or_injured['injured'].value_counts()"
   ]
  },
  {
   "cell_type": "code",
   "execution_count": 33,
   "metadata": {},
   "outputs": [
    {
     "name": "stdout",
     "output_type": "stream",
     "text": [
      "Small: Injured are around 62.0% of involved in accidents where there are injuries\n"
     ]
    }
   ],
   "source": [
    "print(f\"Small: Injured are around {(100 * driver_or_injured['injured'].value_counts()[1] / len(involved_hebrew)).round()}% of involved in accidents where there are injuries\")"
   ]
  },
  {
   "cell_type": "code",
   "execution_count": 35,
   "metadata": {},
   "outputs": [
    {
     "data": {
      "text/plain": [
       "Text(0.5, 1.0, 'Number of injured per accident')"
      ]
     },
     "execution_count": 35,
     "metadata": {},
     "output_type": "execute_result"
    },
    {
     "data": {
      "image/png": "[encoded data removed]",
      "text/plain": [
       "<Figure size 1440x216 with 1 Axes>"
      ]
     },
     "metadata": {
      "needs_background": "light"
     },
     "output_type": "display_data"
    }
   ],
   "source": [
    "fig = plt.figure(figsize=(20,3))\n",
    "ax = sns.countplot(driver_or_injured.groupby(by='provider_and_id')['injured'].sum())\n",
    "ax.set_title('Number of injured per accident')"
   ]
  },
  {
   "cell_type": "code",
   "execution_count": 36,
   "metadata": {},
   "outputs": [
    {
     "name": "stdout",
     "output_type": "stream",
     "text": [
      "Numbers of accidents per number of injured:\n"
     ]
    },
    {
     "data": {
      "text/plain": [
       "1     519139\n",
       "2     114651\n",
       "3      40255\n",
       "4      19314\n",
       "5       9707\n",
       "6       3646\n",
       "7       1685\n",
       "8        823\n",
       "9        494\n",
       "10       235\n",
       "11       135\n",
       "12        91\n",
       "13        58\n",
       "14        46\n",
       "15        33\n",
       "16        16\n",
       "17        16\n",
       "18        11\n",
       "20         9\n",
       "21         8\n",
       "19         7\n",
       "24         6\n",
       "22         4\n",
       "35         4\n",
       "26         4\n",
       "39         3\n",
       "28         3\n",
       "29         2\n",
       "34         2\n",
       "36         2\n",
       "57         1\n",
       "53         1\n",
       "51         1\n",
       "48         1\n",
       "47         1\n",
       "45         1\n",
       "59         1\n",
       "37         1\n",
       "23         1\n",
       "33         1\n",
       "32         1\n",
       "27         1\n",
       "25         1\n",
       "68         1\n",
       "Name: injured, dtype: int64"
      ]
     },
     "execution_count": 36,
     "metadata": {},
     "output_type": "execute_result"
    }
   ],
   "source": [
    "print('Numbers of accidents per number of injured:')\n",
    "driver_or_injured.groupby(by='provider_and_id')['injured'].sum().value_counts()"
   ]
  },
  {
   "cell_type": "code",
   "execution_count": 37,
   "metadata": {},
   "outputs": [
    {
     "name": "stdout",
     "output_type": "stream",
     "text": [
      "Number of accidents with given number of injured \n"
     ]
    },
    {
     "data": {
      "text/html": [
       "<div>\n",
       "<style scoped>\n",
       "    .dataframe tbody tr th:only-of-type {\n",
       "        vertical-align: middle;\n",
       "    }\n",
       "\n",
       "    .dataframe tbody tr th {\n",
       "        vertical-align: top;\n",
       "    }\n",
       "\n",
       "    .dataframe thead th {\n",
       "        text-align: right;\n",
       "    }\n",
       "</style>\n",
       "<table border=\"1\" class=\"dataframe\">\n",
       "  <thead>\n",
       "    <tr style=\"text-align: right;\">\n",
       "      <th></th>\n",
       "      <th>Num accidents</th>\n",
       "      <th>% accidents</th>\n",
       "      <th>acc % accidents</th>\n",
       "    </tr>\n",
       "    <tr>\n",
       "      <th>Num injured</th>\n",
       "      <th></th>\n",
       "      <th></th>\n",
       "      <th></th>\n",
       "    </tr>\n",
       "  </thead>\n",
       "  <tbody>\n",
       "    <tr>\n",
       "      <th>1</th>\n",
       "      <td>519139</td>\n",
       "      <td>73.074633</td>\n",
       "      <td>73.074633</td>\n",
       "    </tr>\n",
       "    <tr>\n",
       "      <th>2</th>\n",
       "      <td>114651</td>\n",
       "      <td>16.138413</td>\n",
       "      <td>89.213046</td>\n",
       "    </tr>\n",
       "    <tr>\n",
       "      <th>3</th>\n",
       "      <td>40255</td>\n",
       "      <td>5.666342</td>\n",
       "      <td>94.879389</td>\n",
       "    </tr>\n",
       "    <tr>\n",
       "      <th>4</th>\n",
       "      <td>19314</td>\n",
       "      <td>2.718662</td>\n",
       "      <td>97.598051</td>\n",
       "    </tr>\n",
       "    <tr>\n",
       "      <th>5</th>\n",
       "      <td>9707</td>\n",
       "      <td>1.366369</td>\n",
       "      <td>98.964420</td>\n",
       "    </tr>\n",
       "    <tr>\n",
       "      <th>6</th>\n",
       "      <td>3646</td>\n",
       "      <td>0.513215</td>\n",
       "      <td>99.477635</td>\n",
       "    </tr>\n",
       "    <tr>\n",
       "      <th>7</th>\n",
       "      <td>1685</td>\n",
       "      <td>0.237183</td>\n",
       "      <td>99.714818</td>\n",
       "    </tr>\n",
       "    <tr>\n",
       "      <th>8</th>\n",
       "      <td>823</td>\n",
       "      <td>0.115846</td>\n",
       "      <td>99.830664</td>\n",
       "    </tr>\n",
       "    <tr>\n",
       "      <th>9</th>\n",
       "      <td>494</td>\n",
       "      <td>0.069536</td>\n",
       "      <td>99.900200</td>\n",
       "    </tr>\n",
       "    <tr>\n",
       "      <th>10</th>\n",
       "      <td>235</td>\n",
       "      <td>0.033079</td>\n",
       "      <td>99.933279</td>\n",
       "    </tr>\n",
       "    <tr>\n",
       "      <th>11</th>\n",
       "      <td>135</td>\n",
       "      <td>0.019003</td>\n",
       "      <td>99.952282</td>\n",
       "    </tr>\n",
       "    <tr>\n",
       "      <th>12</th>\n",
       "      <td>91</td>\n",
       "      <td>0.012809</td>\n",
       "      <td>99.965091</td>\n",
       "    </tr>\n",
       "    <tr>\n",
       "      <th>13</th>\n",
       "      <td>58</td>\n",
       "      <td>0.008164</td>\n",
       "      <td>99.973255</td>\n",
       "    </tr>\n",
       "    <tr>\n",
       "      <th>14</th>\n",
       "      <td>46</td>\n",
       "      <td>0.006475</td>\n",
       "      <td>99.979730</td>\n",
       "    </tr>\n",
       "    <tr>\n",
       "      <th>15</th>\n",
       "      <td>33</td>\n",
       "      <td>0.004645</td>\n",
       "      <td>99.984376</td>\n",
       "    </tr>\n",
       "    <tr>\n",
       "      <th>16</th>\n",
       "      <td>16</td>\n",
       "      <td>0.002252</td>\n",
       "      <td>99.986628</td>\n",
       "    </tr>\n",
       "    <tr>\n",
       "      <th>17</th>\n",
       "      <td>16</td>\n",
       "      <td>0.002252</td>\n",
       "      <td>99.988880</td>\n",
       "    </tr>\n",
       "    <tr>\n",
       "      <th>18</th>\n",
       "      <td>11</td>\n",
       "      <td>0.001548</td>\n",
       "      <td>99.990428</td>\n",
       "    </tr>\n",
       "    <tr>\n",
       "      <th>19</th>\n",
       "      <td>7</td>\n",
       "      <td>0.000985</td>\n",
       "      <td>99.991414</td>\n",
       "    </tr>\n",
       "    <tr>\n",
       "      <th>20</th>\n",
       "      <td>9</td>\n",
       "      <td>0.001267</td>\n",
       "      <td>99.992680</td>\n",
       "    </tr>\n",
       "    <tr>\n",
       "      <th>21</th>\n",
       "      <td>8</td>\n",
       "      <td>0.001126</td>\n",
       "      <td>99.993807</td>\n",
       "    </tr>\n",
       "    <tr>\n",
       "      <th>22</th>\n",
       "      <td>4</td>\n",
       "      <td>0.000563</td>\n",
       "      <td>99.994370</td>\n",
       "    </tr>\n",
       "    <tr>\n",
       "      <th>23</th>\n",
       "      <td>1</td>\n",
       "      <td>0.000141</td>\n",
       "      <td>99.994510</td>\n",
       "    </tr>\n",
       "    <tr>\n",
       "      <th>24</th>\n",
       "      <td>6</td>\n",
       "      <td>0.000845</td>\n",
       "      <td>99.995355</td>\n",
       "    </tr>\n",
       "    <tr>\n",
       "      <th>25</th>\n",
       "      <td>1</td>\n",
       "      <td>0.000141</td>\n",
       "      <td>99.995496</td>\n",
       "    </tr>\n",
       "    <tr>\n",
       "      <th>26</th>\n",
       "      <td>4</td>\n",
       "      <td>0.000563</td>\n",
       "      <td>99.996059</td>\n",
       "    </tr>\n",
       "    <tr>\n",
       "      <th>27</th>\n",
       "      <td>1</td>\n",
       "      <td>0.000141</td>\n",
       "      <td>99.996199</td>\n",
       "    </tr>\n",
       "    <tr>\n",
       "      <th>28</th>\n",
       "      <td>3</td>\n",
       "      <td>0.000422</td>\n",
       "      <td>99.996622</td>\n",
       "    </tr>\n",
       "    <tr>\n",
       "      <th>29</th>\n",
       "      <td>2</td>\n",
       "      <td>0.000282</td>\n",
       "      <td>99.996903</td>\n",
       "    </tr>\n",
       "    <tr>\n",
       "      <th>32</th>\n",
       "      <td>1</td>\n",
       "      <td>0.000141</td>\n",
       "      <td>99.997044</td>\n",
       "    </tr>\n",
       "    <tr>\n",
       "      <th>33</th>\n",
       "      <td>1</td>\n",
       "      <td>0.000141</td>\n",
       "      <td>99.997185</td>\n",
       "    </tr>\n",
       "    <tr>\n",
       "      <th>34</th>\n",
       "      <td>2</td>\n",
       "      <td>0.000282</td>\n",
       "      <td>99.997466</td>\n",
       "    </tr>\n",
       "    <tr>\n",
       "      <th>35</th>\n",
       "      <td>4</td>\n",
       "      <td>0.000563</td>\n",
       "      <td>99.998029</td>\n",
       "    </tr>\n",
       "    <tr>\n",
       "      <th>36</th>\n",
       "      <td>2</td>\n",
       "      <td>0.000282</td>\n",
       "      <td>99.998311</td>\n",
       "    </tr>\n",
       "    <tr>\n",
       "      <th>37</th>\n",
       "      <td>1</td>\n",
       "      <td>0.000141</td>\n",
       "      <td>99.998452</td>\n",
       "    </tr>\n",
       "    <tr>\n",
       "      <th>39</th>\n",
       "      <td>3</td>\n",
       "      <td>0.000422</td>\n",
       "      <td>99.998874</td>\n",
       "    </tr>\n",
       "    <tr>\n",
       "      <th>45</th>\n",
       "      <td>1</td>\n",
       "      <td>0.000141</td>\n",
       "      <td>99.999015</td>\n",
       "    </tr>\n",
       "    <tr>\n",
       "      <th>47</th>\n",
       "      <td>1</td>\n",
       "      <td>0.000141</td>\n",
       "      <td>99.999155</td>\n",
       "    </tr>\n",
       "    <tr>\n",
       "      <th>48</th>\n",
       "      <td>1</td>\n",
       "      <td>0.000141</td>\n",
       "      <td>99.999296</td>\n",
       "    </tr>\n",
       "    <tr>\n",
       "      <th>51</th>\n",
       "      <td>1</td>\n",
       "      <td>0.000141</td>\n",
       "      <td>99.999437</td>\n",
       "    </tr>\n",
       "    <tr>\n",
       "      <th>53</th>\n",
       "      <td>1</td>\n",
       "      <td>0.000141</td>\n",
       "      <td>99.999578</td>\n",
       "    </tr>\n",
       "    <tr>\n",
       "      <th>57</th>\n",
       "      <td>1</td>\n",
       "      <td>0.000141</td>\n",
       "      <td>99.999718</td>\n",
       "    </tr>\n",
       "    <tr>\n",
       "      <th>59</th>\n",
       "      <td>1</td>\n",
       "      <td>0.000141</td>\n",
       "      <td>99.999859</td>\n",
       "    </tr>\n",
       "    <tr>\n",
       "      <th>68</th>\n",
       "      <td>1</td>\n",
       "      <td>0.000141</td>\n",
       "      <td>100.000000</td>\n",
       "    </tr>\n",
       "  </tbody>\n",
       "</table>\n",
       "</div>"
      ],
      "text/plain": [
       "             Num accidents  % accidents  acc % accidents\n",
       "Num injured                                             \n",
       "1                   519139    73.074633        73.074633\n",
       "2                   114651    16.138413        89.213046\n",
       "3                    40255     5.666342        94.879389\n",
       "4                    19314     2.718662        97.598051\n",
       "5                     9707     1.366369        98.964420\n",
       "6                     3646     0.513215        99.477635\n",
       "7                     1685     0.237183        99.714818\n",
       "8                      823     0.115846        99.830664\n",
       "9                      494     0.069536        99.900200\n",
       "10                     235     0.033079        99.933279\n",
       "11                     135     0.019003        99.952282\n",
       "12                      91     0.012809        99.965091\n",
       "13                      58     0.008164        99.973255\n",
       "14                      46     0.006475        99.979730\n",
       "15                      33     0.004645        99.984376\n",
       "16                      16     0.002252        99.986628\n",
       "17                      16     0.002252        99.988880\n",
       "18                      11     0.001548        99.990428\n",
       "19                       7     0.000985        99.991414\n",
       "20                       9     0.001267        99.992680\n",
       "21                       8     0.001126        99.993807\n",
       "22                       4     0.000563        99.994370\n",
       "23                       1     0.000141        99.994510\n",
       "24                       6     0.000845        99.995355\n",
       "25                       1     0.000141        99.995496\n",
       "26                       4     0.000563        99.996059\n",
       "27                       1     0.000141        99.996199\n",
       "28                       3     0.000422        99.996622\n",
       "29                       2     0.000282        99.996903\n",
       "32                       1     0.000141        99.997044\n",
       "33                       1     0.000141        99.997185\n",
       "34                       2     0.000282        99.997466\n",
       "35                       4     0.000563        99.998029\n",
       "36                       2     0.000282        99.998311\n",
       "37                       1     0.000141        99.998452\n",
       "39                       3     0.000422        99.998874\n",
       "45                       1     0.000141        99.999015\n",
       "47                       1     0.000141        99.999155\n",
       "48                       1     0.000141        99.999296\n",
       "51                       1     0.000141        99.999437\n",
       "53                       1     0.000141        99.999578\n",
       "57                       1     0.000141        99.999718\n",
       "59                       1     0.000141        99.999859\n",
       "68                       1     0.000141       100.000000"
      ]
     },
     "execution_count": 37,
     "metadata": {},
     "output_type": "execute_result"
    }
   ],
   "source": [
    "injured_nums = pd.DataFrame({'Num accidents': driver_or_injured.groupby(by='provider_and_id')['injured'].sum().value_counts().sort_index()})\n",
    "injured_nums.index.names = ['Num injured']\n",
    "injured_nums['% accidents'] = injured_nums['Num accidents'] / injured_nums['Num accidents'].sum() * 100\n",
    "injured_nums['acc % accidents'] = injured_nums['% accidents'].cumsum()\n",
    "print('Number of accidents with given number of injured ')\n",
    "injured_nums"
   ]
  },
  {
   "cell_type": "code",
   "execution_count": 38,
   "metadata": {},
   "outputs": [
    {
     "name": "stdout",
     "output_type": "stream",
     "text": [
      "Seems that there is no accident without any injured (we only have data with injuries), so can't do correlation between whether police opened investigation for injured\n"
     ]
    }
   ],
   "source": [
    "tmp = driver_or_injured.groupby(by='provider_and_id')[['injured','provider_code']].max()\n",
    "tmp['provider_code'] = tmp['provider_code'].map({1:1, 3:0})\n",
    "print(\"Seems that there is no accident without any injured (we only have data with injuries), so can't do correlation between whether police opened investigation for injured\")\n",
    "#tmp.corr()"
   ]
  },
  {
   "cell_type": "markdown",
   "metadata": {},
   "source": [
    "# license_acquiring_date"
   ]
  },
  {
   "cell_type": "code",
   "execution_count": 39,
   "metadata": {
    "scrolled": true
   },
   "outputs": [
    {
     "data": {
      "text/plain": [
       "0       752295\n",
       "1911         1\n",
       "1948        38\n",
       "1949       163\n",
       "1950       204\n",
       "1951       145\n",
       "1952       217\n",
       "1953       163\n",
       "1954       228\n",
       "1955       279\n",
       "1956       917\n",
       "1957       928\n",
       "1958       969\n",
       "1959      1012\n",
       "1960      1186\n",
       "1961      1269\n",
       "1962      1980\n",
       "1963      2583\n",
       "1964      2699\n",
       "1965      3282\n",
       "1966      4058\n",
       "1967      3291\n",
       "1968      4244\n",
       "1969      4662\n",
       "1970      4965\n",
       "1971      5099\n",
       "1972      7837\n",
       "1973      6758\n",
       "1974      8850\n",
       "1975      9086\n",
       "         ...  \n",
       "1991     29404\n",
       "1992     25241\n",
       "1993     25413\n",
       "1994     23402\n",
       "1995     28187\n",
       "1996     27991\n",
       "1997     24733\n",
       "1998     26535\n",
       "1999     28378\n",
       "2000     32362\n",
       "2001     29148\n",
       "2002     29910\n",
       "2003     30268\n",
       "2004     30361\n",
       "2005     30492\n",
       "2006     30520\n",
       "2007     30874\n",
       "2008     30694\n",
       "2009     26722\n",
       "2010     21895\n",
       "2011     20121\n",
       "2012     16382\n",
       "2013     14592\n",
       "2014     13173\n",
       "2015      8980\n",
       "2016      5958\n",
       "2017      4581\n",
       "2018       973\n",
       "3055         1\n",
       "4444        44\n",
       "Name: license_acquiring_date, Length: 75, dtype: int64"
      ]
     },
     "execution_count": 39,
     "metadata": {},
     "output_type": "execute_result"
    }
   ],
   "source": [
    "involved_hebrew['license_acquiring_date'].value_counts().sort_index()"
   ]
  },
  {
   "cell_type": "markdown",
   "metadata": {},
   "source": [
    "TODO: Years 1911, 3055, 4444 don't make sense and need to be cleaned out"
   ]
  },
  {
   "cell_type": "markdown",
   "metadata": {},
   "source": [
    "Need to understand if all the values of 752295 without license_acquiring_date are because they were not drivers"
   ]
  },
  {
   "cell_type": "markdown",
   "metadata": {},
   "source": [
    "Seems that small part of Injured drivers don't have a license date, but a very large part (>50%) of the Drivers don't have!!!"
   ]
  },
  {
   "cell_type": "code",
   "execution_count": 40,
   "metadata": {},
   "outputs": [
    {
     "name": "stderr",
     "output_type": "stream",
     "text": [
      "C:\\Users\\rkrichev\\AppData\\Local\\Continuum\\anaconda3\\lib\\site-packages\\ipykernel_launcher.py:7: SettingWithCopyWarning: \n",
      "A value is trying to be set on a copy of a slice from a DataFrame.\n",
      "Try using .loc[row_indexer,col_indexer] = value instead\n",
      "\n",
      "See the caveats in the documentation: http://pandas.pydata.org/pandas-docs/stable/indexing.html#indexing-view-versus-copy\n",
      "  import sys\n"
     ]
    },
    {
     "name": "stdout",
     "output_type": "stream",
     "text": [
      "Number of accidents: 893414\n"
     ]
    },
    {
     "data": {
      "text/plain": [
       "Text(0.5, 1.0, 'Number of accidents a driver is involved in based on number of years on the road')"
      ]
     },
     "execution_count": 40,
     "metadata": {},
     "output_type": "execute_result"
    },
    {
     "data": {
      "image/png": "[encoded data removed]",
      "text/plain": [
       "<Figure size 1440x360 with 1 Axes>"
      ]
     },
     "metadata": {
      "needs_background": "light"
     },
     "output_type": "display_data"
    }
   ],
   "source": [
    "num_years_before_accident = involved_hebrew.copy()\n",
    "num_years_before_accident = involved_hebrew[((involved_hebrew['involved_type'] == 1) | (involved_hebrew['involved_type'] == 2)) \n",
    "                                            & (involved_hebrew['license_acquiring_date'] != 0)\n",
    "                                            & (involved_hebrew['license_acquiring_date'] >= 1948)\n",
    "                                            & (involved_hebrew['license_acquiring_date'] <= 2018)\n",
    "                                            & (involved_hebrew['license_acquiring_date'] <= involved_hebrew['accident_year'])]\n",
    "num_years_before_accident['years_on_road'] = num_years_before_accident.apply(lambda driver: driver['accident_year'] - driver['license_acquiring_date'], axis=1)\n",
    "print(f'Number of accidents: {len(num_years_before_accident)}')\n",
    "plt.figure(figsize=(20,5)).tight_layout()\n",
    "ax = sns.countplot(num_years_before_accident['years_on_road'])\n",
    "ax.set_ylabel('Number of accidents')\n",
    "ax.set_title('Number of accidents a driver is involved in based on number of years on the road')"
   ]
  },
  {
   "cell_type": "code",
   "execution_count": 42,
   "metadata": {},
   "outputs": [
    {
     "data": {
      "text/plain": [
       "Text(0.5, 1.0, 'KDE of years on the road vs chance of being involved in an accident')"
      ]
     },
     "execution_count": 42,
     "metadata": {},
     "output_type": "execute_result"
    },
    {
     "data": {
      "image/png": "[encoded data removed]",
      "text/plain": [
       "<Figure size 432x288 with 1 Axes>"
      ]
     },
     "metadata": {
      "needs_background": "light"
     },
     "output_type": "display_data"
    }
   ],
   "source": [
    "ax = sns.distplot(num_years_before_accident['years_on_road'], bins=10)\n",
    "ax.set_title('KDE of years on the road vs chance of being involved in an accident')"
   ]
  },
  {
   "cell_type": "code",
   "execution_count": 43,
   "metadata": {},
   "outputs": [
    {
     "name": "stdout",
     "output_type": "stream",
     "text": [
      "Number of accidents in first 10 years of driving\n",
      "0    12792\n",
      "1    35033\n",
      "2    32594\n",
      "3    31258\n",
      "4    31381\n",
      "5    31038\n",
      "6    30570\n",
      "7    30223\n",
      "8    31169\n",
      "9    30391\n",
      "Name: years_on_road, dtype: int64\n"
     ]
    }
   ],
   "source": [
    "print(f\"Number of accidents in first 10 years of driving\\n{num_years_before_accident['years_on_road'].value_counts().sort_index().head(10)}\")"
   ]
  },
  {
   "cell_type": "code",
   "execution_count": 46,
   "metadata": {},
   "outputs": [
    {
     "name": "stdout",
     "output_type": "stream",
     "text": [
      "Number of accidents with numerous years with license of the driver:\n"
     ]
    },
    {
     "data": {
      "text/html": [
       "<div>\n",
       "<style scoped>\n",
       "    .dataframe tbody tr th:only-of-type {\n",
       "        vertical-align: middle;\n",
       "    }\n",
       "\n",
       "    .dataframe tbody tr th {\n",
       "        vertical-align: top;\n",
       "    }\n",
       "\n",
       "    .dataframe thead th {\n",
       "        text-align: right;\n",
       "    }\n",
       "</style>\n",
       "<table border=\"1\" class=\"dataframe\">\n",
       "  <thead>\n",
       "    <tr style=\"text-align: right;\">\n",
       "      <th></th>\n",
       "      <th>Years on road</th>\n",
       "      <th>Num accidents</th>\n",
       "      <th>% accidents</th>\n",
       "      <th>% accidents accumulated</th>\n",
       "    </tr>\n",
       "  </thead>\n",
       "  <tbody>\n",
       "    <tr>\n",
       "      <th>0</th>\n",
       "      <td>0</td>\n",
       "      <td>12792</td>\n",
       "      <td>1.431811</td>\n",
       "      <td>1.431811</td>\n",
       "    </tr>\n",
       "    <tr>\n",
       "      <th>1</th>\n",
       "      <td>1</td>\n",
       "      <td>35033</td>\n",
       "      <td>3.921250</td>\n",
       "      <td>5.353061</td>\n",
       "    </tr>\n",
       "    <tr>\n",
       "      <th>2</th>\n",
       "      <td>2</td>\n",
       "      <td>32594</td>\n",
       "      <td>3.648253</td>\n",
       "      <td>9.001314</td>\n",
       "    </tr>\n",
       "    <tr>\n",
       "      <th>3</th>\n",
       "      <td>3</td>\n",
       "      <td>31258</td>\n",
       "      <td>3.498714</td>\n",
       "      <td>12.500028</td>\n",
       "    </tr>\n",
       "    <tr>\n",
       "      <th>4</th>\n",
       "      <td>4</td>\n",
       "      <td>31381</td>\n",
       "      <td>3.512481</td>\n",
       "      <td>16.012509</td>\n",
       "    </tr>\n",
       "    <tr>\n",
       "      <th>5</th>\n",
       "      <td>5</td>\n",
       "      <td>31038</td>\n",
       "      <td>3.474089</td>\n",
       "      <td>19.486599</td>\n",
       "    </tr>\n",
       "    <tr>\n",
       "      <th>6</th>\n",
       "      <td>6</td>\n",
       "      <td>30570</td>\n",
       "      <td>3.421706</td>\n",
       "      <td>22.908305</td>\n",
       "    </tr>\n",
       "    <tr>\n",
       "      <th>7</th>\n",
       "      <td>7</td>\n",
       "      <td>30223</td>\n",
       "      <td>3.382866</td>\n",
       "      <td>26.291171</td>\n",
       "    </tr>\n",
       "    <tr>\n",
       "      <th>8</th>\n",
       "      <td>8</td>\n",
       "      <td>31169</td>\n",
       "      <td>3.488752</td>\n",
       "      <td>29.779923</td>\n",
       "    </tr>\n",
       "    <tr>\n",
       "      <th>9</th>\n",
       "      <td>9</td>\n",
       "      <td>30391</td>\n",
       "      <td>3.401670</td>\n",
       "      <td>33.181593</td>\n",
       "    </tr>\n",
       "    <tr>\n",
       "      <th>10</th>\n",
       "      <td>10</td>\n",
       "      <td>29390</td>\n",
       "      <td>3.289628</td>\n",
       "      <td>36.471222</td>\n",
       "    </tr>\n",
       "    <tr>\n",
       "      <th>11</th>\n",
       "      <td>11</td>\n",
       "      <td>28014</td>\n",
       "      <td>3.135612</td>\n",
       "      <td>39.606834</td>\n",
       "    </tr>\n",
       "  </tbody>\n",
       "</table>\n",
       "</div>"
      ],
      "text/plain": [
       "    Years on road  Num accidents  % accidents  % accidents accumulated\n",
       "0               0          12792     1.431811                 1.431811\n",
       "1               1          35033     3.921250                 5.353061\n",
       "2               2          32594     3.648253                 9.001314\n",
       "3               3          31258     3.498714                12.500028\n",
       "4               4          31381     3.512481                16.012509\n",
       "5               5          31038     3.474089                19.486599\n",
       "6               6          30570     3.421706                22.908305\n",
       "7               7          30223     3.382866                26.291171\n",
       "8               8          31169     3.488752                29.779923\n",
       "9               9          30391     3.401670                33.181593\n",
       "10             10          29390     3.289628                36.471222\n",
       "11             11          28014     3.135612                39.606834"
      ]
     },
     "execution_count": 46,
     "metadata": {},
     "output_type": "execute_result"
    }
   ],
   "source": [
    "per_num_years_before_accident = pd.DataFrame({'Years on road':  num_years_before_accident['years_on_road'].value_counts().sort_index().index,\n",
    "                                              'Num accidents': num_years_before_accident['years_on_road'].value_counts().sort_index()})\n",
    "per_num_years_before_accident['% accidents'] = (per_num_years_before_accident['Num accidents'] /\n",
    "                                                per_num_years_before_accident['Num accidents'].sum() * 100)\n",
    "per_num_years_before_accident['% accidents accumulated'] = per_num_years_before_accident['% accidents'].cumsum()\n",
    "print('Number of accidents with numerous years with license of the driver:')\n",
    "per_num_years_before_accident.head(12)           "
   ]
  },
  {
   "cell_type": "markdown",
   "metadata": {},
   "source": [
    "Small: 9% of accidents happen with drivers in their first 2 years after getting a license, 20% in their first 5 years, and a third of accidents happen with drivers in their first 9 years "
   ]
  },
  {
   "cell_type": "markdown",
   "metadata": {},
   "source": [
    "How come many values are missing for 'license_acquiring_date'?"
   ]
  },
  {
   "cell_type": "code",
   "execution_count": 48,
   "metadata": {},
   "outputs": [
    {
     "data": {
      "text/plain": [
       "Text(0.5, 1.0, 'Number of drivers with given license year per year of accident')"
      ]
     },
     "execution_count": 48,
     "metadata": {},
     "output_type": "execute_result"
    },
    {
     "data": {
      "image/png": "[encoded data removed]",
      "text/plain": [
       "<Figure size 432x288 with 1 Axes>"
      ]
     },
     "metadata": {
      "needs_background": "light"
     },
     "output_type": "display_data"
    }
   ],
   "source": [
    "license_year_exists = involved_hebrew.copy()\n",
    "license_year_exists = license_year_exists[(license_year_exists['involved_type'] == 1) | (license_year_exists['involved_type'] == 2)]\n",
    "license_year_exists['License year given'] = (license_year_exists['license_acquiring_date'] != 0).astype(int)\n",
    "ax = sns.countplot(x='accident_year', data=license_year_exists, hue='License year given')\n",
    "ax.set_title('Number of drivers with given license year per year of accident')"
   ]
  },
  {
   "cell_type": "markdown",
   "metadata": {},
   "source": [
    "Seems not dependent on year - around 1/3 of accidents, there is no license date for the driver"
   ]
  },
  {
   "cell_type": "code",
   "execution_count": 49,
   "metadata": {},
   "outputs": [
    {
     "data": {
      "text/plain": [
       "Text(0.5, 1.0, 'Number of drivers with a given license year based on whether a police report was open (provider_code 1)')"
      ]
     },
     "execution_count": 49,
     "metadata": {},
     "output_type": "execute_result"
    },
    {
     "data": {
      "image/png": "[encoded data removed]",
      "text/plain": [
       "<Figure size 432x288 with 1 Axes>"
      ]
     },
     "metadata": {
      "needs_background": "light"
     },
     "output_type": "display_data"
    }
   ],
   "source": [
    "ax = sns.countplot(x='License year given', hue='provider_code', data=license_year_exists)\n",
    "ax.set_title('Number of drivers with a given license year based on whether a police report was open (provider_code 1)')"
   ]
  },
  {
   "cell_type": "code",
   "execution_count": 50,
   "metadata": {},
   "outputs": [
    {
     "data": {
      "text/plain": [
       "Text(0.5, 1.0, 'Number of drivers with a given license year based on whether a police report was open (provider_code 1)')"
      ]
     },
     "execution_count": 50,
     "metadata": {},
     "output_type": "execute_result"
    },
    {
     "data": {
      "image/png": "[encoded data removed]",
      "text/plain": [
       "<Figure size 432x288 with 1 Axes>"
      ]
     },
     "metadata": {
      "needs_background": "light"
     },
     "output_type": "display_data"
    }
   ],
   "source": [
    "ax = sns.countplot(hue='License year given', x='provider_code', data=license_year_exists)\n",
    "ax.set_title('Number of drivers with a given license year based on whether a police report was open (provider_code 1)')"
   ]
  },
  {
   "cell_type": "markdown",
   "metadata": {},
   "source": [
    "Conclusion: when the accident doesn't get investigated, there is usually no information when the license was issued"
   ]
  },
  {
   "cell_type": "markdown",
   "metadata": {},
   "source": [
    "# age_group"
   ]
  },
  {
   "cell_type": "code",
   "execution_count": 51,
   "metadata": {},
   "outputs": [
    {
     "name": "stdout",
     "output_type": "stream",
     "text": [
      "Number of involved in every age_group:\n"
     ]
    },
    {
     "data": {
      "text/plain": [
       "99    356515\n",
       "6     170481\n",
       "5     157587\n",
       "7     152015\n",
       "8     134018\n",
       "9     114566\n",
       "10     95491\n",
       "11     83717\n",
       "4      77636\n",
       "12     75211\n",
       "13     62450\n",
       "14     41868\n",
       "2      35637\n",
       "3      33779\n",
       "1      30175\n",
       "15     26725\n",
       "16     17040\n",
       "17      9348\n",
       "18      4706\n",
       "Name: age_group, dtype: int64"
      ]
     },
     "execution_count": 51,
     "metadata": {},
     "output_type": "execute_result"
    }
   ],
   "source": [
    "print('Number of involved in every age_group:')\n",
    "involved_hebrew['age_group'].value_counts()"
   ]
  },
  {
   "cell_type": "code",
   "execution_count": 52,
   "metadata": {},
   "outputs": [
    {
     "name": "stdout",
     "output_type": "stream",
     "text": [
      "Number of involved in every age_group_hebrew:\n"
     ]
    },
    {
     "data": {
      "text/plain": [
       "לא ידוע       356515\n",
       "25-29         170481\n",
       "20-24         157587\n",
       "30-34         152015\n",
       "35-39         134018\n",
       "40-44         114566\n",
       "45-49          95491\n",
       "50-54          83717\n",
       "15-19          77636\n",
       "55-59          75211\n",
       "60-64          62450\n",
       "65-69          41868\n",
       "05-09          33136\n",
       "10-14          31496\n",
       "00-04          30175\n",
       "70-74          26725\n",
       "75-79          17040\n",
       "80-84           9348\n",
       "85+             4706\n",
       "05-ספטמבר       2501\n",
       "אוקטובר-14      2283\n",
       "Name: age_group_hebrew, dtype: int64"
      ]
     },
     "execution_count": 52,
     "metadata": {},
     "output_type": "execute_result"
    }
   ],
   "source": [
    "print('Number of involved in every age_group_hebrew:')\n",
    "involved_hebrew['age_group_hebrew'].value_counts()"
   ]
  },
  {
   "cell_type": "code",
   "execution_count": 53,
   "metadata": {},
   "outputs": [
    {
     "name": "stdout",
     "output_type": "stream",
     "text": [
      "Percentage doesn't have age group: 21.23421274416084\n"
     ]
    }
   ],
   "source": [
    "print(f\"Percentage doesn't have age group: {involved_hebrew['age_group_hebrew'].value_counts()['לא ידוע'] / len(involved_hebrew) * 100}\")"
   ]
  },
  {
   "cell_type": "code",
   "execution_count": 54,
   "metadata": {},
   "outputs": [
    {
     "name": "stdout",
     "output_type": "stream",
     "text": [
      "Number of missing age group: total: 356515, investigated by police: 16366, not investigated by police: 340149\n"
     ]
    }
   ],
   "source": [
    "print(f\"Number of missing age group: total: {involved_hebrew['age_group_hebrew'].value_counts()['לא ידוע']}, investigated by police: {involved_hebrew[involved_hebrew['provider_code'] == 1]['age_group_hebrew'].value_counts()['לא ידוע']}, not investigated by police: {involved_hebrew[involved_hebrew['provider_code'] == 3]['age_group_hebrew'].value_counts()['לא ידוע']}\")\n",
    "      "
   ]
  },
  {
   "cell_type": "code",
   "execution_count": 56,
   "metadata": {},
   "outputs": [
    {
     "name": "stdout",
     "output_type": "stream",
     "text": [
      "Something strange happens with age_group 2 and 3:\n"
     ]
    },
    {
     "data": {
      "text/plain": [
       "2    35637\n",
       "3    33779\n",
       "Name: age_group, dtype: int64"
      ]
     },
     "execution_count": 56,
     "metadata": {},
     "output_type": "execute_result"
    }
   ],
   "source": [
    "print('Something strange happens with age_group 2 and 3:')\n",
    "involved_hebrew['age_group'].value_counts()[12:14]"
   ]
  },
  {
   "cell_type": "code",
   "execution_count": 57,
   "metadata": {},
   "outputs": [
    {
     "name": "stdout",
     "output_type": "stream",
     "text": [
      "age_group 2 and 3 is split up into 4 groups in age_group_hebrew:\n"
     ]
    },
    {
     "data": {
      "text/plain": [
       "05-09         33136\n",
       "10-14         31496\n",
       "05-ספטמבר      2501\n",
       "אוקטובר-14     2283\n",
       "Name: age_group_hebrew, dtype: int64"
      ]
     },
     "execution_count": 57,
     "metadata": {},
     "output_type": "execute_result"
    }
   ],
   "source": [
    "print('age_group 2 and 3 is split up into 4 groups in age_group_hebrew:')\n",
    "involved_hebrew['age_group_hebrew'].value_counts()[['05-09', '10-14', '05-ספטמבר', 'אוקטובר-14']]"
   ]
  },
  {
   "cell_type": "code",
   "execution_count": 58,
   "metadata": {},
   "outputs": [
    {
     "name": "stdout",
     "output_type": "stream",
     "text": [
      "Adding pairs of age_group_hebrew categories adds up to age_group 2 and 3:\n",
      "35637\n",
      "33779\n"
     ]
    }
   ],
   "source": [
    "print('Adding pairs of age_group_hebrew categories adds up to age_group 2 and 3:')\n",
    "counts = involved_hebrew['age_group_hebrew'].value_counts()\n",
    "print(counts['05-09'] + counts['05-ספטמבר'])\n",
    "print(counts['10-14'] + counts['אוקטובר-14'])"
   ]
  },
  {
   "cell_type": "code",
   "execution_count": 60,
   "metadata": {},
   "outputs": [
    {
     "name": "stdout",
     "output_type": "stream",
     "text": [
      "Years where age_group_hebrew categories are screwed up for 05-..:\n"
     ]
    },
    {
     "data": {
      "text/plain": [
       "accident_year\n",
       "2008    1237\n",
       "2009    1264\n",
       "Name: provider_and_id, dtype: int64"
      ]
     },
     "execution_count": 60,
     "metadata": {},
     "output_type": "execute_result"
    }
   ],
   "source": [
    "print('Years where age_group_hebrew categories are screwed up for 05-..:')\n",
    "involved_hebrew[involved_hebrew['age_group_hebrew'] == '05-ספטמבר'].groupby(by='accident_year')['provider_and_id'].count()"
   ]
  },
  {
   "cell_type": "code",
   "execution_count": 61,
   "metadata": {},
   "outputs": [
    {
     "name": "stdout",
     "output_type": "stream",
     "text": [
      "Years where age_group_hebrew categories are screwed up for 14-..:\n"
     ]
    },
    {
     "data": {
      "text/plain": [
       "accident_year\n",
       "2008    1114\n",
       "2009    1169\n",
       "Name: provider_and_id, dtype: int64"
      ]
     },
     "execution_count": 61,
     "metadata": {},
     "output_type": "execute_result"
    }
   ],
   "source": [
    "print('Years where age_group_hebrew categories are screwed up for 14-..:')\n",
    "involved_hebrew[involved_hebrew['age_group_hebrew'] == 'אוקטובר-14'].groupby(by='accident_year')['provider_and_id'].count()"
   ]
  },
  {
   "cell_type": "markdown",
   "metadata": {},
   "source": [
    "There is indeed a problem in the field *age_group_hebrew* that 2 values of *age_group* are split into 2 values each of *age_group_hebrew*"
   ]
  },
  {
   "cell_type": "markdown",
   "metadata": {},
   "source": [
    "Fixing in the original table:"
   ]
  },
  {
   "cell_type": "code",
   "execution_count": 62,
   "metadata": {},
   "outputs": [
    {
     "name": "stdout",
     "output_type": "stream",
     "text": [
      "Involved age groups after fix:\n"
     ]
    },
    {
     "data": {
      "text/plain": [
       "00-04       30175\n",
       "05-09       35637\n",
       "10-14       33779\n",
       "15-19       77636\n",
       "20-24      157587\n",
       "25-29      170481\n",
       "30-34      152015\n",
       "35-39      134018\n",
       "40-44      114566\n",
       "45-49       95491\n",
       "50-54       83717\n",
       "55-59       75211\n",
       "60-64       62450\n",
       "65-69       41868\n",
       "70-74       26725\n",
       "75-79       17040\n",
       "80-84        9348\n",
       "85+          4706\n",
       "לא ידוע    356515\n",
       "Name: age_group_hebrew, dtype: int64"
      ]
     },
     "execution_count": 62,
     "metadata": {},
     "output_type": "execute_result"
    }
   ],
   "source": [
    "fixed = driver_or_injured.copy() # to have also info of whether it's a driver or injured\n",
    "fixed['age_group_hebrew'].replace({'05-ספטמבר': '05-09', 'אוקטובר-14':'10-14'}, inplace=True)\n",
    "print('Involved age groups after fix:')\n",
    "fixed['age_group_hebrew'].value_counts().sort_index()"
   ]
  },
  {
   "cell_type": "code",
   "execution_count": 63,
   "metadata": {},
   "outputs": [
    {
     "name": "stdout",
     "output_type": "stream",
     "text": [
      "Ages of involved drivers\n"
     ]
    },
    {
     "data": {
      "text/plain": [
       "00-04          57\n",
       "05-09        1370\n",
       "10-14        3887\n",
       "15-19       36455\n",
       "20-24      108166\n",
       "25-29      132976\n",
       "30-34      124449\n",
       "35-39      111376\n",
       "40-44       94997\n",
       "45-49       77050\n",
       "50-54       65281\n",
       "55-59       57058\n",
       "60-64       46471\n",
       "65-69       29559\n",
       "70-74       16875\n",
       "75-79        9515\n",
       "80-84        4535\n",
       "85+          1980\n",
       "לא ידוע    343484\n",
       "Name: age_group_hebrew, dtype: int64"
      ]
     },
     "execution_count": 63,
     "metadata": {},
     "output_type": "execute_result"
    }
   ],
   "source": [
    "print('Ages of involved drivers')\n",
    "fixed[fixed['driver'] == 1]['age_group_hebrew'].value_counts().sort_index()"
   ]
  },
  {
   "cell_type": "markdown",
   "metadata": {},
   "source": [
    "Seems there are some really minor drivers ages 0-4 etc."
   ]
  },
  {
   "cell_type": "code",
   "execution_count": 64,
   "metadata": {
    "scrolled": true
   },
   "outputs": [
    {
     "data": {
      "text/plain": [
       "Text(0.5, 1.0, 'Number of people involved in accidents based on age group')"
      ]
     },
     "execution_count": 64,
     "metadata": {},
     "output_type": "execute_result"
    },
    {
     "data": {
      "image/png": "[encoded data removed]",
      "text/plain": [
       "<Figure size 1440x360 with 1 Axes>"
      ]
     },
     "metadata": {
      "needs_background": "light"
     },
     "output_type": "display_data"
    }
   ],
   "source": [
    "known_age_groups = fixed[fixed['age_group_hebrew'] != 'לא ידוע'].sort_values(by='age_group_hebrew')\n",
    "plt.figure(figsize=(20,5))\n",
    "ax = sns.countplot(x='age_group_hebrew',data=known_age_groups)\n",
    "ax.set_title('Number of people involved in accidents based on age group')"
   ]
  },
  {
   "cell_type": "code",
   "execution_count": 65,
   "metadata": {},
   "outputs": [
    {
     "data": {
      "text/plain": [
       "Text(0.5, 1.0, 'Number of drivers involved in accidents based on age group')"
      ]
     },
     "execution_count": 65,
     "metadata": {},
     "output_type": "execute_result"
    },
    {
     "data": {
      "image/png": "[encoded data removed]",
      "text/plain": [
       "<Figure size 1440x360 with 1 Axes>"
      ]
     },
     "metadata": {
      "needs_background": "light"
     },
     "output_type": "display_data"
    }
   ],
   "source": [
    "plt.figure(figsize=(20,5))\n",
    "ax = sns.countplot(x='age_group_hebrew',data=known_age_groups[known_age_groups['driver'] == 1])\n",
    "ax.set_title('Number of drivers involved in accidents based on age group')"
   ]
  },
  {
   "cell_type": "code",
   "execution_count": 66,
   "metadata": {},
   "outputs": [
    {
     "data": {
      "text/plain": [
       "Text(0.5, 1.0, 'Number of injured in accidents based on age group')"
      ]
     },
     "execution_count": 66,
     "metadata": {},
     "output_type": "execute_result"
    },
    {
     "data": {
      "image/png": "[encoded data removed]",
      "text/plain": [
       "<Figure size 1440x360 with 1 Axes>"
      ]
     },
     "metadata": {
      "needs_background": "light"
     },
     "output_type": "display_data"
    }
   ],
   "source": [
    "plt.figure(figsize=(20,5))\n",
    "ax = sns.countplot(x='age_group_hebrew',data=known_age_groups[known_age_groups['injured'] == 1])\n",
    "ax.set_title('Number of injured in accidents based on age group')"
   ]
  },
  {
   "cell_type": "code",
   "execution_count": 68,
   "metadata": {},
   "outputs": [
    {
     "name": "stdout",
     "output_type": "stream",
     "text": [
      "Number of injured based on age groups:\n"
     ]
    },
    {
     "data": {
      "text/html": [
       "<div>\n",
       "<style scoped>\n",
       "    .dataframe tbody tr th:only-of-type {\n",
       "        vertical-align: middle;\n",
       "    }\n",
       "\n",
       "    .dataframe tbody tr th {\n",
       "        vertical-align: top;\n",
       "    }\n",
       "\n",
       "    .dataframe thead th {\n",
       "        text-align: right;\n",
       "    }\n",
       "</style>\n",
       "<table border=\"1\" class=\"dataframe\">\n",
       "  <thead>\n",
       "    <tr style=\"text-align: right;\">\n",
       "      <th></th>\n",
       "      <th>Num injured</th>\n",
       "      <th>% injured</th>\n",
       "      <th>Acc % injured</th>\n",
       "    </tr>\n",
       "  </thead>\n",
       "  <tbody>\n",
       "    <tr>\n",
       "      <th>00-04</th>\n",
       "      <td>30172</td>\n",
       "      <td>2.939205</td>\n",
       "      <td>2.939205</td>\n",
       "    </tr>\n",
       "    <tr>\n",
       "      <th>05-09</th>\n",
       "      <td>35626</td>\n",
       "      <td>3.470507</td>\n",
       "      <td>6.409712</td>\n",
       "    </tr>\n",
       "    <tr>\n",
       "      <th>10-14</th>\n",
       "      <td>33692</td>\n",
       "      <td>3.282106</td>\n",
       "      <td>9.691818</td>\n",
       "    </tr>\n",
       "    <tr>\n",
       "      <th>15-19</th>\n",
       "      <td>68543</td>\n",
       "      <td>6.677116</td>\n",
       "      <td>16.368934</td>\n",
       "    </tr>\n",
       "    <tr>\n",
       "      <th>20-24</th>\n",
       "      <td>128425</td>\n",
       "      <td>12.510521</td>\n",
       "      <td>28.879455</td>\n",
       "    </tr>\n",
       "    <tr>\n",
       "      <th>25-29</th>\n",
       "      <td>135819</td>\n",
       "      <td>13.230807</td>\n",
       "      <td>42.110262</td>\n",
       "    </tr>\n",
       "    <tr>\n",
       "      <th>30-34</th>\n",
       "      <td>117376</td>\n",
       "      <td>11.434183</td>\n",
       "      <td>53.544445</td>\n",
       "    </tr>\n",
       "    <tr>\n",
       "      <th>35-39</th>\n",
       "      <td>99775</td>\n",
       "      <td>9.719581</td>\n",
       "      <td>63.264026</td>\n",
       "    </tr>\n",
       "    <tr>\n",
       "      <th>40-44</th>\n",
       "      <td>82796</td>\n",
       "      <td>8.065572</td>\n",
       "      <td>71.329598</td>\n",
       "    </tr>\n",
       "    <tr>\n",
       "      <th>45-49</th>\n",
       "      <td>67799</td>\n",
       "      <td>6.604639</td>\n",
       "      <td>77.934237</td>\n",
       "    </tr>\n",
       "    <tr>\n",
       "      <th>50-54</th>\n",
       "      <td>59391</td>\n",
       "      <td>5.785574</td>\n",
       "      <td>83.719811</td>\n",
       "    </tr>\n",
       "    <tr>\n",
       "      <th>55-59</th>\n",
       "      <td>52731</td>\n",
       "      <td>5.136790</td>\n",
       "      <td>88.856601</td>\n",
       "    </tr>\n",
       "    <tr>\n",
       "      <th>60-64</th>\n",
       "      <td>43072</td>\n",
       "      <td>4.195859</td>\n",
       "      <td>93.052460</td>\n",
       "    </tr>\n",
       "    <tr>\n",
       "      <th>65-69</th>\n",
       "      <td>28916</td>\n",
       "      <td>2.816852</td>\n",
       "      <td>95.869312</td>\n",
       "    </tr>\n",
       "    <tr>\n",
       "      <th>70-74</th>\n",
       "      <td>19254</td>\n",
       "      <td>1.875628</td>\n",
       "      <td>97.744940</td>\n",
       "    </tr>\n",
       "    <tr>\n",
       "      <th>75-79</th>\n",
       "      <td>12507</td>\n",
       "      <td>1.218369</td>\n",
       "      <td>98.963310</td>\n",
       "    </tr>\n",
       "    <tr>\n",
       "      <th>80-84</th>\n",
       "      <td>7026</td>\n",
       "      <td>0.684438</td>\n",
       "      <td>99.647747</td>\n",
       "    </tr>\n",
       "    <tr>\n",
       "      <th>85+</th>\n",
       "      <td>3616</td>\n",
       "      <td>0.352253</td>\n",
       "      <td>100.000000</td>\n",
       "    </tr>\n",
       "  </tbody>\n",
       "</table>\n",
       "</div>"
      ],
      "text/plain": [
       "       Num injured  % injured  Acc % injured\n",
       "00-04        30172   2.939205       2.939205\n",
       "05-09        35626   3.470507       6.409712\n",
       "10-14        33692   3.282106       9.691818\n",
       "15-19        68543   6.677116      16.368934\n",
       "20-24       128425  12.510521      28.879455\n",
       "25-29       135819  13.230807      42.110262\n",
       "30-34       117376  11.434183      53.544445\n",
       "35-39        99775   9.719581      63.264026\n",
       "40-44        82796   8.065572      71.329598\n",
       "45-49        67799   6.604639      77.934237\n",
       "50-54        59391   5.785574      83.719811\n",
       "55-59        52731   5.136790      88.856601\n",
       "60-64        43072   4.195859      93.052460\n",
       "65-69        28916   2.816852      95.869312\n",
       "70-74        19254   1.875628      97.744940\n",
       "75-79        12507   1.218369      98.963310\n",
       "80-84         7026   0.684438      99.647747\n",
       "85+           3616   0.352253     100.000000"
      ]
     },
     "execution_count": 68,
     "metadata": {},
     "output_type": "execute_result"
    }
   ],
   "source": [
    "age_acc = pd.DataFrame({'Num injured': known_age_groups[known_age_groups['injured'] == 1]['age_group_hebrew'].value_counts().sort_index()})\n",
    "age_acc['% injured'] = age_acc['Num injured'] / age_acc['Num injured'].sum() * 100\n",
    "age_acc['Acc % injured'] = age_acc['% injured'].cumsum()\n",
    "print('Number of injured based on age groups:')\n",
    "age_acc"
   ]
  },
  {
   "cell_type": "markdown",
   "metadata": {},
   "source": [
    "Small: Almost 10% of injured are 14 and younger, 7% are younger than 19"
   ]
  },
  {
   "cell_type": "markdown",
   "metadata": {},
   "source": [
    "# Sex"
   ]
  },
  {
   "cell_type": "code",
   "execution_count": 69,
   "metadata": {},
   "outputs": [
    {
     "name": "stdout",
     "output_type": "stream",
     "text": [
      "Split of involved into Male and Female:\n"
     ]
    },
    {
     "data": {
      "text/plain": [
       "זכר     818780\n",
       "נקבה    507647\n",
       "Name: sex_hebrew, dtype: int64"
      ]
     },
     "execution_count": 69,
     "metadata": {},
     "output_type": "execute_result"
    }
   ],
   "source": [
    "print('Split of involved into Male and Female:')\n",
    "fixed['sex_hebrew'].value_counts()"
   ]
  },
  {
   "cell_type": "code",
   "execution_count": 70,
   "metadata": {},
   "outputs": [
    {
     "data": {
      "text/plain": [
       "Text(0.5, 1.0, 'Males and females involved in accidents')"
      ]
     },
     "execution_count": 70,
     "metadata": {},
     "output_type": "execute_result"
    },
    {
     "data": {
      "image/png": "[encoded data removed]",
      "text/plain": [
       "<Figure size 432x288 with 1 Axes>"
      ]
     },
     "metadata": {
      "needs_background": "light"
     },
     "output_type": "display_data"
    }
   ],
   "source": [
    "ax = sns.countplot(x='sex_hebrew', data=fixed)\n",
    "ax.set_title('Males and females involved in accidents')"
   ]
  },
  {
   "cell_type": "code",
   "execution_count": 72,
   "metadata": {},
   "outputs": [
    {
     "data": {
      "text/plain": [
       "Text(0.5, 1.0, 'Split involved into drivers/not drivers involved in accidents per male/female')"
      ]
     },
     "execution_count": 72,
     "metadata": {},
     "output_type": "execute_result"
    },
    {
     "data": {
      "image/png": "[encoded data removed]",
      "text/plain": [
       "<Figure size 432x288 with 1 Axes>"
      ]
     },
     "metadata": {
      "needs_background": "light"
     },
     "output_type": "display_data"
    }
   ],
   "source": [
    "ax = sns.countplot(hue='sex_hebrew', x='driver', data=fixed)\n",
    "ax.set_title('Split involved into drivers/not drivers involved in accidents per male/female')"
   ]
  },
  {
   "cell_type": "code",
   "execution_count": 73,
   "metadata": {},
   "outputs": [
    {
     "data": {
      "text/plain": [
       "Text(0.5, 1.0, 'Split involved into drivers/not drivers involved in accidents per male/female')"
      ]
     },
     "execution_count": 73,
     "metadata": {},
     "output_type": "execute_result"
    },
    {
     "data": {
      "image/png": "[encoded data removed]",
      "text/plain": [
       "<Figure size 432x288 with 1 Axes>"
      ]
     },
     "metadata": {
      "needs_background": "light"
     },
     "output_type": "display_data"
    }
   ],
   "source": [
    "ax = sns.countplot(hue='sex_hebrew', x='injured', data=fixed)\n",
    "ax.set_title('Split involved into drivers/not drivers involved in accidents per male/female')"
   ]
  },
  {
   "cell_type": "markdown",
   "metadata": {},
   "source": [
    "Small: \n",
    "- there are many more men involved than women (almost twice as much)\n",
    "- most majority of men that are involved are driving, women are slightly more drivers than non-drivers - perhaps many of men are drivers that are not injured\n",
    "- Larger part of women are injured than men - perhaps because there are many more men drivers (will be involved even if not injured), women are less drivers, and will appear in the statistics more if injured"
   ]
  },
  {
   "cell_type": "markdown",
   "metadata": {},
   "source": [
    "# vehicle_type"
   ]
  },
  {
   "cell_type": "code",
   "execution_count": 74,
   "metadata": {},
   "outputs": [
    {
     "name": "stdout",
     "output_type": "stream",
     "text": [
      "Different values of vehicle_type_hebrew with number of involved in this type of vehicle:\n"
     ]
    },
    {
     "data": {
      "text/plain": [
       "רכב נוסעים פרטי                     1067568\n",
       "אחר ולא ידוע                          93281\n",
       "אוטובוס                               75899\n",
       "משא עד 3.5 טון - אחוד (טרנזיט)        74917\n",
       "אופנוע 51 עד 125 סמ\"ק                 45034\n",
       "מונית                                 44870\n",
       "משא עד 3.5  טון - לא אחוד (טנדר)      40595\n",
       "אופנוע 126 עד 400 סמ\"ק                32332\n",
       "אופניים                               18842\n",
       "משא 3.6 עד 12.0 טון                   18084\n",
       "אוטובוס זעיר                          15572\n",
       "אופנוע 401+ סמ\"ק                      11231\n",
       "אופנוע עד 50 סמ\"ק                     11153\n",
       "משא 16.0 עד 33.9 טון                   8823\n",
       "משא 34.0+ טון                          5119\n",
       "משא 12.1 עד 15.9 טון                   4409\n",
       "טרקטור                                 4114\n",
       "משא עד 4 טון - אחוד (טרנזיט)           3312\n",
       "אופנוע 51 עד 250 סמ\"ק                  2324\n",
       "משא עד 4 טון - לא אחוד (טנדר)          1837\n",
       "אופניים חשמליים                        1795\n",
       "משא 3.6 עד 9.9 טון                     1629\n",
       "רכבת                                   1201\n",
       "רכב עבודה                              1131\n",
       "אופנוע 251 עד 500 סמ\"ק                  378\n",
       "משא 4.1 עד 9.9 טון                      315\n",
       "משא 10.0 עד 12.0 טון                    261\n",
       "אופנוע 501+ סמ\"ק                        232\n",
       "קורקינט חשמלי                           229\n",
       "משא 10.0 עד 15.9 טון                    207\n",
       "קלנועית חשמלית                          123\n",
       "Name: vehicle_type_hebrew, dtype: int64"
      ]
     },
     "execution_count": 74,
     "metadata": {},
     "output_type": "execute_result"
    }
   ],
   "source": [
    "print('Different values of vehicle_type_hebrew with number of involved in this type of vehicle:')\n",
    "fixed['vehicle_type_hebrew'].value_counts()"
   ]
  },
  {
   "cell_type": "code",
   "execution_count": 75,
   "metadata": {},
   "outputs": [
    {
     "name": "stdout",
     "output_type": "stream",
     "text": [
      "Different values of vehicle_type_hebrew with number of involved in this type of vehicle (ordered alphabetically):\n"
     ]
    },
    {
     "data": {
      "text/plain": [
       "אוטובוס                               75899\n",
       "אוטובוס זעיר                          15572\n",
       "אופנוע 126 עד 400 סמ\"ק                32332\n",
       "אופנוע 251 עד 500 סמ\"ק                  378\n",
       "אופנוע 401+ סמ\"ק                      11231\n",
       "אופנוע 501+ סמ\"ק                        232\n",
       "אופנוע 51 עד 125 סמ\"ק                 45034\n",
       "אופנוע 51 עד 250 סמ\"ק                  2324\n",
       "אופנוע עד 50 סמ\"ק                     11153\n",
       "אופניים                               18842\n",
       "אופניים חשמליים                        1795\n",
       "אחר ולא ידוע                          93281\n",
       "טרקטור                                 4114\n",
       "מונית                                 44870\n",
       "משא 10.0 עד 12.0 טון                    261\n",
       "משא 10.0 עד 15.9 טון                    207\n",
       "משא 12.1 עד 15.9 טון                   4409\n",
       "משא 16.0 עד 33.9 טון                   8823\n",
       "משא 3.6 עד 12.0 טון                   18084\n",
       "משא 3.6 עד 9.9 טון                     1629\n",
       "משא 34.0+ טון                          5119\n",
       "משא 4.1 עד 9.9 טון                      315\n",
       "משא עד 3.5  טון - לא אחוד (טנדר)      40595\n",
       "משא עד 3.5 טון - אחוד (טרנזיט)        74917\n",
       "משא עד 4 טון - אחוד (טרנזיט)           3312\n",
       "משא עד 4 טון - לא אחוד (טנדר)          1837\n",
       "קורקינט חשמלי                           229\n",
       "קלנועית חשמלית                          123\n",
       "רכב נוסעים פרטי                     1067568\n",
       "רכב עבודה                              1131\n",
       "רכבת                                   1201\n",
       "Name: vehicle_type_hebrew, dtype: int64"
      ]
     },
     "execution_count": 75,
     "metadata": {},
     "output_type": "execute_result"
    }
   ],
   "source": [
    "print('Different values of vehicle_type_hebrew with number of involved in this type of vehicle (ordered alphabetically):')\n",
    "fixed['vehicle_type_hebrew'].value_counts().sort_index()"
   ]
  },
  {
   "cell_type": "markdown",
   "metadata": {},
   "source": [
    "TODO: do some more analysis about this category"
   ]
  },
  {
   "cell_type": "markdown",
   "metadata": {},
   "source": [
    "# safety_measures_use"
   ]
  },
  {
   "cell_type": "code",
   "execution_count": 76,
   "metadata": {},
   "outputs": [
    {
     "name": "stdout",
     "output_type": "stream",
     "text": [
      "Different values of safety_measures_use_hebrew with number of involved:\n"
     ]
    },
    {
     "data": {
      "text/plain": [
       "NaN              1621321\n",
       "\\t כן\\t            40189\n",
       "\\t לא  ידוע\\t      12192\n",
       "\\t לא\\t             5263\n",
       "Name: safety_measures_use_hebrew, dtype: int64"
      ]
     },
     "execution_count": 76,
     "metadata": {},
     "output_type": "execute_result"
    }
   ],
   "source": [
    "print('Different values of safety_measures_use_hebrew with number of involved:')\n",
    "fixed['safety_measures_use_hebrew'].value_counts(dropna=False)"
   ]
  },
  {
   "cell_type": "code",
   "execution_count": 77,
   "metadata": {},
   "outputs": [
    {
     "name": "stdout",
     "output_type": "stream",
     "text": [
      "Different values of safety_measures_use with number of involved:\n"
     ]
    },
    {
     "data": {
      "text/plain": [
       "NaN    1621321\n",
       "1.0      40189\n",
       "3.0      12192\n",
       "2.0       5263\n",
       "Name: safety_measures_use, dtype: int64"
      ]
     },
     "execution_count": 77,
     "metadata": {},
     "output_type": "execute_result"
    }
   ],
   "source": [
    "print('Different values of safety_measures_use with number of involved:')\n",
    "fixed['safety_measures_use'].value_counts(dropna=False)"
   ]
  },
  {
   "cell_type": "markdown",
   "metadata": {},
   "source": [
    "Mostly not usefull since in vast majority empty (~98%)"
   ]
  },
  {
   "cell_type": "code",
   "execution_count": 68,
   "metadata": {},
   "outputs": [
    {
     "data": {
      "text/plain": [
       "accident_year  safety_measures_use\n",
       "2008           NaN                    180540\n",
       "               1.0                      3041\n",
       "               3.0                      1676\n",
       "               2.0                       568\n",
       "2009           NaN                    179301\n",
       "               1.0                      3324\n",
       "               3.0                      1589\n",
       "               2.0                       438\n",
       "2010           NaN                    164934\n",
       "               1.0                      3441\n",
       "               3.0                      1403\n",
       "               2.0                       522\n",
       "2011           NaN                    147112\n",
       "               1.0                      3577\n",
       "               3.0                       929\n",
       "               2.0                       448\n",
       "2012           NaN                    140241\n",
       "               1.0                      3651\n",
       "               3.0                       871\n",
       "               2.0                       464\n",
       "2013           NaN                    139470\n",
       "               1.0                      3980\n",
       "               3.0                       888\n",
       "               2.0                       480\n",
       "2014           NaN                    132103\n",
       "               1.0                      3714\n",
       "               3.0                       924\n",
       "               2.0                       417\n",
       "2015           NaN                    139934\n",
       "               1.0                      4104\n",
       "               3.0                      1069\n",
       "               2.0                       424\n",
       "2016           NaN                    139194\n",
       "               1.0                      4087\n",
       "               3.0                      1025\n",
       "               2.0                       516\n",
       "2017           NaN                    134378\n",
       "               1.0                      3558\n",
       "               3.0                       894\n",
       "               2.0                       492\n",
       "2018           NaN                    124114\n",
       "               1.0                      3712\n",
       "               3.0                       924\n",
       "               2.0                       494\n",
       "Name: safety_measures_use, dtype: int64"
      ]
     },
     "execution_count": 68,
     "metadata": {},
     "output_type": "execute_result"
    }
   ],
   "source": [
    "fixed.groupby(by='accident_year')['safety_measures_use'].value_counts(dropna=False)"
   ]
  },
  {
   "cell_type": "markdown",
   "metadata": {},
   "source": [
    "Don't have this information more than before also in 2018"
   ]
  },
  {
   "cell_type": "markdown",
   "metadata": {},
   "source": [
    "# involve_yishuv_symbol and involve_yishuv_name"
   ]
  },
  {
   "cell_type": "code",
   "execution_count": 78,
   "metadata": {},
   "outputs": [
    {
     "name": "stdout",
     "output_type": "stream",
     "text": [
      "Number of involved per involve_yishuv_symbol:\n"
     ]
    },
    {
     "data": {
      "text/plain": [
       "NaN       368345\n",
       "3000.0     89150\n",
       "5000.0     77325\n",
       "4000.0     45929\n",
       "8300.0     45011\n",
       "Name: involve_yishuv_symbol, dtype: int64"
      ]
     },
     "execution_count": 78,
     "metadata": {},
     "output_type": "execute_result"
    }
   ],
   "source": [
    "print('Number of involved per involve_yishuv_symbol:')\n",
    "fixed['involve_yishuv_symbol'].value_counts(dropna=False).head()"
   ]
  },
  {
   "cell_type": "code",
   "execution_count": 79,
   "metadata": {},
   "outputs": [
    {
     "name": "stdout",
     "output_type": "stream",
     "text": [
      "Numer of different values of involve_yishuv_symbol:\n"
     ]
    },
    {
     "data": {
      "text/plain": [
       "1557"
      ]
     },
     "execution_count": 79,
     "metadata": {},
     "output_type": "execute_result"
    }
   ],
   "source": [
    "print('Numer of different values of involve_yishuv_symbol:')\n",
    "fixed['involve_yishuv_symbol'].value_counts(dropna=False).shape[0]"
   ]
  },
  {
   "cell_type": "code",
   "execution_count": 80,
   "metadata": {},
   "outputs": [
    {
     "name": "stdout",
     "output_type": "stream",
     "text": [
      "Numer of different values of involve_yishuv_name:\n"
     ]
    },
    {
     "data": {
      "text/plain": [
       "1265"
      ]
     },
     "execution_count": 80,
     "metadata": {},
     "output_type": "execute_result"
    }
   ],
   "source": [
    "print('Numer of different values of involve_yishuv_name:')\n",
    "fixed['involve_yishuv_name'].value_counts(dropna=False).shape[0]"
   ]
  },
  {
   "cell_type": "markdown",
   "metadata": {},
   "source": [
    "We can see that involve_yishuv_name and involve_yishuv_symbol don't match - even looking at the number of unique values"
   ]
  },
  {
   "cell_type": "code",
   "execution_count": 81,
   "metadata": {},
   "outputs": [
    {
     "name": "stdout",
     "output_type": "stream",
     "text": [
      "Most frequent Yishuv names (involve_yishuv_name):\n"
     ]
    },
    {
     "data": {
      "text/plain": [
       "NaN             370302\n",
       "ירושלים          89150\n",
       "תל אביב -יפו     77325\n",
       "חיפה             45929\n",
       "ראשון לציון      45011\n",
       "חולון            38748\n",
       "אשדוד            36987\n",
       "פתח תקווה        35906\n",
       "באר שבע          32653\n",
       "נתניה            29058\n",
       "אשקלון           29023\n",
       "בת ים            27816\n",
       "רמת גן           24854\n",
       "רחובות           22167\n",
       "נצרת             16950\n",
       "חדרה             15562\n",
       "רמלה             14917\n",
       "לוד              14770\n",
       "בני ברק          13776\n",
       "הרצלייה          12929\n",
       "Name: involve_yishuv_name, dtype: int64"
      ]
     },
     "execution_count": 81,
     "metadata": {},
     "output_type": "execute_result"
    }
   ],
   "source": [
    "print('Most frequent Yishuv names (involve_yishuv_name):')\n",
    "fixed['involve_yishuv_name'].value_counts(dropna=False).head(20)"
   ]
  },
  {
   "cell_type": "code",
   "execution_count": 82,
   "metadata": {},
   "outputs": [
    {
     "name": "stdout",
     "output_type": "stream",
     "text": [
      "Number of involved without Yishuv name:\n"
     ]
    },
    {
     "data": {
      "text/plain": [
       "370302"
      ]
     },
     "execution_count": 82,
     "metadata": {},
     "output_type": "execute_result"
    }
   ],
   "source": [
    "print('Number of involved without Yishuv name:')\n",
    "fixed['involve_yishuv_name'].isnull().sum()"
   ]
  },
  {
   "cell_type": "code",
   "execution_count": 83,
   "metadata": {},
   "outputs": [
    {
     "name": "stdout",
     "output_type": "stream",
     "text": [
      "Out of all involved, there are 1557 involve_yishuv_symbol unique values, out of which NaN: 368345\n",
      "Out of all involved, there are 1265 involve_yishuv_name unique values, out of which NaN: 370302\n"
     ]
    }
   ],
   "source": [
    "print(f\"Out of all involved, there are {fixed['involve_yishuv_symbol'].value_counts(dropna=False).shape[0]} involve_yishuv_symbol unique values, out of which NaN: {fixed['involve_yishuv_symbol'].isnull().sum()}\")\n",
    "print(f\"Out of all involved, there are {fixed['involve_yishuv_name'].value_counts(dropna=False).shape[0]} involve_yishuv_name unique values, out of which NaN: {fixed['involve_yishuv_name'].isnull().sum()}\")"
   ]
  },
  {
   "cell_type": "markdown",
   "metadata": {},
   "source": [
    "# injury_severity"
   ]
  },
  {
   "cell_type": "code",
   "execution_count": 84,
   "metadata": {},
   "outputs": [
    {
     "name": "stdout",
     "output_type": "stream",
     "text": [
      "Different number of values for injury_severity:\n"
     ]
    },
    {
     "data": {
      "text/plain": [
       "3.0    1024735\n",
       "NaN     629760\n",
       "2.0      20644\n",
       "1.0       3826\n",
       "Name: injury_severity, dtype: int64"
      ]
     },
     "execution_count": 84,
     "metadata": {},
     "output_type": "execute_result"
    }
   ],
   "source": [
    "print('Different number of values for injury_severity:')\n",
    "fixed['injury_severity'].value_counts(dropna=False)"
   ]
  },
  {
   "cell_type": "code",
   "execution_count": 85,
   "metadata": {},
   "outputs": [
    {
     "name": "stdout",
     "output_type": "stream",
     "text": [
      "Different number of values for injury_severity_hebrew:\n"
     ]
    },
    {
     "data": {
      "text/plain": [
       "פצוע קל     1024735\n",
       "NaN          629760\n",
       "פצוע קשה      20644\n",
       "הרוג           3826\n",
       "Name: injury_severity_hebrew, dtype: int64"
      ]
     },
     "execution_count": 85,
     "metadata": {},
     "output_type": "execute_result"
    }
   ],
   "source": [
    "print('Different number of values for injury_severity_hebrew:')\n",
    "fixed['injury_severity_hebrew'].value_counts(dropna=False)"
   ]
  },
  {
   "cell_type": "code",
   "execution_count": 86,
   "metadata": {},
   "outputs": [
    {
     "name": "stdout",
     "output_type": "stream",
     "text": [
      "Different number of values for injury_severity_hebrew out of actually injured:\n"
     ]
    },
    {
     "data": {
      "text/plain": [
       "פצוע קל     1024735\n",
       "פצוע קשה      20644\n",
       "הרוג           3826\n",
       "Name: injury_severity_hebrew, dtype: int64"
      ]
     },
     "execution_count": 86,
     "metadata": {},
     "output_type": "execute_result"
    }
   ],
   "source": [
    "print('Different number of values for injury_severity_hebrew out of actually injured:')\n",
    "fixed[fixed['injured'] == 1]['injury_severity_hebrew'].value_counts(dropna=False)"
   ]
  },
  {
   "cell_type": "code",
   "execution_count": 87,
   "metadata": {},
   "outputs": [
    {
     "name": "stdout",
     "output_type": "stream",
     "text": [
      "Different number of values for injury_severity_hebrew out of NOT injured:\n"
     ]
    },
    {
     "data": {
      "text/plain": [
       "NaN    629760\n",
       "Name: injury_severity_hebrew, dtype: int64"
      ]
     },
     "execution_count": 87,
     "metadata": {},
     "output_type": "execute_result"
    }
   ],
   "source": [
    "print('Different number of values for injury_severity_hebrew out of NOT injured:')\n",
    "fixed[fixed['injured'] == 0]['injury_severity_hebrew'].value_counts(dropna=False)"
   ]
  },
  {
   "cell_type": "markdown",
   "metadata": {},
   "source": [
    "This is great, since it shows that every time someone is classified as \"injured\", it has severity, and when the person is not injured, there is no injury_severity"
   ]
  },
  {
   "cell_type": "code",
   "execution_count": 88,
   "metadata": {},
   "outputs": [
    {
     "data": {
      "text/plain": [
       "Text(0.5, 1.0, 'Number of injured per injury_serverity_hebrew')"
      ]
     },
     "execution_count": 88,
     "metadata": {},
     "output_type": "execute_result"
    },
    {
     "data": {
      "image/png": "[encoded data removed]",
      "text/plain": [
       "<Figure size 432x288 with 1 Axes>"
      ]
     },
     "metadata": {
      "needs_background": "light"
     },
     "output_type": "display_data"
    }
   ],
   "source": [
    "ax = sns.countplot(fixed[fixed['injured'] == 1]['injury_severity_hebrew'])\n",
    "ax.set_title('Number of injured per injury_serverity_hebrew')"
   ]
  },
  {
   "cell_type": "code",
   "execution_count": 91,
   "metadata": {},
   "outputs": [
    {
     "name": "stdout",
     "output_type": "stream",
     "text": [
      "% of accidents with a killed person: 0.5%\n"
     ]
    }
   ],
   "source": [
    "num_acc_with_killed = fixed[fixed['injury_severity'] == 1].groupby(by='provider_and_id')['provider_and_id'].count().shape[0]\n",
    "print(f\"% of accidents with a killed person: {round(num_acc_with_killed * 100 / num_accidents,1)}%\")"
   ]
  },
  {
   "cell_type": "code",
   "execution_count": 93,
   "metadata": {},
   "outputs": [
    {
     "name": "stdout",
     "output_type": "stream",
     "text": [
      "% of killed from all injured: 0.36%\n"
     ]
    }
   ],
   "source": [
    "num_injured = fixed[fixed['injured'] == 1].shape[0] \n",
    "num_killed = fixed[fixed['injury_severity'] == 1].shape[0]\n",
    "print(f\"% of killed from all injured: {round(num_killed * 100 / num_injured, 2)}%\")"
   ]
  },
  {
   "cell_type": "code",
   "execution_count": 94,
   "metadata": {},
   "outputs": [
    {
     "data": {
      "text/plain": [
       "Text(0.5, 1.0, 'Number of injured per year')"
      ]
     },
     "execution_count": 94,
     "metadata": {},
     "output_type": "execute_result"
    },
    {
     "data": {
      "image/png": "[encoded data removed]",
      "text/plain": [
       "<Figure size 432x288 with 1 Axes>"
      ]
     },
     "metadata": {
      "needs_background": "light"
     },
     "output_type": "display_data"
    }
   ],
   "source": [
    "ax = sns.countplot(data=fixed[fixed['injured'] == 1], x='accident_year')\n",
    "ax.set_title('Number of injured per year')"
   ]
  },
  {
   "cell_type": "code",
   "execution_count": 95,
   "metadata": {},
   "outputs": [
    {
     "data": {
      "text/plain": [
       "Text(0.5, 1.0, 'Number of killed per year')"
      ]
     },
     "execution_count": 95,
     "metadata": {},
     "output_type": "execute_result"
    },
    {
     "data": {
      "image/png": "[encoded data removed]",
      "text/plain": [
       "<Figure size 432x288 with 1 Axes>"
      ]
     },
     "metadata": {
      "needs_background": "light"
     },
     "output_type": "display_data"
    }
   ],
   "source": [
    "ax = sns.countplot(data=fixed[fixed['injury_severity'] == 1], x='accident_year')\n",
    "ax.set_title('Number of killed per year')"
   ]
  },
  {
   "cell_type": "code",
   "execution_count": 96,
   "metadata": {},
   "outputs": [
    {
     "data": {
      "text/plain": [
       "Text(0.5, 1.0, 'Number of injured severly per year')"
      ]
     },
     "execution_count": 96,
     "metadata": {},
     "output_type": "execute_result"
    },
    {
     "data": {
      "image/png": "[encoded data removed]",
      "text/plain": [
       "<Figure size 432x288 with 1 Axes>"
      ]
     },
     "metadata": {
      "needs_background": "light"
     },
     "output_type": "display_data"
    }
   ],
   "source": [
    "ax = sns.countplot(data=fixed[fixed['injury_severity'] == 2], x='accident_year')\n",
    "ax.set_title('Number of injured severly per year')"
   ]
  },
  {
   "cell_type": "code",
   "execution_count": 97,
   "metadata": {},
   "outputs": [
    {
     "data": {
      "text/plain": [
       "Text(0.5, 1.0, 'Number of lightly injured per year')"
      ]
     },
     "execution_count": 97,
     "metadata": {},
     "output_type": "execute_result"
    },
    {
     "data": {
      "image/png": "[encoded data removed]",
      "text/plain": [
       "<Figure size 432x288 with 1 Axes>"
      ]
     },
     "metadata": {
      "needs_background": "light"
     },
     "output_type": "display_data"
    }
   ],
   "source": [
    "ax = sns.countplot(data=fixed[fixed['injury_severity'] == 3], x='accident_year')\n",
    "ax.set_title('Number of lightly injured per year')"
   ]
  },
  {
   "cell_type": "markdown",
   "metadata": {},
   "source": [
    "- 80,000 get injured every year in traffic accidents, but there is a trend going down, it was 120,000 10 years ago!!!\n",
    "- 2000 get seriously injured per year, in the last 10 years, first there was a drop, but since 2011 it again climbs up\n",
    "- More than 300 per year get killed, with a big drop in 2012 and climbing since with a drop again in 2017/2018\n",
    "- Number of lightly injured - seems that got dropped seriously in last 10 years, but maybe it’s more how injured are being counted\n"
   ]
  },
  {
   "cell_type": "markdown",
   "metadata": {},
   "source": [
    "# injured_type"
   ]
  },
  {
   "cell_type": "code",
   "execution_count": 98,
   "metadata": {},
   "outputs": [
    {
     "name": "stdout",
     "output_type": "stream",
     "text": [
      "Number of injured per injured_type:\n"
     ]
    },
    {
     "data": {
      "text/plain": [
       "2.0    514733\n",
       "3.0    306445\n",
       "1.0     94516\n",
       "4.0     87723\n",
       "6.0     16671\n",
       "8.0     16653\n",
       "5.0      6193\n",
       "9.0      5854\n",
       "7.0       415\n",
       "NaN         2\n",
       "Name: injured_type, dtype: int64"
      ]
     },
     "execution_count": 98,
     "metadata": {},
     "output_type": "execute_result"
    }
   ],
   "source": [
    "print('Number of injured per injured_type:')\n",
    "fixed[fixed['injured'] == 1]['injured_type'].value_counts(dropna=False)"
   ]
  },
  {
   "cell_type": "code",
   "execution_count": 99,
   "metadata": {},
   "outputs": [
    {
     "name": "stdout",
     "output_type": "stream",
     "text": [
      "Number of injured per injured_type_hebrew:\n"
     ]
    },
    {
     "data": {
      "text/plain": [
       "נהג - רכב בעל 4 גלגלים ויותר     514733\n",
       "נוסע - רכב בעל 4 גלגלים ויותר    306445\n",
       "הולך רגל                          94516\n",
       "נהג - אופנוע                      87723\n",
       "נהג - אופניים                     16671\n",
       "נהג - רכב לא ידוע                 16653\n",
       "נוסע - אופנוע (לא נהג)             6193\n",
       "נוסע - רכב לא ידוע                 5854\n",
       "נוסע - אופניים (לא נהג)             415\n",
       "NaN                                   2\n",
       "Name: injured_type_hebrew, dtype: int64"
      ]
     },
     "execution_count": 99,
     "metadata": {},
     "output_type": "execute_result"
    }
   ],
   "source": [
    "print('Number of injured per injured_type_hebrew:')\n",
    "fixed[fixed['injured'] == 1]['injured_type_hebrew'].value_counts(dropna=False)"
   ]
  },
  {
   "cell_type": "code",
   "execution_count": 100,
   "metadata": {},
   "outputs": [
    {
     "name": "stdout",
     "output_type": "stream",
     "text": [
      "Number of injured per injured_type_hebrew and % from all injured:\n"
     ]
    },
    {
     "data": {
      "text/html": [
       "<div>\n",
       "<style scoped>\n",
       "    .dataframe tbody tr th:only-of-type {\n",
       "        vertical-align: middle;\n",
       "    }\n",
       "\n",
       "    .dataframe tbody tr th {\n",
       "        vertical-align: top;\n",
       "    }\n",
       "\n",
       "    .dataframe thead th {\n",
       "        text-align: right;\n",
       "    }\n",
       "</style>\n",
       "<table border=\"1\" class=\"dataframe\">\n",
       "  <thead>\n",
       "    <tr style=\"text-align: right;\">\n",
       "      <th></th>\n",
       "      <th>Num injured</th>\n",
       "      <th>% injured</th>\n",
       "    </tr>\n",
       "  </thead>\n",
       "  <tbody>\n",
       "    <tr>\n",
       "      <th>נהג - רכב בעל 4 גלגלים ויותר</th>\n",
       "      <td>514733</td>\n",
       "      <td>49.059335</td>\n",
       "    </tr>\n",
       "    <tr>\n",
       "      <th>נוסע - רכב בעל 4 גלגלים ויותר</th>\n",
       "      <td>306445</td>\n",
       "      <td>29.207352</td>\n",
       "    </tr>\n",
       "    <tr>\n",
       "      <th>הולך רגל</th>\n",
       "      <td>94516</td>\n",
       "      <td>9.008344</td>\n",
       "    </tr>\n",
       "    <tr>\n",
       "      <th>נהג - אופנוע</th>\n",
       "      <td>87723</td>\n",
       "      <td>8.360902</td>\n",
       "    </tr>\n",
       "    <tr>\n",
       "      <th>נהג - אופניים</th>\n",
       "      <td>16671</td>\n",
       "      <td>1.588917</td>\n",
       "    </tr>\n",
       "    <tr>\n",
       "      <th>נהג - רכב לא ידוע</th>\n",
       "      <td>16653</td>\n",
       "      <td>1.587202</td>\n",
       "    </tr>\n",
       "    <tr>\n",
       "      <th>נוסע - אופנוע (לא נהג)</th>\n",
       "      <td>6193</td>\n",
       "      <td>0.590256</td>\n",
       "    </tr>\n",
       "    <tr>\n",
       "      <th>נוסע - רכב לא ידוע</th>\n",
       "      <td>5854</td>\n",
       "      <td>0.557946</td>\n",
       "    </tr>\n",
       "    <tr>\n",
       "      <th>נוסע - אופניים (לא נהג)</th>\n",
       "      <td>415</td>\n",
       "      <td>0.039554</td>\n",
       "    </tr>\n",
       "    <tr>\n",
       "      <th>NaN</th>\n",
       "      <td>2</td>\n",
       "      <td>0.000191</td>\n",
       "    </tr>\n",
       "  </tbody>\n",
       "</table>\n",
       "</div>"
      ],
      "text/plain": [
       "                               Num injured  % injured\n",
       "נהג - רכב בעל 4 גלגלים ויותר        514733  49.059335\n",
       "נוסע - רכב בעל 4 גלגלים ויותר       306445  29.207352\n",
       "הולך רגל                             94516   9.008344\n",
       "נהג - אופנוע                         87723   8.360902\n",
       "נהג - אופניים                        16671   1.588917\n",
       "נהג - רכב לא ידוע                    16653   1.587202\n",
       "נוסע - אופנוע (לא נהג)                6193   0.590256\n",
       "נוסע - רכב לא ידוע                    5854   0.557946\n",
       "נוסע - אופניים (לא נהג)                415   0.039554\n",
       "NaN                                      2   0.000191"
      ]
     },
     "execution_count": 100,
     "metadata": {},
     "output_type": "execute_result"
    }
   ],
   "source": [
    "injured_type = pd.DataFrame({'Num injured': fixed[fixed['injured'] == 1]['injured_type_hebrew'].value_counts(dropna=False)})\n",
    "injured_type['% injured'] = injured_type['Num injured'] / injured_type['Num injured'].sum() * 100 \n",
    "print('Number of injured per injured_type_hebrew and % from all injured:')\n",
    "injured_type"
   ]
  },
  {
   "cell_type": "code",
   "execution_count": 101,
   "metadata": {},
   "outputs": [
    {
     "data": {
      "text/plain": [
       "Text(0.5, 1.0, 'Number of injured per injured_type_hebrew')"
      ]
     },
     "execution_count": 101,
     "metadata": {},
     "output_type": "execute_result"
    },
    {
     "data": {
      "image/png": "[encoded data removed]",
      "text/plain": [
       "<Figure size 1800x360 with 1 Axes>"
      ]
     },
     "metadata": {
      "needs_background": "light"
     },
     "output_type": "display_data"
    }
   ],
   "source": [
    "fig = plt.figure(figsize=(25,5))\n",
    "ax = sns.countplot(x='injured_type_hebrew', data=fixed[fixed['injury_severity']==1])\n",
    "ax.set_title('Number of injured per injured_type_hebrew')"
   ]
  },
  {
   "cell_type": "code",
   "execution_count": 102,
   "metadata": {},
   "outputs": [
    {
     "name": "stdout",
     "output_type": "stream",
     "text": [
      "Number of killed per injured_type_hebrew:\n"
     ]
    },
    {
     "data": {
      "text/html": [
       "<div>\n",
       "<style scoped>\n",
       "    .dataframe tbody tr th:only-of-type {\n",
       "        vertical-align: middle;\n",
       "    }\n",
       "\n",
       "    .dataframe tbody tr th {\n",
       "        vertical-align: top;\n",
       "    }\n",
       "\n",
       "    .dataframe thead th {\n",
       "        text-align: right;\n",
       "    }\n",
       "</style>\n",
       "<table border=\"1\" class=\"dataframe\">\n",
       "  <thead>\n",
       "    <tr style=\"text-align: right;\">\n",
       "      <th></th>\n",
       "      <th>Num killed</th>\n",
       "      <th>% injured</th>\n",
       "    </tr>\n",
       "  </thead>\n",
       "  <tbody>\n",
       "    <tr>\n",
       "      <th>הולך רגל</th>\n",
       "      <td>1218</td>\n",
       "      <td>31.834814</td>\n",
       "    </tr>\n",
       "    <tr>\n",
       "      <th>נהג - רכב בעל 4 גלגלים ויותר</th>\n",
       "      <td>1029</td>\n",
       "      <td>26.894929</td>\n",
       "    </tr>\n",
       "    <tr>\n",
       "      <th>נוסע - רכב בעל 4 גלגלים ויותר</th>\n",
       "      <td>832</td>\n",
       "      <td>21.745949</td>\n",
       "    </tr>\n",
       "    <tr>\n",
       "      <th>נהג - אופנוע</th>\n",
       "      <td>469</td>\n",
       "      <td>12.258233</td>\n",
       "    </tr>\n",
       "    <tr>\n",
       "      <th>נהג - אופניים</th>\n",
       "      <td>149</td>\n",
       "      <td>3.894407</td>\n",
       "    </tr>\n",
       "    <tr>\n",
       "      <th>נהג - רכב לא ידוע</th>\n",
       "      <td>73</td>\n",
       "      <td>1.907998</td>\n",
       "    </tr>\n",
       "    <tr>\n",
       "      <th>נוסע - רכב לא ידוע</th>\n",
       "      <td>28</td>\n",
       "      <td>0.731835</td>\n",
       "    </tr>\n",
       "    <tr>\n",
       "      <th>נוסע - אופנוע (לא נהג)</th>\n",
       "      <td>27</td>\n",
       "      <td>0.705698</td>\n",
       "    </tr>\n",
       "    <tr>\n",
       "      <th>נוסע - אופניים (לא נהג)</th>\n",
       "      <td>1</td>\n",
       "      <td>0.026137</td>\n",
       "    </tr>\n",
       "  </tbody>\n",
       "</table>\n",
       "</div>"
      ],
      "text/plain": [
       "                               Num killed  % injured\n",
       "הולך רגל                             1218  31.834814\n",
       "נהג - רכב בעל 4 גלגלים ויותר         1029  26.894929\n",
       "נוסע - רכב בעל 4 גלגלים ויותר         832  21.745949\n",
       "נהג - אופנוע                          469  12.258233\n",
       "נהג - אופניים                         149   3.894407\n",
       "נהג - רכב לא ידוע                      73   1.907998\n",
       "נוסע - רכב לא ידוע                     28   0.731835\n",
       "נוסע - אופנוע (לא נהג)                 27   0.705698\n",
       "נוסע - אופניים (לא נהג)                 1   0.026137"
      ]
     },
     "execution_count": 102,
     "metadata": {},
     "output_type": "execute_result"
    }
   ],
   "source": [
    "injured_type_killed = pd.DataFrame({'Num killed': fixed[fixed['injury_severity']==1]['injured_type_hebrew'].value_counts()})\n",
    "injured_type_killed['% injured'] = injured_type_killed['Num killed'] / injured_type_killed['Num killed'].sum() * 100 \n",
    "print('Number of killed per injured_type_hebrew:')\n",
    "injured_type_killed"
   ]
  },
  {
   "cell_type": "code",
   "execution_count": 103,
   "metadata": {},
   "outputs": [
    {
     "name": "stdout",
     "output_type": "stream",
     "text": [
      "Number of seriously injured per injured_type_hebrew:\n"
     ]
    },
    {
     "data": {
      "text/html": [
       "<div>\n",
       "<style scoped>\n",
       "    .dataframe tbody tr th:only-of-type {\n",
       "        vertical-align: middle;\n",
       "    }\n",
       "\n",
       "    .dataframe tbody tr th {\n",
       "        vertical-align: top;\n",
       "    }\n",
       "\n",
       "    .dataframe thead th {\n",
       "        text-align: right;\n",
       "    }\n",
       "</style>\n",
       "<table border=\"1\" class=\"dataframe\">\n",
       "  <thead>\n",
       "    <tr style=\"text-align: right;\">\n",
       "      <th></th>\n",
       "      <th>Num seriously injured</th>\n",
       "      <th>% injured</th>\n",
       "    </tr>\n",
       "  </thead>\n",
       "  <tbody>\n",
       "    <tr>\n",
       "      <th>הולך רגל</th>\n",
       "      <td>6325</td>\n",
       "      <td>30.638442</td>\n",
       "    </tr>\n",
       "    <tr>\n",
       "      <th>נהג - רכב בעל 4 גלגלים ויותר</th>\n",
       "      <td>4712</td>\n",
       "      <td>22.825034</td>\n",
       "    </tr>\n",
       "    <tr>\n",
       "      <th>נהג - אופנוע</th>\n",
       "      <td>3901</td>\n",
       "      <td>18.896532</td>\n",
       "    </tr>\n",
       "    <tr>\n",
       "      <th>נוסע - רכב בעל 4 גלגלים ויותר</th>\n",
       "      <td>3835</td>\n",
       "      <td>18.576826</td>\n",
       "    </tr>\n",
       "    <tr>\n",
       "      <th>נהג - אופניים</th>\n",
       "      <td>844</td>\n",
       "      <td>4.088355</td>\n",
       "    </tr>\n",
       "    <tr>\n",
       "      <th>נהג - רכב לא ידוע</th>\n",
       "      <td>599</td>\n",
       "      <td>2.901569</td>\n",
       "    </tr>\n",
       "    <tr>\n",
       "      <th>נוסע - אופנוע (לא נהג)</th>\n",
       "      <td>311</td>\n",
       "      <td>1.506491</td>\n",
       "    </tr>\n",
       "    <tr>\n",
       "      <th>נוסע - רכב לא ידוע</th>\n",
       "      <td>94</td>\n",
       "      <td>0.455338</td>\n",
       "    </tr>\n",
       "    <tr>\n",
       "      <th>נוסע - אופניים (לא נהג)</th>\n",
       "      <td>23</td>\n",
       "      <td>0.111413</td>\n",
       "    </tr>\n",
       "  </tbody>\n",
       "</table>\n",
       "</div>"
      ],
      "text/plain": [
       "                               Num seriously injured  % injured\n",
       "הולך רגל                                        6325  30.638442\n",
       "נהג - רכב בעל 4 גלגלים ויותר                    4712  22.825034\n",
       "נהג - אופנוע                                    3901  18.896532\n",
       "נוסע - רכב בעל 4 גלגלים ויותר                   3835  18.576826\n",
       "נהג - אופניים                                    844   4.088355\n",
       "נהג - רכב לא ידוע                                599   2.901569\n",
       "נוסע - אופנוע (לא נהג)                           311   1.506491\n",
       "נוסע - רכב לא ידוע                                94   0.455338\n",
       "נוסע - אופניים (לא נהג)                           23   0.111413"
      ]
     },
     "execution_count": 103,
     "metadata": {},
     "output_type": "execute_result"
    }
   ],
   "source": [
    "injured_type_serious = pd.DataFrame({'Num seriously injured': fixed[fixed['injury_severity']==2]['injured_type_hebrew'].value_counts()})\n",
    "injured_type_serious['% injured'] = injured_type_serious['Num seriously injured'] / injured_type_serious['Num seriously injured'].sum() * 100 \n",
    "print('Number of seriously injured per injured_type_hebrew:')\n",
    "injured_type_serious"
   ]
  },
  {
   "cell_type": "markdown",
   "metadata": {},
   "source": [
    "# injured_position"
   ]
  },
  {
   "cell_type": "code",
   "execution_count": 104,
   "metadata": {},
   "outputs": [
    {
     "name": "stdout",
     "output_type": "stream",
     "text": [
      "Number of injured per injured_position:\n"
     ]
    },
    {
     "data": {
      "text/plain": [
       "1.0    711104\n",
       "8.0    183633\n",
       "9.0     94516\n",
       "2.0     55942\n",
       "4.0      1548\n",
       "6.0       870\n",
       "7.0       666\n",
       "5.0       628\n",
       "3.0       298\n",
       "Name: injured_position, dtype: int64"
      ]
     },
     "execution_count": 104,
     "metadata": {},
     "output_type": "execute_result"
    }
   ],
   "source": [
    "print('Number of injured per injured_position:')\n",
    "fixed[fixed['injured'] == 1]['injured_position'].value_counts(dropna=False)"
   ]
  },
  {
   "cell_type": "code",
   "execution_count": 105,
   "metadata": {},
   "outputs": [
    {
     "name": "stdout",
     "output_type": "stream",
     "text": [
      "Number of injured per injured_position_hebrew:\n"
     ]
    },
    {
     "data": {
      "text/plain": [
       "ישב ברכב במושב קדמי     711104\n",
       "לא ידוע                 183633\n",
       "הולך רגל                 94516\n",
       "ישב ברכב במושב אחורי     55942\n",
       "עמד ברכב                  1548\n",
       "ירד מהרכב                  870\n",
       "פעולה אחרת                 666\n",
       "עלה לרכב                   628\n",
       "ישב ברכב בארגז מאחור       298\n",
       "Name: injured_position_hebrew, dtype: int64"
      ]
     },
     "execution_count": 105,
     "metadata": {},
     "output_type": "execute_result"
    }
   ],
   "source": [
    "print('Number of injured per injured_position_hebrew:')\n",
    "fixed[fixed['injured'] == 1]['injured_position_hebrew'].value_counts(dropna=False)"
   ]
  },
  {
   "cell_type": "markdown",
   "metadata": {},
   "source": [
    "# population_type"
   ]
  },
  {
   "cell_type": "code",
   "execution_count": 106,
   "metadata": {},
   "outputs": [
    {
     "name": "stdout",
     "output_type": "stream",
     "text": [
      "Number of involved per population_type:\n"
     ]
    },
    {
     "data": {
      "text/plain": [
       "1.0    1302388\n",
       "2.0     323157\n",
       "3.0      44666\n",
       "4.0       8731\n",
       "NaN         23\n",
       "Name: population_type, dtype: int64"
      ]
     },
     "execution_count": 106,
     "metadata": {},
     "output_type": "execute_result"
    }
   ],
   "source": [
    "print('Number of involved per population_type:')\n",
    "fixed['population_type'].value_counts(dropna=False)"
   ]
  },
  {
   "cell_type": "code",
   "execution_count": 107,
   "metadata": {},
   "outputs": [
    {
     "name": "stdout",
     "output_type": "stream",
     "text": [
      "Number of involved per population_type_hebrew:\n"
     ]
    },
    {
     "data": {
      "text/plain": [
       "יהודים    1302388\n",
       "ערבים      323157\n",
       "אחרים       44666\n",
       "זרים         8731\n",
       "NaN            23\n",
       "Name: population_type_hebrew, dtype: int64"
      ]
     },
     "execution_count": 107,
     "metadata": {},
     "output_type": "execute_result"
    }
   ],
   "source": [
    "print('Number of involved per population_type_hebrew:')\n",
    "fixed['population_type_hebrew'].value_counts(dropna=False)"
   ]
  },
  {
   "cell_type": "markdown",
   "metadata": {},
   "source": [
    "# home_region"
   ]
  },
  {
   "cell_type": "code",
   "execution_count": 108,
   "metadata": {},
   "outputs": [
    {
     "name": "stdout",
     "output_type": "stream",
     "text": [
      "Number of involved per home_region:\n"
     ]
    },
    {
     "data": {
      "text/plain": [
       "NaN    368351\n",
       "4.0    317439\n",
       "2.0    278422\n",
       "5.0    223293\n",
       "6.0    174203\n",
       "3.0    166787\n",
       "1.0    107785\n",
       "7.0     42680\n",
       "8.0         5\n",
       "Name: home_region, dtype: int64"
      ]
     },
     "execution_count": 108,
     "metadata": {},
     "output_type": "execute_result"
    }
   ],
   "source": [
    "print('Number of involved per home_region:')\n",
    "fixed['home_region'].value_counts(dropna=False)"
   ]
  },
  {
   "cell_type": "code",
   "execution_count": 109,
   "metadata": {},
   "outputs": [
    {
     "name": "stdout",
     "output_type": "stream",
     "text": [
      "Number of involved per home_region_hebrew:\n"
     ]
    },
    {
     "data": {
      "text/plain": [
       "NaN              368351\n",
       "המרכז            317439\n",
       "הצפון            278422\n",
       "תל אביב          223293\n",
       "הדרום            174203\n",
       "חיפה             166787\n",
       "ירושלים          107785\n",
       "יהודה ושומרון     42680\n",
       "חבל עזה               5\n",
       "Name: home_region_hebrew, dtype: int64"
      ]
     },
     "execution_count": 109,
     "metadata": {},
     "output_type": "execute_result"
    }
   ],
   "source": [
    "print('Number of involved per home_region_hebrew:')\n",
    "fixed['home_region_hebrew'].value_counts(dropna=False)"
   ]
  },
  {
   "cell_type": "markdown",
   "metadata": {},
   "source": [
    "# home_district"
   ]
  },
  {
   "cell_type": "code",
   "execution_count": 110,
   "metadata": {},
   "outputs": [
    {
     "data": {
      "text/plain": [
       "99    368351\n",
       "51    223293\n",
       "24    146161\n",
       "11    107785\n",
       "44     99013\n",
       "42     98137\n",
       "31     97494\n",
       "61     92940\n",
       "23     88868\n",
       "62     81263\n",
       "32     69293\n",
       "41     66179\n",
       "43     54110\n",
       "22     21235\n",
       "21     16261\n",
       "74     12748\n",
       "76     11936\n",
       "73     11707\n",
       "29      5897\n",
       "77      2424\n",
       "72      1833\n",
       "75      1375\n",
       "71       657\n",
       "80         2\n",
       "86         1\n",
       "81         1\n",
       "87         1\n",
       "Name: home_district, dtype: int64"
      ]
     },
     "execution_count": 110,
     "metadata": {},
     "output_type": "execute_result"
    }
   ],
   "source": [
    "print('Number of involved per home_district:')\n",
    "fixed['home_district'].value_counts(dropna=False)"
   ]
  },
  {
   "cell_type": "code",
   "execution_count": 110,
   "metadata": {},
   "outputs": [
    {
     "name": "stdout",
     "output_type": "stream",
     "text": [
      "Number of involved per home_district_hebrew:\n"
     ]
    },
    {
     "data": {
      "text/plain": [
       "NaN             368351\n",
       "תל אביב         223293\n",
       "עכו             146161\n",
       "ירושלים         107785\n",
       "רחובות           99013\n",
       "פתח תקווה        98137\n",
       "חיפה             97494\n",
       "אשקלון           92940\n",
       "יזרעאל           88868\n",
       "באר שבע          81263\n",
       "חדרה             69293\n",
       "השרון            66179\n",
       "רמלה             54110\n",
       "כנרת             21235\n",
       "צפת              16261\n",
       "ראמאללה          12748\n",
       "בית לחם          11936\n",
       "טול כרם          11707\n",
       "גולן              5897\n",
       "חברון             2424\n",
       "שכם               1833\n",
       "ירדן (יריחו)      1375\n",
       "גנין               657\n",
       "רפיח                 2\n",
       "דיר אל-בלח           1\n",
       "עזה                  1\n",
       "גאבליא               1\n",
       "Name: home_district_hebrew, dtype: int64"
      ]
     },
     "execution_count": 110,
     "metadata": {},
     "output_type": "execute_result"
    }
   ],
   "source": [
    "print('Number of involved per home_district_hebrew:')\n",
    "fixed['home_district_hebrew'].value_counts(dropna=False)"
   ]
  },
  {
   "cell_type": "markdown",
   "metadata": {},
   "source": [
    "# home_natural_area"
   ]
  },
  {
   "cell_type": "code",
   "execution_count": 113,
   "metadata": {},
   "outputs": [
    {
     "name": "stdout",
     "output_type": "stream",
     "text": [
      "Number of different values for home_natural_area:\n"
     ]
    },
    {
     "data": {
      "text/plain": [
       "64"
      ]
     },
     "execution_count": 113,
     "metadata": {},
     "output_type": "execute_result"
    }
   ],
   "source": [
    "print('Number of different values for home_natural_area:')\n",
    "fixed['home_natural_area'].value_counts(dropna=False).shape[0]"
   ]
  },
  {
   "cell_type": "code",
   "execution_count": 114,
   "metadata": {},
   "outputs": [
    {
     "name": "stdout",
     "output_type": "stream",
     "text": [
      "Number of different values for home_natural_area_hebrew:\n"
     ]
    },
    {
     "data": {
      "text/plain": [
       "64"
      ]
     },
     "execution_count": 114,
     "metadata": {},
     "output_type": "execute_result"
    }
   ],
   "source": [
    "print('Number of different values for home_natural_area_hebrew:')\n",
    "fixed['home_natural_area_hebrew'].value_counts(dropna=False).shape[0]"
   ]
  },
  {
   "cell_type": "code",
   "execution_count": 115,
   "metadata": {},
   "outputs": [
    {
     "name": "stdout",
     "output_type": "stream",
     "text": [
      "Different numbers of involved per home_natural_area:\n"
     ]
    },
    {
     "data": {
      "text/plain": [
       "NaN      368351\n",
       "111.0     97866\n",
       "311.0     97494\n",
       "511.0     95973\n",
       "513.0     68962\n",
       "422.0     64451\n",
       "237.0     63965\n",
       "512.0     58358\n",
       "623.0     54341\n",
       "241.0     52846\n",
       "442.0     52507\n",
       "441.0     46506\n",
       "411.0     44700\n",
       "324.0     38757\n",
       "613.0     36987\n",
       "614.0     36639\n",
       "421.0     33686\n",
       "431.0     32728\n",
       "242.0     27303\n",
       "323.0     23773\n",
       "245.0     22460\n",
       "412.0     21479\n",
       "432.0     21382\n",
       "246.0     20810\n",
       "243.0     18811\n",
       "740.0     12670\n",
       "234.0     12238\n",
       "760.0     11936\n",
       "730.0     11707\n",
       "222.0     10622\n",
       "          ...  \n",
       "625.0      8203\n",
       "212.0      7544\n",
       "621.0      6902\n",
       "626.0      6152\n",
       "622.0      5519\n",
       "211.0      5384\n",
       "235.0      4544\n",
       "321.0      3956\n",
       "244.0      3931\n",
       "231.0      3831\n",
       "213.0      3333\n",
       "322.0      2807\n",
       "770.0      2424\n",
       "233.0      2421\n",
       "292.0      2009\n",
       "720.0      1833\n",
       "291.0      1749\n",
       "232.0      1400\n",
       "293.0      1390\n",
       "750.0      1375\n",
       "294.0       749\n",
       "710.0       657\n",
       "236.0       469\n",
       "624.0        95\n",
       "999.0        78\n",
       "627.0        51\n",
       "800.0         2\n",
       "810.0         1\n",
       "860.0         1\n",
       "870.0         1\n",
       "Name: home_natural_area, Length: 64, dtype: int64"
      ]
     },
     "execution_count": 115,
     "metadata": {},
     "output_type": "execute_result"
    }
   ],
   "source": [
    "print('Different numbers of involved per home_natural_area:')\n",
    "fixed['home_natural_area'].value_counts(dropna=False)"
   ]
  },
  {
   "cell_type": "code",
   "execution_count": 116,
   "metadata": {},
   "outputs": [
    {
     "name": "stdout",
     "output_type": "stream",
     "text": [
      "Different numbers of involved per home_natural_area_hebrew:\n"
     ]
    },
    {
     "data": {
      "text/plain": [
       "NaN                 375589\n",
       "הרי יהודה            97866\n",
       "אזור חיפה            97494\n",
       "אזור תל אביב         95973\n",
       "אזור חולון           68962\n",
       "אזור פתח תקווה       64451\n",
       "הרי נצרת-תירען       63965\n",
       "אזור רמת גן          58358\n",
       "אזור באר שבע         54341\n",
       "אזור שפרעם           52846\n",
       "אזור ראשון לציון     52507\n",
       "אזור רחובות          46506\n",
       "מערב השרון           44700\n",
       "אזור חדרה            38757\n",
       "אזור אשדוד           36987\n",
       "אזור אשקלון          36639\n",
       "דרום השרון           33686\n",
       "אזור לוד             28923\n",
       "אזור כרמיאל          27303\n",
       "הר אלכסנדר           23773\n",
       "אזור נהרייה          22460\n",
       "מזרח השרון           21479\n",
       "אזור עכו             20810\n",
       "אזור יחיעם           18811\n",
       "אזור רמלה            14222\n",
       "נפת ראמאללה          12670\n",
       "עמק יזרעאל           12238\n",
       "נפת בית לחם          11936\n",
       "נפת טול כרם          11707\n",
       "גליל תחתון מזרחי     10622\n",
       "                     ...  \n",
       "אזור הערבה            8203\n",
       "גליל עליון מזרחי      7544\n",
       "אזור גרר              6902\n",
       "הר הנגב הצפוני        6152\n",
       "אזור בשור             5519\n",
       "עמק חולה              5384\n",
       "אזור יקנעם            4544\n",
       "חוף הכרמל             3956\n",
       "אזור אילון            3931\n",
       "עמק בית שאן           3831\n",
       "אזור מודיעין          3805\n",
       "אזור חצור             3333\n",
       "אזור זכרון יעקב       2807\n",
       "נפת חברון             2424\n",
       "רמת כוכב              2421\n",
       "גולן צפוני            2009\n",
       "נפת שכם               1833\n",
       "אזור החרמון           1749\n",
       "עמק חרוד              1400\n",
       "גולן תיכוני           1390\n",
       "נפת ירדן (יריחו)      1375\n",
       "גולן דרומי             749\n",
       "נפת גנין               657\n",
       "רמת מנשה               469\n",
       "אזור ים המלח            95\n",
       "הר הנגב הדרומי          51\n",
       "נפת רפיח                 2\n",
       "נפת גבאליא               1\n",
       "נפת דיר אל-בלח           1\n",
       "נפת עזה                  1\n",
       "Name: home_natural_area_hebrew, Length: 64, dtype: int64"
      ]
     },
     "execution_count": 116,
     "metadata": {},
     "output_type": "execute_result"
    }
   ],
   "source": [
    "print('Different numbers of involved per home_natural_area_hebrew:')\n",
    "fixed['home_natural_area_hebrew'].value_counts(dropna=False)"
   ]
  },
  {
   "cell_type": "code",
   "execution_count": 117,
   "metadata": {},
   "outputs": [
    {
     "data": {
      "text/plain": [
       "array([ 7238,     0,     0,     0,     0,     0,     0,     0,     0,\n",
       "           0,     0,     0,     0,     0,     0,     0,     0, -3805,\n",
       "           0,     0,     0,     0,  -572, -1999, -4589,     0,     0,\n",
       "           0,     0,     0,     0,     0,     0,     0,     0,     0,\n",
       "           0,     0,     0,     0,     0,     0,     0,     0,   472,\n",
       "         526,   383,     3,   412,   176,    84,   349,    10,    15,\n",
       "         626,    92,   188,   374,    17,     0,     0,     0,     0,\n",
       "           0], dtype=int64)"
      ]
     },
     "execution_count": 117,
     "metadata": {},
     "output_type": "execute_result"
    }
   ],
   "source": [
    "fixed['home_natural_area_hebrew'].value_counts(dropna=False).values - fixed['home_natural_area'].value_counts(dropna=False).values"
   ]
  },
  {
   "cell_type": "markdown",
   "metadata": {},
   "source": [
    "The values don't completely match between home_natural_area_hebrew and home_natural_area!!!"
   ]
  },
  {
   "cell_type": "markdown",
   "metadata": {},
   "source": [
    "# home_municipal_status"
   ]
  },
  {
   "cell_type": "code",
   "execution_count": 118,
   "metadata": {},
   "outputs": [
    {
     "name": "stdout",
     "output_type": "stream",
     "text": [
      "Different numbers of involved per home_municipal_status:\n"
     ]
    },
    {
     "data": {
      "text/plain": [
       "58"
      ]
     },
     "execution_count": 118,
     "metadata": {},
     "output_type": "execute_result"
    }
   ],
   "source": [
    "print('Different numbers of involved per home_municipal_status:')\n",
    "fixed['home_municipal_status'].value_counts(dropna=False).shape[0]"
   ]
  },
  {
   "cell_type": "code",
   "execution_count": 119,
   "metadata": {},
   "outputs": [
    {
     "name": "stdout",
     "output_type": "stream",
     "text": [
      "Different numbers of involved per home_municipal_status_hebrew:\n"
     ]
    },
    {
     "data": {
      "text/plain": [
       "59"
      ]
     },
     "execution_count": 119,
     "metadata": {},
     "output_type": "execute_result"
    }
   ],
   "source": [
    "print('Different numbers of involved per home_municipal_status_hebrew:')\n",
    "fixed['home_municipal_status_hebrew'].value_counts(dropna=False).shape[0]"
   ]
  },
  {
   "cell_type": "code",
   "execution_count": 120,
   "metadata": {},
   "outputs": [
    {
     "name": "stdout",
     "output_type": "stream",
     "text": [
      "Most frequent home_municipal_status values with number of involved:\n"
     ]
    },
    {
     "data": {
      "text/plain": [
       "NaN     1350053\n",
       "99.0     227290\n",
       "73.0       6759\n",
       "26.0       5982\n",
       "72.0       4681\n",
       "Name: home_municipal_status, dtype: int64"
      ]
     },
     "execution_count": 120,
     "metadata": {},
     "output_type": "execute_result"
    }
   ],
   "source": [
    "print('Most frequent home_municipal_status values with number of involved:')\n",
    "fixed['home_municipal_status'].value_counts(dropna=False).head()"
   ]
  },
  {
   "cell_type": "code",
   "execution_count": 121,
   "metadata": {},
   "outputs": [
    {
     "name": "stdout",
     "output_type": "stream",
     "text": [
      "Most frequent home_municipal_status_hebrew values with number of involved:\n"
     ]
    },
    {
     "data": {
      "text/plain": [
       "NaN              1350053\n",
       "מועצה מקומית      227290\n",
       "מטה בנימין          6759\n",
       "מטה יהודה           5982\n",
       "שומרון              4681\n",
       "עמק חפר             4403\n",
       "הגלבוע              4327\n",
       "עמק יזרעאל          4023\n",
       "מטה אשר             3950\n",
       "משגב                3915\n",
       "גזר                 3609\n",
       "באר טוביה           3537\n",
       "דרום השרון          3522\n",
       "חבל מודיעין         2989\n",
       "חוף הכרמל           2963\n",
       "חוף אשקלון          2897\n",
       "לב השרון            2560\n",
       "מרום הגליל          2459\n",
       "מנשה                2275\n",
       "גוש עציון           2092\n",
       "מעלה יוסף           1814\n",
       "לכיש                1697\n",
       "עמק לוד             1669\n",
       "זבולון              1633\n",
       "שפיר                1633\n",
       "הגליל התחתון        1568\n",
       "מרחבים              1550\n",
       "גולן                1511\n",
       "בוסתן אל-מרג        1468\n",
       "הגליל העליון        1466\n",
       "עמק הירדן           1385\n",
       "אשכול               1278\n",
       "שדות נגב            1250\n",
       "אל-בטוף             1191\n",
       "בקעת בית שאן         969\n",
       "ברנר                 966\n",
       "חוף השרון            930\n",
       "מבואות החרמון        920\n",
       "מגידו                874\n",
       "הר חברון             867\n",
       "יואב                 838\n",
       "שער הנגב             765\n",
       "גן רווה              759\n",
       "בני שמעון            684\n",
       "חבל יבנה             679\n",
       "נחל שורק             632\n",
       "ערבות הירדן          614\n",
       "גדרות                610\n",
       "עמק המעיינות         420\n",
       "רמת נגב              417\n",
       "אל קסום              339\n",
       "אלונה                254\n",
       "חבל אילות            241\n",
       "אבו בסמה             185\n",
       "הערבה התיכונה        183\n",
       "מגילות               168\n",
       "תמר                  105\n",
       "נווה מדבר             93\n",
       "אפעל                  54\n",
       "Name: home_municipal_status_hebrew, dtype: int64"
      ]
     },
     "execution_count": 121,
     "metadata": {},
     "output_type": "execute_result"
    }
   ],
   "source": [
    "print('Most frequent home_municipal_status_hebrew values with number of involved:')\n",
    "fixed['home_municipal_status_hebrew'].value_counts(dropna=False)"
   ]
  },
  {
   "cell_type": "markdown",
   "metadata": {},
   "source": [
    "Home_municipal_status - not useful - missing in majority of the fields, and not matching home_municipal_status_hebrew"
   ]
  },
  {
   "cell_type": "markdown",
   "metadata": {},
   "source": [
    "# home_residence_type"
   ]
  },
  {
   "cell_type": "code",
   "execution_count": 122,
   "metadata": {},
   "outputs": [
    {
     "name": "stdout",
     "output_type": "stream",
     "text": [
      "Different unique values of home_residence_type:\n"
     ]
    },
    {
     "data": {
      "text/plain": [
       "31"
      ]
     },
     "execution_count": 122,
     "metadata": {},
     "output_type": "execute_result"
    }
   ],
   "source": [
    "print('Different unique values of home_residence_type:')\n",
    "fixed['home_residence_type'].value_counts(dropna=False).shape[0]"
   ]
  },
  {
   "cell_type": "code",
   "execution_count": 123,
   "metadata": {},
   "outputs": [
    {
     "name": "stdout",
     "output_type": "stream",
     "text": [
      "Different unique values of home_residence_type_hebrew:\n"
     ]
    },
    {
     "data": {
      "text/plain": [
       "49"
      ]
     },
     "execution_count": 123,
     "metadata": {},
     "output_type": "execute_result"
    }
   ],
   "source": [
    "print('Different unique values of home_residence_type_hebrew:')\n",
    "fixed['home_residence_type_hebrew'].value_counts(dropna=False).shape[0]"
   ]
  },
  {
   "cell_type": "markdown",
   "metadata": {},
   "source": [
    "We see that *home_residence_type* and *home_residence_type_hebrew* don't match!"
   ]
  },
  {
   "cell_type": "code",
   "execution_count": 124,
   "metadata": {},
   "outputs": [
    {
     "name": "stdout",
     "output_type": "stream",
     "text": [
      "Most frequent values of home_residence_type with number of involved\n"
     ]
    },
    {
     "data": {
      "text/plain": [
       "NaN     368351\n",
       "14.0    218695\n",
       "16.0    212684\n",
       "13.0    160880\n",
       "15.0    124450\n",
       "Name: home_residence_type, dtype: int64"
      ]
     },
     "execution_count": 124,
     "metadata": {},
     "output_type": "execute_result"
    }
   ],
   "source": [
    "print('Most frequent values of home_residence_type with number of involved')\n",
    "fixed['home_residence_type'].value_counts(dropna=False).head()"
   ]
  },
  {
   "cell_type": "code",
   "execution_count": 125,
   "metadata": {},
   "outputs": [
    {
     "name": "stdout",
     "output_type": "stream",
     "text": [
      "Number of involved with police investigation with null value for home_residence_type:\n"
     ]
    },
    {
     "data": {
      "text/plain": [
       "23536"
      ]
     },
     "execution_count": 125,
     "metadata": {},
     "output_type": "execute_result"
    }
   ],
   "source": [
    "print('Number of involved with police investigation with null value for home_residence_type:')\n",
    "fixed[fixed['provider_code'] == 1]['home_residence_type'].isnull().sum()"
   ]
  },
  {
   "cell_type": "code",
   "execution_count": 126,
   "metadata": {},
   "outputs": [
    {
     "name": "stdout",
     "output_type": "stream",
     "text": [
      "Number of involved without police investigation with null value for home_residence_type:\n"
     ]
    },
    {
     "data": {
      "text/plain": [
       "344815"
      ]
     },
     "execution_count": 126,
     "metadata": {},
     "output_type": "execute_result"
    }
   ],
   "source": [
    "print('Number of involved without police investigation with null value for home_residence_type:')\n",
    "fixed[fixed['provider_code'] == 3]['home_residence_type'].isnull().sum()"
   ]
  },
  {
   "cell_type": "code",
   "execution_count": 127,
   "metadata": {},
   "outputs": [
    {
     "name": "stdout",
     "output_type": "stream",
     "text": [
      "Different values of home_residence_type_hebrew with number of involved:\n"
     ]
    },
    {
     "data": {
      "text/plain": [
       "NaN                                      368354\n",
       "יישובים יהודיים 499999-200000 תושבים     135439\n",
       "100,000-199,999-תושב, יישוב יהודי        127498\n",
       "20,000-49,999-תושב, יישוב יהודי          109601\n",
       "יישובים יהודיים 49999-20000 תושבים       103083\n",
       "יישובים יהודיים 199999-100000 תושבים      91197\n",
       "יישובים יהודיים 99999-50000 תושבים        69041\n",
       "50,000-99,999-תושב, יישוב יהודי           55409\n",
       "ירושלים                                   45530\n",
       "יישובים יהודיים 500000 תושבים ומעלה       43620\n",
       "יישובים לא יהודיים 49999-20000 תושבים     43144\n",
       "10,000-19,999-תושב, יישוב לא-יהודי        42854\n",
       "תל אביב-יפו                               42122\n",
       "יישובים לא יהודיים 19999-10000 תושבים     38564\n",
       "20,000-49,999-תושב, יישוב לא-יהודי        33760\n",
       "10,000-19,999-תושב, יישוב יהודי           29460\n",
       "2,000-9,999-תושב, יישוב לא-יהודי          28691\n",
       "חיפה                                      25441\n",
       "2,000-9,999-תושב, יישוב יהודי             23755\n",
       "ראשון לציון                               23007\n",
       "יישובים לא יהודיים 9999-5000 תושבים       22751\n",
       "מושבים - לרבות כפרים שיתופיים             20089\n",
       "מושבים (לרבות כפרים שיתופיים)             19820\n",
       "יישובים יהודיים 19999-10000 תושבים        17850\n",
       "אשדוד                                     17447\n",
       "יישובים לא יהודיים 99999-50000 תושבים     14438\n",
       "קיבוצים                                   14235\n",
       "יישובים יהודיים 9999-5000 תושבים          12726\n",
       "יישובים קהילתיים                          12245\n",
       "50,000-99,999-תושב, יישוב לא-יהודי         9106\n",
       "יישובים יהודיים 4999-2000 תושבים           8776\n",
       "יישובים לא יהודיים 4999-2000 תושבים        7760\n",
       "יישובים כפריים אחרים יהודיים               3744\n",
       "יישובים כפריים אחרים, יהודיים              3620\n",
       "שבטי בדווים                                3579\n",
       "יישובים כפריים אחרים לא יהודיים            3284\n",
       "יישובים כפריים אחרים, לא-יהודיים           2766\n",
       "מושבים שיתופיים                            2474\n",
       "ערים ויישובים עירוניים -לא-יהודי-יש\"ע       950\n",
       "יישובים כפריים - לא יהודי - יש\"ע            807\n",
       "סמלים קיבוציים                              268\n",
       "יישובים מוסדיים יהודיים                     211\n",
       "יישובים מוסדיים, יהודיים                    209\n",
       "מקום                                        184\n",
       "יישובים כפריים                               40\n",
       "מחנות פליטים - לא יהודי - יש\"ע               12\n",
       "יישובים מוסדיים, לא-יהודיים                   2\n",
       "מוקד תעסוקה                                   1\n",
       "מחנות פליטים עירוניים                         1\n",
       "Name: home_residence_type_hebrew, dtype: int64"
      ]
     },
     "execution_count": 127,
     "metadata": {},
     "output_type": "execute_result"
    }
   ],
   "source": [
    "print('Different values of home_residence_type_hebrew with number of involved:')\n",
    "fixed['home_residence_type_hebrew'].value_counts(dropna=False)"
   ]
  },
  {
   "cell_type": "markdown",
   "metadata": {},
   "source": [
    "# hospital_time"
   ]
  },
  {
   "cell_type": "code",
   "execution_count": 129,
   "metadata": {},
   "outputs": [
    {
     "name": "stdout",
     "output_type": "stream",
     "text": [
      "Different values of hospital_time with number of involved:\n"
     ]
    },
    {
     "data": {
      "text/plain": [
       "NaN    1626451\n",
       "2.0      35618\n",
       "1.0      16896\n",
       "Name: hospital_time, dtype: int64"
      ]
     },
     "execution_count": 129,
     "metadata": {},
     "output_type": "execute_result"
    }
   ],
   "source": [
    "print('Different values of hospital_time with number of involved:')\n",
    "fixed['hospital_time'].value_counts(dropna=False)"
   ]
  },
  {
   "cell_type": "code",
   "execution_count": 130,
   "metadata": {},
   "outputs": [
    {
     "name": "stdout",
     "output_type": "stream",
     "text": [
      "Different values of hospital_time_hebrew with number of involved:\n"
     ]
    },
    {
     "data": {
      "text/plain": [
       "NaN                      1626451\n",
       "\\t  אשפוז מעל 24 שעות      35618\n",
       "\\t אשפוז עד 24 שעות\\t      16896\n",
       "Name: hospital_time_hebrew, dtype: int64"
      ]
     },
     "execution_count": 130,
     "metadata": {},
     "output_type": "execute_result"
    }
   ],
   "source": [
    "print('Different values of hospital_time_hebrew with number of involved:')\n",
    "fixed['hospital_time_hebrew'].value_counts(dropna=False)"
   ]
  },
  {
   "cell_type": "markdown",
   "metadata": {},
   "source": [
    "Not very useful since doesn't appear in vast majority of cases"
   ]
  },
  {
   "cell_type": "markdown",
   "metadata": {},
   "source": [
    "# medical_type"
   ]
  },
  {
   "cell_type": "code",
   "execution_count": 131,
   "metadata": {},
   "outputs": [
    {
     "name": "stdout",
     "output_type": "stream",
     "text": [
      "Different values of medical_type with number of involved:\n"
     ]
    },
    {
     "data": {
      "text/plain": [
       "NaN    1626451\n",
       "1.0      32969\n",
       "2.0      10342\n",
       "3.0       4586\n",
       "4.0       4287\n",
       "9.0        330\n",
       "Name: medical_type, dtype: int64"
      ]
     },
     "execution_count": 131,
     "metadata": {},
     "output_type": "execute_result"
    }
   ],
   "source": [
    "print('Different values of medical_type with number of involved:')\n",
    "fixed['medical_type'].value_counts(dropna=False)"
   ]
  },
  {
   "cell_type": "code",
   "execution_count": 132,
   "metadata": {},
   "outputs": [
    {
     "name": "stdout",
     "output_type": "stream",
     "text": [
      "Different values of medical_type_hebrew with number of involved:\n"
     ]
    },
    {
     "data": {
      "text/plain": [
       "NaN                      1626451\n",
       "\\t( קל (1-8\\t              32969\n",
       "\\t(בינוני (9-15\\t          10342\n",
       "\\t(קשה (16-24\\t             4586\n",
       "\\t( קשה מאוד (25-75\\t       4287\n",
       "\\t לא  ידוע\\t                330\n",
       "Name: medical_type_hebrew, dtype: int64"
      ]
     },
     "execution_count": 132,
     "metadata": {},
     "output_type": "execute_result"
    }
   ],
   "source": [
    "print('Different values of medical_type_hebrew with number of involved:')\n",
    "fixed['medical_type_hebrew'].value_counts(dropna=False)"
   ]
  },
  {
   "cell_type": "markdown",
   "metadata": {},
   "source": [
    "Not extemely useful since missing in vast majority of cases"
   ]
  },
  {
   "cell_type": "markdown",
   "metadata": {},
   "source": [
    "# release_dest"
   ]
  },
  {
   "cell_type": "code",
   "execution_count": 133,
   "metadata": {},
   "outputs": [
    {
     "name": "stdout",
     "output_type": "stream",
     "text": [
      "Different values of release_dest with number of involved:\n"
     ]
    },
    {
     "data": {
      "text/plain": [
       "NaN    1626451\n",
       "1.0      44701\n",
       "3.0       4927\n",
       "2.0       1510\n",
       "4.0        895\n",
       "5.0        481\n",
       "Name: release_dest, dtype: int64"
      ]
     },
     "execution_count": 133,
     "metadata": {},
     "output_type": "execute_result"
    }
   ],
   "source": [
    "print('Different values of release_dest with number of involved:')\n",
    "fixed['release_dest'].value_counts(dropna=False)"
   ]
  },
  {
   "cell_type": "code",
   "execution_count": 134,
   "metadata": {},
   "outputs": [
    {
     "name": "stdout",
     "output_type": "stream",
     "text": [
      "Different values of release_dest_hebrew with number of involved:\n"
     ]
    },
    {
     "data": {
      "text/plain": [
       "NaN                              1626451\n",
       "\\t בית\\t                           44701\n",
       "\\t מוסד שיקומי/ מחלקה שיקומית       4927\n",
       "\\t בית חולים אחר                    1510\n",
       "\\t מוות\\t                            895\n",
       "\\t אחר\\t                             481\n",
       "Name: release_dest_hebrew, dtype: int64"
      ]
     },
     "execution_count": 134,
     "metadata": {},
     "output_type": "execute_result"
    }
   ],
   "source": [
    "print('Different values of release_dest_hebrew with number of involved:')\n",
    "fixed['release_dest_hebrew'].value_counts(dropna=False)"
   ]
  },
  {
   "cell_type": "markdown",
   "metadata": {},
   "source": [
    "Possibly not useful since missing a lot of values"
   ]
  },
  {
   "cell_type": "markdown",
   "metadata": {},
   "source": [
    "# safety_measures_use"
   ]
  },
  {
   "cell_type": "code",
   "execution_count": 135,
   "metadata": {},
   "outputs": [
    {
     "name": "stdout",
     "output_type": "stream",
     "text": [
      "Different values of safety_measures_use with number of involved:\n"
     ]
    },
    {
     "data": {
      "text/plain": [
       "NaN    1621321\n",
       "1.0      40189\n",
       "3.0      12192\n",
       "2.0       5263\n",
       "Name: safety_measures_use, dtype: int64"
      ]
     },
     "execution_count": 135,
     "metadata": {},
     "output_type": "execute_result"
    }
   ],
   "source": [
    "print('Different values of safety_measures_use with number of involved:')\n",
    "fixed['safety_measures_use'].value_counts(dropna=False)"
   ]
  },
  {
   "cell_type": "code",
   "execution_count": 153,
   "metadata": {},
   "outputs": [
    {
     "data": {
      "text/plain": [
       "NaN              1621321\n",
       "\\t כן\\t            40189\n",
       "\\t לא  ידוע\\t      12192\n",
       "\\t לא\\t             5263\n",
       "Name: safety_measures_use_hebrew, dtype: int64"
      ]
     },
     "execution_count": 153,
     "metadata": {},
     "output_type": "execute_result"
    }
   ],
   "source": [
    "print('Different values of safety_measures_use_hebrew with number of involved:')\n",
    "fixed['safety_measures_use_hebrew'].value_counts(dropna=False)"
   ]
  },
  {
   "cell_type": "markdown",
   "metadata": {},
   "source": [
    "Not very useful since missing in vast majority of cases"
   ]
  },
  {
   "cell_type": "markdown",
   "metadata": {},
   "source": [
    "# late_deceased"
   ]
  },
  {
   "cell_type": "code",
   "execution_count": 136,
   "metadata": {},
   "outputs": [
    {
     "name": "stdout",
     "output_type": "stream",
     "text": [
      "Number of involved with different late_deceased values:\n"
     ]
    },
    {
     "data": {
      "text/plain": [
       "NaN    1674993\n",
       "1.0       3826\n",
       "2.0        146\n",
       "Name: late_deceased, dtype: int64"
      ]
     },
     "execution_count": 136,
     "metadata": {},
     "output_type": "execute_result"
    }
   ],
   "source": [
    "print('Number of involved with different late_deceased values:')\n",
    "fixed['late_deceased'].value_counts(dropna=False)"
   ]
  },
  {
   "cell_type": "code",
   "execution_count": 137,
   "metadata": {},
   "outputs": [
    {
     "name": "stdout",
     "output_type": "stream",
     "text": [
      "Number of involved with different late_deceased_hebrew values:\n"
     ]
    },
    {
     "data": {
      "text/plain": [
       "NaN                 1674993\n",
       "\\tפטירה רגילה\\t        3826\n",
       "\\tפטירה מאוחרת\\t        146\n",
       "Name: late_deceased_hebrew, dtype: int64"
      ]
     },
     "execution_count": 137,
     "metadata": {},
     "output_type": "execute_result"
    }
   ],
   "source": [
    "print('Number of involved with different late_deceased_hebrew values:')\n",
    "fixed['late_deceased_hebrew'].value_counts(dropna=False)"
   ]
  },
  {
   "cell_type": "code",
   "execution_count": 138,
   "metadata": {},
   "outputs": [
    {
     "name": "stdout",
     "output_type": "stream",
     "text": [
      "Number of involved with different injury_severity values:\n"
     ]
    },
    {
     "data": {
      "text/plain": [
       "3.0    1024735\n",
       "NaN     629760\n",
       "2.0      20644\n",
       "1.0       3826\n",
       "Name: injury_severity, dtype: int64"
      ]
     },
     "execution_count": 138,
     "metadata": {},
     "output_type": "execute_result"
    }
   ],
   "source": [
    "print('Number of involved with different injury_severity values:')\n",
    "fixed['injury_severity'].value_counts(dropna=False)"
   ]
  },
  {
   "cell_type": "markdown",
   "metadata": {},
   "source": [
    "Seems to be same number 3826 in both lists, but it seems in injury_severity doesn't take into account late death"
   ]
  },
  {
   "cell_type": "markdown",
   "metadata": {},
   "source": [
    "# car_id, involve_id"
   ]
  },
  {
   "cell_type": "code",
   "execution_count": 140,
   "metadata": {},
   "outputs": [
    {
     "name": "stdout",
     "output_type": "stream",
     "text": [
      "Number of involved per different car_id values:\n"
     ]
    },
    {
     "data": {
      "text/plain": [
       "1.0     906964\n",
       "2.0     606584\n",
       "NaN      92148\n",
       "3.0      61063\n",
       "4.0       9126\n",
       "5.0       1958\n",
       "6.0        553\n",
       "7.0        233\n",
       "8.0        115\n",
       "9.0         84\n",
       "10.0        51\n",
       "11.0        26\n",
       "14.0        12\n",
       "12.0         8\n",
       "13.0         6\n",
       "15.0         5\n",
       "16.0         4\n",
       "17.0         3\n",
       "18.0         3\n",
       "19.0         3\n",
       "20.0         3\n",
       "21.0         2\n",
       "27.0         2\n",
       "24.0         2\n",
       "30.0         1\n",
       "22.0         1\n",
       "23.0         1\n",
       "25.0         1\n",
       "26.0         1\n",
       "28.0         1\n",
       "29.0         1\n",
       "Name: car_id, dtype: int64"
      ]
     },
     "execution_count": 140,
     "metadata": {},
     "output_type": "execute_result"
    }
   ],
   "source": [
    "print('Number of involved per different car_id values:')\n",
    "fixed['car_id'].value_counts(dropna=False)"
   ]
  },
  {
   "cell_type": "code",
   "execution_count": 141,
   "metadata": {},
   "outputs": [
    {
     "name": "stdout",
     "output_type": "stream",
     "text": [
      "Number of involved per different involve_id values:\n"
     ]
    },
    {
     "data": {
      "text/plain": [
       "1     710423\n",
       "2     634441\n",
       "3     198861\n",
       "4      73124\n",
       "5      32647\n",
       "6      14440\n",
       "7       6075\n",
       "8       3055\n",
       "9       1775\n",
       "10      1045\n",
       "11       668\n",
       "12       458\n",
       "13       331\n",
       "14       251\n",
       "15       185\n",
       "16       147\n",
       "17       113\n",
       "18        96\n",
       "19        79\n",
       "20        72\n",
       "21        60\n",
       "22        51\n",
       "23        48\n",
       "24        43\n",
       "25        39\n",
       "26        35\n",
       "27        31\n",
       "28        29\n",
       "29        27\n",
       "30        23\n",
       "       ...  \n",
       "50         6\n",
       "51         5\n",
       "52         4\n",
       "53         4\n",
       "55         3\n",
       "56         3\n",
       "54         3\n",
       "57         3\n",
       "60         2\n",
       "59         2\n",
       "58         2\n",
       "69         1\n",
       "77         1\n",
       "76         1\n",
       "75         1\n",
       "74         1\n",
       "73         1\n",
       "72         1\n",
       "71         1\n",
       "70         1\n",
       "78         1\n",
       "68         1\n",
       "67         1\n",
       "66         1\n",
       "65         1\n",
       "64         1\n",
       "63         1\n",
       "62         1\n",
       "61         1\n",
       "79         1\n",
       "Name: involve_id, Length: 79, dtype: int64"
      ]
     },
     "execution_count": 141,
     "metadata": {},
     "output_type": "execute_result"
    }
   ],
   "source": [
    "print('Number of involved per different involve_id values:')\n",
    "fixed['involve_id'].value_counts(dropna=False)"
   ]
  },
  {
   "cell_type": "markdown",
   "metadata": {},
   "source": [
    "Seems that were both are deleted (we don't get the original values) and values are meaningless ?"
   ]
  },
  {
   "cell_type": "markdown",
   "metadata": {},
   "source": [
    "# accident_year, accident_month"
   ]
  },
  {
   "cell_type": "code",
   "execution_count": 142,
   "metadata": {},
   "outputs": [
    {
     "name": "stdout",
     "output_type": "stream",
     "text": [
      "Number of involved in accidents per year\n"
     ]
    },
    {
     "data": {
      "text/plain": [
       "2008    185825\n",
       "2009    184652\n",
       "2010    170300\n",
       "2011    152066\n",
       "2015    145531\n",
       "2012    145227\n",
       "2016    144822\n",
       "2013    144818\n",
       "2017    139322\n",
       "2014    137158\n",
       "2018    129244\n",
       "Name: accident_year, dtype: int64"
      ]
     },
     "execution_count": 142,
     "metadata": {},
     "output_type": "execute_result"
    }
   ],
   "source": [
    "print('Number of involved in accidents per year')\n",
    "fixed['accident_year'].value_counts(dropna=False)"
   ]
  },
  {
   "cell_type": "code",
   "execution_count": 143,
   "metadata": {},
   "outputs": [
    {
     "name": "stdout",
     "output_type": "stream",
     "text": [
      "Number of involved in accidents per month\n"
     ]
    },
    {
     "data": {
      "text/plain": [
       "1     144626\n",
       "2     132965\n",
       "3     146202\n",
       "4     135725\n",
       "5     148675\n",
       "6     147511\n",
       "7     146144\n",
       "8     144766\n",
       "9     132872\n",
       "10    136313\n",
       "11    133290\n",
       "12    129876\n",
       "Name: accident_month, dtype: int64"
      ]
     },
     "execution_count": 143,
     "metadata": {},
     "output_type": "execute_result"
    }
   ],
   "source": [
    "print('Number of involved in accidents per month')\n",
    "fixed['accident_month'].value_counts(dropna=False).sort_index()"
   ]
  },
  {
   "cell_type": "code",
   "execution_count": 144,
   "metadata": {},
   "outputs": [
    {
     "data": {
      "text/plain": [
       "Text(0.5, 1.0, 'Number of involved in accidents per month')"
      ]
     },
     "execution_count": 144,
     "metadata": {},
     "output_type": "execute_result"
    },
    {
     "data": {
      "image/png": "[encoded data removed]",
      "text/plain": [
       "<Figure size 432x288 with 1 Axes>"
      ]
     },
     "metadata": {
      "needs_background": "light"
     },
     "output_type": "display_data"
    }
   ],
   "source": [
    "ax = sns.countplot(fixed['accident_month'])\n",
    "ax.set_title('Number of involved in accidents per month')"
   ]
  },
  {
   "cell_type": "code",
   "execution_count": 145,
   "metadata": {},
   "outputs": [
    {
     "data": {
      "text/plain": [
       "Text(0.5, 1.0, 'Number of killed in accidents per month')"
      ]
     },
     "execution_count": 145,
     "metadata": {},
     "output_type": "execute_result"
    },
    {
     "data": {
      "image/png": "[encoded data removed]",
      "text/plain": [
       "<Figure size 432x288 with 1 Axes>"
      ]
     },
     "metadata": {
      "needs_background": "light"
     },
     "output_type": "display_data"
    }
   ],
   "source": [
    "ax = sns.countplot(data=fixed[fixed['injury_severity']==1], x='accident_month')\n",
    "ax.set_title('Number of killed in accidents per month')"
   ]
  },
  {
   "cell_type": "markdown",
   "metadata": {},
   "source": [
    "# Connection between police investigation and injury severity"
   ]
  },
  {
   "cell_type": "code",
   "execution_count": 146,
   "metadata": {},
   "outputs": [
    {
     "name": "stdout",
     "output_type": "stream",
     "text": [
      "Number killed per provider_code:\n"
     ]
    },
    {
     "data": {
      "text/plain": [
       "provider_code\n",
       "1    3826\n",
       "Name: provider_code, dtype: int64"
      ]
     },
     "execution_count": 146,
     "metadata": {},
     "output_type": "execute_result"
    }
   ],
   "source": [
    "print('Number killed per provider_code:')\n",
    "fixed[fixed['injury_severity'] == 1].groupby(['provider_code'])['provider_code'].count()"
   ]
  },
  {
   "cell_type": "code",
   "execution_count": 148,
   "metadata": {},
   "outputs": [
    {
     "name": "stdout",
     "output_type": "stream",
     "text": [
      "Number severely injured per provider_code:\n"
     ]
    },
    {
     "data": {
      "text/plain": [
       "provider_code\n",
       "1    20644\n",
       "Name: provider_code, dtype: int64"
      ]
     },
     "execution_count": 148,
     "metadata": {},
     "output_type": "execute_result"
    }
   ],
   "source": [
    "print('Number severely injured per provider_code:')\n",
    "fixed[fixed['injury_severity'] == 2].groupby(['provider_code'])['provider_code'].count()"
   ]
  },
  {
   "cell_type": "code",
   "execution_count": 149,
   "metadata": {},
   "outputs": [
    {
     "name": "stdout",
     "output_type": "stream",
     "text": [
      "Number lightly injured per provider_code:\n"
     ]
    },
    {
     "data": {
      "text/plain": [
       "provider_code\n",
       "1    268210\n",
       "3    756525\n",
       "Name: provider_code, dtype: int64"
      ]
     },
     "execution_count": 149,
     "metadata": {},
     "output_type": "execute_result"
    }
   ],
   "source": [
    "print('Number lightly injured per provider_code:')\n",
    "fixed[fixed['injury_severity'] == 3].groupby(['provider_code'])['provider_code'].count()"
   ]
  },
  {
   "cell_type": "markdown",
   "metadata": {},
   "source": [
    "Seems that every time there is a serious injury, police investigates"
   ]
  },
  {
   "cell_type": "markdown",
   "metadata": {},
   "source": [
    "# Numbers and basic conclusions"
   ]
  },
  {
   "cell_type": "markdown",
   "metadata": {},
   "source": [
    "- 1,678,965 involved\n",
    "- 710,423 accidents\n",
    "- Number of involved per accident:\n",
    "  - most 2-3, 1 and 4 also common, sometimes up to ~80 involved\n",
    "  - 60% have 2 people involved, 90% have 3 or less, 95% have 4 or less, 99% have 6 or less\n",
    "- About 25.0 % of accidents get investigated by the police\n",
    "- Drivers are round 75.0% of involved in accidents, Injured are round 62.0% of involved in accidents\n",
    "  - Number of injured - 73% - 1 injured, 16% - 2 injured, 6% - 3 injured, 90% 1 or 2, 95% 2 or less, 98% 3 or less, 99% 5 or less\n",
    "  - Seems that every accident has an injured, we don’t get other data\n",
    "- 9% of accidents happen with drivers in their first 2 years after getting a license, 20% in their first 5 years, and a third of accidents happen with drivers in their first 9 years\n",
    "- Age group\n",
    "  - 21% don’t have age group info, vast majority when not investigated by police Number of missing age group: total: 356515, investigated by police: 16366, not investigated by police: 340149\n",
    "  - Almost 10% of injured are 14 and younger, 7% are younger than 19\n",
    "- Sex\n",
    "  - there are many more men involved than women (almost twice as much)\n",
    "  - most majority of men that are involved are driving, women are slightly more drivers than non-drivers - perhaps many of them are drivers that are not injured\n",
    "  - Larger part of women are injured than men - perhaps because there are many more men drivers (will be involved even if not injured), women are less drivers, and will appear in the statistics more if injured\n",
    "- Safety information appears only in 2.7% of cases - not useful\n",
    "- Yishuv\n",
    "  - Out of all involved, there are 1557 involve_yishuv_symbol unique values, out of which NaN: 368345\n",
    "  - Out of all involved, there are 1265 involve_yishuv_name unique values, out of which NaN: 370302\n",
    "- When someone is injured, there is always severity, so can count on this value\n",
    "- Number of injured/killed:\n",
    "  - 80,000 get injured every year in traffic accidents, but there is a trend going down, it was 120,000 10 years ago!!!\n",
    "  - 2000 get seriously injured per year, in the last 10 years, first there was a drop, but since 2011 it again climbs up\n",
    "  - More than 300 per year get killed, with a big drop in 2012 and climbing since with a drop again in 2017/2018\n",
    "  - Number of lightly injured - seems that got dropped seriously in last 10 years, but maybe it’s more how injured are being counted\n",
    "- Out of people killed\n",
    "  - 32% are pedenstrians (9% of injured)\n",
    "  - 12% are motorcycle riders (8% of injured)\n",
    "  - 4% are bicycle riders (1.5% of injured)\n",
    "  - **Total:** almost 40% are not in cars\n",
    "- Out of people seriously injured\n",
    "  - 31% are pedenstrians (9% of injured)\n",
    "  - 19% are motorcycle riders (8% of injured)\n",
    "  - 4% are bicycle riders (1.5% of injured)\n",
    "  - **Total:** almost 45% are not in cars\n",
    "- Seems that a month is not a good predictor of people being injured, seems that summer months are slightly worse, also when looking at number of killed per month\n",
    "- Police investigated all accidents with killed or severity injured, but only ~25% of accidents with light injuries\n"
   ]
  },
  {
   "cell_type": "markdown",
   "metadata": {},
   "source": [
    "# Conclusions about usefulness of different fields"
   ]
  },
  {
   "cell_type": "markdown",
   "metadata": {},
   "source": [
    "- To be removed\n",
    "  - Safety_measures - missing in vast majority (98%)\n",
    "  - Home_municipal_status - missing in majority of the fields, and not matching home_municipal_status_hebrew\n",
    "  - Home_residence_type - split into a lot of values, missing when no police report, home_residence_type and home_residence_type_hebrew don’t match ?\n",
    "  - Hospital_time - NaN in vast majority of cases ?\n",
    "  - Medical_type - NaN in vast majority of cases ?\n",
    "  - Release_dest - NaN in vast majority of cases ?\n",
    "  - Safety_measures_use - missing in vast majority of cases\n",
    "- To be careful with\n",
    "  - license_acquiring_date - missing in ½ the cases - mostly not investigated\n",
    "  - age_group - missing 21% of the time, most when not investigated\n",
    "  - involve_yishuv_symbol / involve_yishuv_name - seem not to fully match (see numbers)\n",
    "  - population_type - a little NaNs\n",
    "  - Home_region - a lot of NaNs - mostly when no police report\n",
    "  - Home_district - a lot of NaNs - mostly when no police report\n",
    "  - home_natural_area and home_natural_area_hebrew don’t fully match\n",
    "Late_deceased - has some more info than injury_severity=1\n",
    "- To be cleaned / fixed\n",
    "  - license_acquiring_date - Years 1911, 3055, 4444 don't make sense and need to be cleaned out\n",
    "  - Age_group_hebrew - 2 values of age_group are split into 2 values each of age_group_hebrew"
   ]
  }
 ],
 "metadata": {
  "kernelspec": {
   "display_name": "Python [conda env:root] *",
   "language": "python",
   "name": "conda-root-py"
  },
  "language_info": {
   "codemirror_mode": {
    "name": "ipython",
    "version": 3
   },
   "file_extension": ".py",
   "mimetype": "text/x-python",
   "name": "python",
   "nbconvert_exporter": "python",
   "pygments_lexer": "ipython3",
   "version": "3.7.3"
  }
 },
 "nbformat": 4,
 "nbformat_minor": 2
}
